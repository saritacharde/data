{
 "cells": [
  {
   "cell_type": "markdown",
   "metadata": {
    "colab_type": "text",
    "id": "XfnQYVMtJhQD"
   },
   "source": [
    "![alt text](https://i.imgur.com/1WaY7aA.png)\n",
    "\n",
    "\n",
    "---\n",
    "\n",
    "\n",
    "\n",
    "---\n",
    "\n"
   ]
  },
  {
   "cell_type": "markdown",
   "metadata": {
    "colab_type": "text",
    "id": "5dCt8XbjJhQG"
   },
   "source": [
    "# Lab 2.2.2 \n",
    "# *Mining Social Media with Twitter*"
   ]
  },
  {
   "cell_type": "markdown",
   "metadata": {
    "colab_type": "text",
    "id": "b5VfS9hhJhQI"
   },
   "source": [
    "## The Twitter API and Tweepy Package"
   ]
  },
  {
   "cell_type": "markdown",
   "metadata": {
    "colab_type": "text",
    "id": "lF2z-w5uJhQK"
   },
   "source": [
    "The Twitter API provides access to tweets and comments, and allows an application to post tweets to the user's timeline. \n",
    "\n",
    "Twitter requires developers to create and authenticate an app before they can use the API. As of recent policy changes, however, new developers must be approved before they can create an app. There is no indication of the waiting period for approval."
   ]
  },
  {
   "cell_type": "markdown",
   "metadata": {
    "colab_type": "text",
    "id": "M0wxJ8HNJhQM"
   },
   "source": [
    "### 1. Apply for Developer Access\n",
    "\n",
    "Go to https://blog.twitter.com/developer/en_us/topics/tools/2018/new-developer-requirements-to-protect-our-platform.html\n",
    "and read the advice.\n",
    "![image.png](attachment:image.png)"
   ]
  },
  {
   "cell_type": "markdown",
   "metadata": {
    "colab_type": "text",
    "id": "tICSKwL1JhQN"
   },
   "source": [
    "Apply at https://developer.twitter.com/en/apply-for-access.html\n",
    "![image.png](attachment:image.png)"
   ]
  },
  {
   "cell_type": "markdown",
   "metadata": {
    "colab_type": "text",
    "id": "M4-znQaaJhQP"
   },
   "source": [
    "Then go to https://developer.twitter.com/en/review every day until you see whatever comes after this: \n",
    "![image.png](attachment:image.png)"
   ]
  },
  {
   "cell_type": "markdown",
   "metadata": {
    "colab_type": "text",
    "id": "NMeZ70IZJhQR"
   },
   "source": [
    "### 2. Create Your Twitter App\n",
    "![image.png](attachment:image.png)"
   ]
  },
  {
   "cell_type": "markdown",
   "metadata": {
    "colab_type": "text",
    "id": "HpWMHz9NJhQS"
   },
   "source": [
    "### 3. Load Python Libraries"
   ]
  },
  {
   "cell_type": "code",
   "execution_count": 9,
   "metadata": {},
   "outputs": [
    {
     "name": "stdout",
     "output_type": "stream",
     "text": [
      "Requirement already satisfied: tweepy in c:\\users\\praty\\anaconda3\\lib\\site-packages (3.7.0)\n",
      "Requirement already satisfied: PySocks>=1.5.7 in c:\\users\\praty\\anaconda3\\lib\\site-packages (from tweepy) (1.6.8)\n",
      "Requirement already satisfied: six>=1.10.0 in c:\\users\\praty\\anaconda3\\lib\\site-packages (from tweepy) (1.12.0)\n",
      "Requirement already satisfied: requests>=2.11.1 in c:\\users\\praty\\anaconda3\\lib\\site-packages (from tweepy) (2.21.0)\n",
      "Requirement already satisfied: requests-oauthlib>=0.7.0 in c:\\users\\praty\\anaconda3\\lib\\site-packages (from tweepy) (1.2.0)\n",
      "Requirement already satisfied: certifi>=2017.4.17 in c:\\users\\praty\\anaconda3\\lib\\site-packages (from requests>=2.11.1->tweepy) (2019.3.9)\n",
      "Requirement already satisfied: idna<2.9,>=2.5 in c:\\users\\praty\\anaconda3\\lib\\site-packages (from requests>=2.11.1->tweepy) (2.8)\n",
      "Requirement already satisfied: chardet<3.1.0,>=3.0.2 in c:\\users\\praty\\anaconda3\\lib\\site-packages (from requests>=2.11.1->tweepy) (3.0.4)\n",
      "Requirement already satisfied: urllib3<1.25,>=1.21.1 in c:\\users\\praty\\anaconda3\\lib\\site-packages (from requests>=2.11.1->tweepy) (1.24.1)\n",
      "Requirement already satisfied: oauthlib>=3.0.0 in c:\\users\\praty\\anaconda3\\lib\\site-packages (from requests-oauthlib>=0.7.0->tweepy) (3.0.2)\n"
     ]
    }
   ],
   "source": [
    "!pip install tweepy"
   ]
  },
  {
   "cell_type": "code",
   "execution_count": 26,
   "metadata": {
    "colab": {},
    "colab_type": "code",
    "id": "16hb8EpNJhQU"
   },
   "outputs": [],
   "source": [
    "import tweepy\n",
    "import json\n",
    "import pprint"
   ]
  },
  {
   "cell_type": "markdown",
   "metadata": {
    "colab_type": "text",
    "id": "p7W0se6_JhQX"
   },
   "source": [
    "### 4. Authenticate from your Python script"
   ]
  },
  {
   "cell_type": "markdown",
   "metadata": {
    "colab_type": "text",
    "id": "mJfe55dVJhQY"
   },
   "source": [
    "You could assign your authentication details explicitly, as follows:"
   ]
  },
  {
   "cell_type": "code",
   "execution_count": 21,
   "metadata": {
    "colab": {},
    "colab_type": "code",
    "id": "aygW7a3eJhQZ"
   },
   "outputs": [],
   "source": [
    "my_consumer_key = 'CotX8feH947emiM9JSCp99JJ3'      # your consumer key (string) goes in here\n",
    "my_consumer_secret = 'FSV9CP4tzxbwgR2tObWu97sWf3fJSEogpQfIyrNdoCl5kebDDq'   # your consumer secret key (string) goes in here\n",
    "my_access_token = '1149103445351096320-tX4R6qLUuwfu5FUMWbXiU92FQE2V04'      # your access token (string goes in here\n",
    "access_token_secret = 'bq0NLbIsnau6ty2Y2PBJOUhFUzmAM0dpJkbn2YgXIxAlU'  # your access token secret (string) goes in here"
   ]
  },
  {
   "cell_type": "markdown",
   "metadata": {
    "colab_type": "text",
    "id": "7LXwmSzOJhQe"
   },
   "source": [
    "A better way would be to store these details externally, so they are not displayed in the notebook:\n",
    "\n",
    "- create a file called \"auth_twitter.json\" in your \"notebooks\" directory, and save your credentials there in JSON format:\n",
    "\n",
    "`{   \"my_consumer_key\": \"your consumer key (string) goes in here\",` <br>\n",
    "&nbsp;&nbsp;&nbsp;&nbsp;&nbsp;&nbsp;&nbsp;&nbsp;` \"my_consumer_secret\": \"your consumer secret key (string) goes in here\",` <br>\n",
    "&nbsp;&nbsp;&nbsp;&nbsp;&nbsp;&nbsp;&nbsp;&nbsp;`\"your access token (string goes in here\",` <br>\n",
    "&nbsp;&nbsp;&nbsp;&nbsp;&nbsp;&nbsp;&nbsp;&nbsp;`\"my_access_token_secret\": \"your access token secret (string) goes in here\"` <br>\n",
    "`}`\n",
    "\n",
    "(Nb. Parsers are very fussy. Make sure each key:value pair has a comma after it except the last one!)  \n",
    "\n",
    "Use the following code to load the credentials:  "
   ]
  },
  {
   "cell_type": "markdown",
   "metadata": {},
   "source": [
    "below created a dict with key values but later fetchthe values"
   ]
  },
  {
   "cell_type": "markdown",
   "metadata": {},
   "source": [
    "auth_twitter = {}  \n",
    "auth_twitter['credentials'] = []  \n",
    "auth_twitter['credentials'].append({  \n",
    "    \"my_consumer_key\":'CotX8feH947emiM9JSCp99JJ3', \n",
    "           \"my_consumer_secret\":'FSV9CP4tzxbwgR2tObWu97sWf3fJSEogpQfIyrNdoCl5kebDDq',\n",
    "          \"my_access_token\":'1149103445351096320-tX4R6qLUuwfu5FUMWbXiU92FQE2V04',\n",
    "    \"access_token_secret\" : 'bq0NLbIsnau6ty2Y2PBJOUhFUzmAM0dpJkbn2YgXIxAlU'\n",
    "})\n",
    "with open('auth_twitter.txt', 'w') as outfile:  \n",
    "    json.dump(auth_twitter, outfile)"
   ]
  },
  {
   "cell_type": "code",
   "execution_count": 31,
   "metadata": {
    "colab": {},
    "colab_type": "code",
    "id": "kh2srKpzJhQh"
   },
   "outputs": [
    {
     "data": {
      "text/plain": [
       "'C:\\\\Users\\\\praty\\\\Documents\\\\DSIA\\\\DSIA-SYD-FT-Projects-201907\\\\Sarita\\\\Labs\\\\LABS 2'"
      ]
     },
     "execution_count": 31,
     "metadata": {},
     "output_type": "execute_result"
    }
   ],
   "source": [
    "pwd()  # make sure your working directory is where the file is"
   ]
  },
  {
   "cell_type": "code",
   "execution_count": 40,
   "metadata": {
    "colab": {},
    "colab_type": "code",
    "id": "uR8Vchz7JhQm"
   },
   "outputs": [],
   "source": [
    "#path_auth = 'auth_twitter.json'\n",
    "#auth = json.loads(open(path_auth).read())\n",
    "#pp = pprint.PrettyPrinter(indent=4)\n",
    "# For debugging only:\n",
    "with open('auth_twitter.txt') as json_file:  \n",
    "    auth_twitter = json.load(json_file)\n",
    "    for p in auth_twitter['credentials']:\n",
    "        my_consumer_key= p['my_consumer_key']\n",
    "        my_consumer_secret=p['my_consumer_secret']\n",
    "        my_access_token=p['my_access_token']\n",
    "        access_token_secret=p['access_token_secret']\n",
    "        \n",
    "#pp.pprint(auth)\n",
    "#we have marked down the one above as we have called the values here and checked\n"
   ]
  },
  {
   "cell_type": "code",
   "execution_count": 41,
   "metadata": {},
   "outputs": [
    {
     "data": {
      "text/plain": [
       "'CotX8feH947emiM9JSCp99JJ3'"
      ]
     },
     "execution_count": 41,
     "metadata": {},
     "output_type": "execute_result"
    }
   ],
   "source": [
    "my_consumer_key"
   ]
  },
  {
   "cell_type": "markdown",
   "metadata": {
    "colab_type": "text",
    "id": "GPRmYZigJhQp"
   },
   "source": [
    "Security considerations: \n",
    "- this method only keeps your credentials invisible as long as nobody accesses this notebook while it's running on your computer \n",
    "- if you wanted another user to have access to the executable notebook without divulging your credentials you should set up an OAuth 2.0 workflow to let them obtain and apply their own API tokens when using your app\n",
    "- if you just want to share your analyses, you could use a separate script (which you don't share) to fetch the data and save it locally, then use a second notebook (with no API access) to load and analyse the locally stored data"
   ]
  },
  {
   "cell_type": "markdown",
   "metadata": {
    "colab_type": "text",
    "id": "Ln30k0pZJhQp"
   },
   "source": [
    "### 5. Exploring the API"
   ]
  },
  {
   "cell_type": "markdown",
   "metadata": {
    "colab_type": "text",
    "id": "6fsc0U1nJhQq"
   },
   "source": [
    "Here is how to connect to Twitter using the Tweepy library:"
   ]
  },
  {
   "cell_type": "code",
   "execution_count": 48,
   "metadata": {
    "colab": {},
    "colab_type": "code",
    "id": "-y_4GBx1JhQr"
   },
   "outputs": [],
   "source": [
    "auth = tweepy.OAuthHandler(my_consumer_key, my_consumer_secret)\n",
    "auth.set_access_token(my_access_token, access_token_secret)\n",
    "api = tweepy.API(auth)"
   ]
  },
  {
   "cell_type": "markdown",
   "metadata": {
    "colab_type": "text",
    "id": "wSKzR9LdJhQu"
   },
   "source": [
    "In the next cell, put the cursor after the '.' and hit the [tab] key to see the available members and methods in the response object:"
   ]
  },
  {
   "cell_type": "code",
   "execution_count": 49,
   "metadata": {
    "colab": {},
    "colab_type": "code",
    "id": "BfnAOR2bJhQv"
   },
   "outputs": [
    {
     "data": {
      "text/plain": [
       "{'id': 16198940,\n",
       " 'id_str': '16198940',\n",
       " 'name': 'ABC Sydney',\n",
       " 'screen_name': 'abcsydney',\n",
       " 'location': 'Sydney, Australia.',\n",
       " 'description': 'We cover stories, events and issues from Sydney and surrounds. News: https://t.co/k7AdLK62Ak Listen live: https://t.co/YRnUEGsM5Y Talkback: 1300 222 702.',\n",
       " 'url': 'https://t.co/MBEju0igK5',\n",
       " 'entities': {'url': {'urls': [{'url': 'https://t.co/MBEju0igK5',\n",
       "     'expanded_url': 'http://www.abc.net.au/sydney',\n",
       "     'display_url': 'abc.net.au/sydney',\n",
       "     'indices': [0, 23]}]},\n",
       "  'description': {'urls': [{'url': 'https://t.co/k7AdLK62Ak',\n",
       "     'expanded_url': 'https://www.abc.net.au/news/',\n",
       "     'display_url': 'abc.net.au/news/',\n",
       "     'indices': [69, 92]},\n",
       "    {'url': 'https://t.co/YRnUEGsM5Y',\n",
       "     'expanded_url': 'http://ab.co/Sydney',\n",
       "     'display_url': 'ab.co/Sydney',\n",
       "     'indices': [106, 129]}]}},\n",
       " 'protected': False,\n",
       " 'followers_count': 76137,\n",
       " 'friends_count': 3350,\n",
       " 'listed_count': 1301,\n",
       " 'created_at': 'Tue Sep 09 06:25:42 +0000 2008',\n",
       " 'favourites_count': 3210,\n",
       " 'utc_offset': None,\n",
       " 'time_zone': None,\n",
       " 'geo_enabled': True,\n",
       " 'verified': True,\n",
       " 'statuses_count': 63862,\n",
       " 'lang': None,\n",
       " 'status': {'created_at': 'Wed Jul 17 01:04:47 +0000 2019',\n",
       "  'id': 1151296654378590209,\n",
       "  'id_str': '1151296654378590209',\n",
       "  'text': 'This is what a syzygy looks like https://t.co/oY3iIVmhVs',\n",
       "  'truncated': False,\n",
       "  'entities': {'hashtags': [],\n",
       "   'symbols': [],\n",
       "   'user_mentions': [],\n",
       "   'urls': [{'url': 'https://t.co/oY3iIVmhVs',\n",
       "     'expanded_url': 'http://www.abc.net.au/news/science/2019-07-17/lunar-eclipse-as-seen-from-around-the-world/11316568',\n",
       "     'display_url': 'abc.net.au/news/science/2…',\n",
       "     'indices': [33, 56]}]},\n",
       "  'source': '<a href=\"http://www.powerapps.com\" rel=\"nofollow\">Microsoft PowerApps and Flow</a>',\n",
       "  'in_reply_to_status_id': None,\n",
       "  'in_reply_to_status_id_str': None,\n",
       "  'in_reply_to_user_id': None,\n",
       "  'in_reply_to_user_id_str': None,\n",
       "  'in_reply_to_screen_name': None,\n",
       "  'geo': None,\n",
       "  'coordinates': None,\n",
       "  'place': None,\n",
       "  'contributors': None,\n",
       "  'is_quote_status': False,\n",
       "  'retweet_count': 0,\n",
       "  'favorite_count': 0,\n",
       "  'favorited': False,\n",
       "  'retweeted': False,\n",
       "  'possibly_sensitive': False,\n",
       "  'lang': 'en'},\n",
       " 'contributors_enabled': False,\n",
       " 'is_translator': False,\n",
       " 'is_translation_enabled': False,\n",
       " 'profile_background_color': '4269A3',\n",
       " 'profile_background_image_url': 'http://abs.twimg.com/images/themes/theme1/bg.png',\n",
       " 'profile_background_image_url_https': 'https://abs.twimg.com/images/themes/theme1/bg.png',\n",
       " 'profile_background_tile': True,\n",
       " 'profile_image_url': 'http://pbs.twimg.com/profile_images/875585932153438209/hrhYINYP_normal.jpg',\n",
       " 'profile_image_url_https': 'https://pbs.twimg.com/profile_images/875585932153438209/hrhYINYP_normal.jpg',\n",
       " 'profile_banner_url': 'https://pbs.twimg.com/profile_banners/16198940/1558659581',\n",
       " 'profile_link_color': 'BB373B',\n",
       " 'profile_sidebar_border_color': '283856',\n",
       " 'profile_sidebar_fill_color': 'ECE6CF',\n",
       " 'profile_text_color': '283856',\n",
       " 'profile_use_background_image': True,\n",
       " 'has_extended_profile': False,\n",
       " 'default_profile': False,\n",
       " 'default_profile_image': False,\n",
       " 'following': True,\n",
       " 'live_following': False,\n",
       " 'follow_request_sent': False,\n",
       " 'notifications': False,\n",
       " 'muting': False,\n",
       " 'blocking': False,\n",
       " 'blocked_by': False,\n",
       " 'translator_type': 'none'}"
      ]
     },
     "execution_count": 49,
     "metadata": {},
     "output_type": "execute_result"
    }
   ],
   "source": [
    "api.friends()[0]._json"
   ]
  },
  {
   "cell_type": "code",
   "execution_count": 52,
   "metadata": {},
   "outputs": [
    {
     "data": {
      "text/plain": [
       "{'id': 1149106446342037504,\n",
       " 'id_str': '1149106446342037504',\n",
       " 'name': 'vani',\n",
       " 'screen_name': 'vani88651156',\n",
       " 'location': '',\n",
       " 'description': '',\n",
       " 'url': None,\n",
       " 'entities': {'description': {'urls': []}},\n",
       " 'protected': False,\n",
       " 'followers_count': 1,\n",
       " 'friends_count': 2,\n",
       " 'listed_count': 0,\n",
       " 'created_at': 'Thu Jul 11 00:01:40 +0000 2019',\n",
       " 'favourites_count': 0,\n",
       " 'utc_offset': None,\n",
       " 'time_zone': None,\n",
       " 'geo_enabled': False,\n",
       " 'verified': False,\n",
       " 'statuses_count': 3,\n",
       " 'lang': None,\n",
       " 'status': {'created_at': 'Wed Jul 17 05:34:48 +0000 2019',\n",
       "  'id': 1151364607417565184,\n",
       "  'id_str': '1151364607417565184',\n",
       "  'text': '@ChardeSarita Hi Sarita',\n",
       "  'truncated': False,\n",
       "  'entities': {'hashtags': [],\n",
       "   'symbols': [],\n",
       "   'user_mentions': [{'screen_name': 'ChardeSarita',\n",
       "     'name': 'Sarita Charde',\n",
       "     'id': 1149103445351096320,\n",
       "     'id_str': '1149103445351096320',\n",
       "     'indices': [0, 13]}],\n",
       "   'urls': []},\n",
       "  'source': '<a href=\"https://mobile.twitter.com\" rel=\"nofollow\">Twitter Web App</a>',\n",
       "  'in_reply_to_status_id': None,\n",
       "  'in_reply_to_status_id_str': None,\n",
       "  'in_reply_to_user_id': 1149103445351096320,\n",
       "  'in_reply_to_user_id_str': '1149103445351096320',\n",
       "  'in_reply_to_screen_name': 'ChardeSarita',\n",
       "  'geo': None,\n",
       "  'coordinates': None,\n",
       "  'place': None,\n",
       "  'contributors': None,\n",
       "  'is_quote_status': False,\n",
       "  'retweet_count': 0,\n",
       "  'favorite_count': 0,\n",
       "  'favorited': False,\n",
       "  'retweeted': False,\n",
       "  'lang': 'in'},\n",
       " 'contributors_enabled': False,\n",
       " 'is_translator': False,\n",
       " 'is_translation_enabled': False,\n",
       " 'profile_background_color': 'F5F8FA',\n",
       " 'profile_background_image_url': None,\n",
       " 'profile_background_image_url_https': None,\n",
       " 'profile_background_tile': False,\n",
       " 'profile_image_url': 'http://abs.twimg.com/sticky/default_profile_images/default_profile_normal.png',\n",
       " 'profile_image_url_https': 'https://abs.twimg.com/sticky/default_profile_images/default_profile_normal.png',\n",
       " 'profile_link_color': '1DA1F2',\n",
       " 'profile_sidebar_border_color': 'C0DEED',\n",
       " 'profile_sidebar_fill_color': 'DDEEF6',\n",
       " 'profile_text_color': '333333',\n",
       " 'profile_use_background_image': True,\n",
       " 'has_extended_profile': False,\n",
       " 'default_profile': True,\n",
       " 'default_profile_image': True,\n",
       " 'following': True,\n",
       " 'live_following': False,\n",
       " 'follow_request_sent': False,\n",
       " 'notifications': False,\n",
       " 'muting': False,\n",
       " 'blocking': False,\n",
       " 'blocked_by': False,\n",
       " 'translator_type': 'none'}"
      ]
     },
     "execution_count": 52,
     "metadata": {},
     "output_type": "execute_result"
    }
   ],
   "source": [
    "api.followers()[0]._json"
   ]
  },
  {
   "cell_type": "markdown",
   "metadata": {
    "colab_type": "text",
    "id": "DcJ-cc6zJhQz"
   },
   "source": [
    "Consult the Tweept and Twitter API documentation. Print a few of the response members below:"
   ]
  },
  {
   "cell_type": "code",
   "execution_count": null,
   "metadata": {
    "colab": {},
    "colab_type": "code",
    "id": "W_IKqMAQJhQ1"
   },
   "outputs": [],
   "source": []
  },
  {
   "cell_type": "markdown",
   "metadata": {
    "colab_type": "text",
    "id": "dLkdLKjLJhQ3"
   },
   "source": [
    "This will fetch recent tweets from accounts you follow:"
   ]
  },
  {
   "cell_type": "code",
   "execution_count": 53,
   "metadata": {
    "colab": {},
    "colab_type": "code",
    "id": "l9y8t3X7JhQ4"
   },
   "outputs": [
    {
     "name": "stdout",
     "output_type": "stream",
     "text": [
      "@vani88651156 hi \n",
      "How is your Data Science going on\n",
      "This is what a syzygy looks like https://t.co/oY3iIVmhVs\n",
      "Live: NSW Now: Woman struck by bus in Bondi, Sydney catches glimpse of partial lunar eclipse https://t.co/AKrzfkwwRy\n",
      "NRL's first female referee hopes to become an inspiration https://t.co/vvudhmQG5e\n",
      "good afternoon!\n",
      "Tweeted new message\n",
      "I started my DataScience course in Sydney at DSIA\n",
      "New Sydney cemetery will 'engulf' heritage-listed homestead, owners say https://t.co/N8KPOt7mJg\n",
      "Congrats to @WoutvanAert and @JumboVismaRoad on an incredible Tour de France stage win! Enjoy that well-deserved re… https://t.co/lg53yoowyz\n",
      "Live: NSW Now: Outrage over cemetery approval, toddler dies from meningococcal  https://t.co/OJb4ybzSvc\n",
      "'It all begins and ends with self-belief': Words of advice from women at the top of their game https://t.co/8XaRMiko7j\n",
      "Only one doctor at dance festival attended by 11,000 people, inquest hears      https://t.co/CvP5WywQ8q\n",
      "'Absolutely crazy': Long delays at Sydney Airport after reported passport machine faults   https://t.co/qYtu2xn3UA\n",
      "Good morning Sydney, @wendy_harmer and @robbie_buck are back! Coming up, we've got live music from Thelma Plum and… https://t.co/MijEOoZi3v\n",
      "Live: NSW Now: 'Human' bone found on beach, pedestrian killed in Frenchs Forest https://t.co/dTBcEg29em\n",
      "Footage captures moment man swipes Sydney busker's cash https://t.co/v5unUFeOsX\n",
      "Third severe cold front forecast for NSW as airline passengers delayed https://t.co/dZjOewxYjf\n",
      "Flights delayed as damaging winds hit Sydney Airport https://t.co/AjVKJAix6k\n",
      "Search underway for Chinese bushwalker missing in south Sydney national park https://t.co/sdbHHRDJuy\n",
      "Live: Rabbitohs meet Sea Eagles to kick of NRL Saturday https://t.co/5oCS1OrFDq\n"
     ]
    }
   ],
   "source": [
    "# Recent tweets from accounts you follow:\n",
    "tweets = api.home_timeline()\n",
    "for tweet in tweets:\n",
    "    print(tweet.text)"
   ]
  },
  {
   "cell_type": "markdown",
   "metadata": {
    "colab_type": "text",
    "id": "k2NpPlOIJhQ6"
   },
   "source": [
    "The request to see your own recent tweets is similar, but uses the `user_timeline` endpoint. Try this below:"
   ]
  },
  {
   "cell_type": "code",
   "execution_count": 54,
   "metadata": {
    "colab": {},
    "colab_type": "code",
    "id": "QMlhdx5NJhQ6"
   },
   "outputs": [
    {
     "name": "stdout",
     "output_type": "stream",
     "text": [
      "2019-07-17 05:39:16\n",
      "@vani88651156 hi \n",
      "How is your Data Science going on\n",
      "2019-07-16 06:22:59\n",
      "good afternoon!\n"
     ]
    }
   ],
   "source": [
    "# tweets header info\n",
    "tweets = api.user_timeline()\n",
    "for tweet in tweets:\n",
    "    print(tweet.created_at)\n",
    "#     print(tweet.id_str)\n",
    "    print(tweet.text)"
   ]
  },
  {
   "cell_type": "markdown",
   "metadata": {
    "colab_type": "text",
    "id": "qY7oM-lJJhQ8"
   },
   "source": [
    "Now, instead of printing the text of each tweet, print the `created_at` and `id_str` methods:"
   ]
  },
  {
   "cell_type": "code",
   "execution_count": 55,
   "metadata": {
    "colab": {},
    "colab_type": "code",
    "id": "aUOlNdG8JhQ9"
   },
   "outputs": [
    {
     "name": "stdout",
     "output_type": "stream",
     "text": [
      "2019-07-17 05:39:16\n",
      "1151365733378482176\n",
      "2019-07-16 06:22:59\n",
      "1151014345100238851\n"
     ]
    }
   ],
   "source": [
    "# tweets header info\n",
    "tweets = api.user_timeline()\n",
    "for tweet in tweets:\n",
    "    print(tweet.created_at)\n",
    "    print(tweet.id_str)\n",
    "    "
   ]
  },
  {
   "cell_type": "code",
   "execution_count": 56,
   "metadata": {},
   "outputs": [
    {
     "name": "stdout",
     "output_type": "stream",
     "text": [
      "2019-07-17 05:39:16\n",
      "1151365733378482176\n",
      "@vani88651156 hi \n",
      "How is your Data Science going on\n",
      "2019-07-16 06:22:59\n",
      "1151014345100238851\n",
      "good afternoon!\n"
     ]
    }
   ],
   "source": [
    "tweets = api.user_timeline()\n",
    "for tweet in tweets:\n",
    "    print(tweet.created_at)\n",
    "    print(tweet.id_str)\n",
    "    print(tweet.text)"
   ]
  },
  {
   "cell_type": "markdown",
   "metadata": {
    "colab_type": "text",
    "id": "3PibchrmJhQ-"
   },
   "source": [
    "You can create a tweet as follows:"
   ]
  },
  {
   "cell_type": "code",
   "execution_count": 57,
   "metadata": {
    "colab": {},
    "colab_type": "code",
    "id": "IwzTjf1gJhQ_"
   },
   "outputs": [],
   "source": [
    "# create a tweet:\n",
    "tweet = api.update_status('Test: Made with Tweepy')"
   ]
  },
  {
   "cell_type": "code",
   "execution_count": 59,
   "metadata": {},
   "outputs": [],
   "source": [
    "# create a tweet:\n",
    "tweet = api.update_status('Test: Data Science is the state-of-the Art')"
   ]
  },
  {
   "cell_type": "code",
   "execution_count": 60,
   "metadata": {},
   "outputs": [],
   "source": [
    "tweet_list = []\n",
    "for tweet in tweets:\n",
    "    tweet_list.append(tweet._json)"
   ]
  },
  {
   "cell_type": "markdown",
   "metadata": {
    "colab_type": "text",
    "id": "TtlXvbjoJhRB"
   },
   "source": [
    "(Nb. Don't abuse this feature! If you try to generate a zillion tweets in a loop, Twitter will ban youur account.)"
   ]
  },
  {
   "cell_type": "markdown",
   "metadata": {
    "colab_type": "text",
    "id": "awUIiruTJhRB"
   },
   "source": [
    "Tweets can be deleted by reference to their `id_str` attribute:"
   ]
  },
  {
   "cell_type": "code",
   "execution_count": 62,
   "metadata": {
    "colab": {},
    "colab_type": "code",
    "id": "tKPSCOEBJhRC"
   },
   "outputs": [],
   "source": [
    "# delete a tweet:\n",
    "status = api.destroy_status(1151365733378482176)"
   ]
  },
  {
   "cell_type": "markdown",
   "metadata": {
    "colab_type": "text",
    "id": "hEt9NWJBJhRE"
   },
   "source": [
    "You can follow a Tweeter:"
   ]
  },
  {
   "cell_type": "code",
   "execution_count": 63,
   "metadata": {
    "colab": {},
    "colab_type": "code",
    "id": "CDWxR8wOJhRF"
   },
   "outputs": [
    {
     "data": {
      "text/plain": [
       "User(_api=<tweepy.api.API object at 0x000001E0EF80BDD8>, _json={'id': 10228272, 'id_str': '10228272', 'name': 'YouTube', 'screen_name': 'YouTube', 'location': 'San Bruno, CA', 'description': 'Pivoting to video.', 'url': 'https://t.co/F3fLcf5sH7', 'entities': {'url': {'urls': [{'url': 'https://t.co/F3fLcf5sH7', 'expanded_url': 'http://youtube.com', 'display_url': 'youtube.com', 'indices': [0, 23]}]}, 'description': {'urls': []}}, 'protected': False, 'followers_count': 71666741, 'friends_count': 1041, 'listed_count': 81944, 'created_at': 'Tue Nov 13 21:43:46 +0000 2007', 'favourites_count': 2515, 'utc_offset': None, 'time_zone': None, 'geo_enabled': False, 'verified': True, 'statuses_count': 23556, 'lang': None, 'status': {'created_at': 'Tue Jul 16 18:53:57 +0000 2019', 'id': 1151203333056733185, 'id_str': '1151203333056733185', 'text': 'Starting this week, you can watch live @MLB games for FREE on YouTube! Subscribe now at https://t.co/wq0CPWBQRb to… https://t.co/YgmrmEZ5JS', 'truncated': True, 'entities': {'hashtags': [], 'symbols': [], 'user_mentions': [{'screen_name': 'MLB', 'name': 'MLB', 'id': 18479513, 'id_str': '18479513', 'indices': [39, 43]}], 'urls': [{'url': 'https://t.co/wq0CPWBQRb', 'expanded_url': 'http://youtube.com/mlb', 'display_url': 'youtube.com/mlb', 'indices': [88, 111]}, {'url': 'https://t.co/YgmrmEZ5JS', 'expanded_url': 'https://twitter.com/i/web/status/1151203333056733185', 'display_url': 'twitter.com/i/web/status/1…', 'indices': [116, 139]}]}, 'source': '<a href=\"https://studio.twitter.com\" rel=\"nofollow\">Twitter Media Studio</a>', 'in_reply_to_status_id': None, 'in_reply_to_status_id_str': None, 'in_reply_to_user_id': None, 'in_reply_to_user_id_str': None, 'in_reply_to_screen_name': None, 'geo': None, 'coordinates': None, 'place': None, 'contributors': None, 'is_quote_status': False, 'retweet_count': 47, 'favorite_count': 473, 'favorited': False, 'retweeted': False, 'possibly_sensitive': False, 'lang': 'en'}, 'contributors_enabled': False, 'is_translator': False, 'is_translation_enabled': True, 'profile_background_color': 'AF0000', 'profile_background_image_url': 'http://abs.twimg.com/images/themes/theme14/bg.gif', 'profile_background_image_url_https': 'https://abs.twimg.com/images/themes/theme14/bg.gif', 'profile_background_tile': True, 'profile_image_url': 'http://pbs.twimg.com/profile_images/1148327441527689217/1QpS06D6_normal.png', 'profile_image_url_https': 'https://pbs.twimg.com/profile_images/1148327441527689217/1QpS06D6_normal.png', 'profile_banner_url': 'https://pbs.twimg.com/profile_banners/10228272/1563295551', 'profile_link_color': 'C9191D', 'profile_sidebar_border_color': '000000', 'profile_sidebar_fill_color': 'EFEFEF', 'profile_text_color': '333333', 'profile_use_background_image': True, 'has_extended_profile': False, 'default_profile': False, 'default_profile_image': False, 'following': True, 'follow_request_sent': False, 'notifications': False, 'muting': False, 'translator_type': 'regular'}, id=10228272, id_str='10228272', name='YouTube', screen_name='YouTube', location='San Bruno, CA', description='Pivoting to video.', url='https://t.co/F3fLcf5sH7', entities={'url': {'urls': [{'url': 'https://t.co/F3fLcf5sH7', 'expanded_url': 'http://youtube.com', 'display_url': 'youtube.com', 'indices': [0, 23]}]}, 'description': {'urls': []}}, protected=False, followers_count=71666741, friends_count=1041, listed_count=81944, created_at=datetime.datetime(2007, 11, 13, 21, 43, 46), favourites_count=2515, utc_offset=None, time_zone=None, geo_enabled=False, verified=True, statuses_count=23556, lang=None, status=Status(_api=<tweepy.api.API object at 0x000001E0EF80BDD8>, _json={'created_at': 'Tue Jul 16 18:53:57 +0000 2019', 'id': 1151203333056733185, 'id_str': '1151203333056733185', 'text': 'Starting this week, you can watch live @MLB games for FREE on YouTube! Subscribe now at https://t.co/wq0CPWBQRb to… https://t.co/YgmrmEZ5JS', 'truncated': True, 'entities': {'hashtags': [], 'symbols': [], 'user_mentions': [{'screen_name': 'MLB', 'name': 'MLB', 'id': 18479513, 'id_str': '18479513', 'indices': [39, 43]}], 'urls': [{'url': 'https://t.co/wq0CPWBQRb', 'expanded_url': 'http://youtube.com/mlb', 'display_url': 'youtube.com/mlb', 'indices': [88, 111]}, {'url': 'https://t.co/YgmrmEZ5JS', 'expanded_url': 'https://twitter.com/i/web/status/1151203333056733185', 'display_url': 'twitter.com/i/web/status/1…', 'indices': [116, 139]}]}, 'source': '<a href=\"https://studio.twitter.com\" rel=\"nofollow\">Twitter Media Studio</a>', 'in_reply_to_status_id': None, 'in_reply_to_status_id_str': None, 'in_reply_to_user_id': None, 'in_reply_to_user_id_str': None, 'in_reply_to_screen_name': None, 'geo': None, 'coordinates': None, 'place': None, 'contributors': None, 'is_quote_status': False, 'retweet_count': 47, 'favorite_count': 473, 'favorited': False, 'retweeted': False, 'possibly_sensitive': False, 'lang': 'en'}, created_at=datetime.datetime(2019, 7, 16, 18, 53, 57), id=1151203333056733185, id_str='1151203333056733185', text='Starting this week, you can watch live @MLB games for FREE on YouTube! Subscribe now at https://t.co/wq0CPWBQRb to… https://t.co/YgmrmEZ5JS', truncated=True, entities={'hashtags': [], 'symbols': [], 'user_mentions': [{'screen_name': 'MLB', 'name': 'MLB', 'id': 18479513, 'id_str': '18479513', 'indices': [39, 43]}], 'urls': [{'url': 'https://t.co/wq0CPWBQRb', 'expanded_url': 'http://youtube.com/mlb', 'display_url': 'youtube.com/mlb', 'indices': [88, 111]}, {'url': 'https://t.co/YgmrmEZ5JS', 'expanded_url': 'https://twitter.com/i/web/status/1151203333056733185', 'display_url': 'twitter.com/i/web/status/1…', 'indices': [116, 139]}]}, source='Twitter Media Studio', source_url='https://studio.twitter.com', in_reply_to_status_id=None, in_reply_to_status_id_str=None, in_reply_to_user_id=None, in_reply_to_user_id_str=None, in_reply_to_screen_name=None, geo=None, coordinates=None, place=None, contributors=None, is_quote_status=False, retweet_count=47, favorite_count=473, favorited=False, retweeted=False, possibly_sensitive=False, lang='en'), contributors_enabled=False, is_translator=False, is_translation_enabled=True, profile_background_color='AF0000', profile_background_image_url='http://abs.twimg.com/images/themes/theme14/bg.gif', profile_background_image_url_https='https://abs.twimg.com/images/themes/theme14/bg.gif', profile_background_tile=True, profile_image_url='http://pbs.twimg.com/profile_images/1148327441527689217/1QpS06D6_normal.png', profile_image_url_https='https://pbs.twimg.com/profile_images/1148327441527689217/1QpS06D6_normal.png', profile_banner_url='https://pbs.twimg.com/profile_banners/10228272/1563295551', profile_link_color='C9191D', profile_sidebar_border_color='000000', profile_sidebar_fill_color='EFEFEF', profile_text_color='333333', profile_use_background_image=True, has_extended_profile=False, default_profile=False, default_profile_image=False, following=True, follow_request_sent=False, notifications=False, muting=False, translator_type='regular')"
      ]
     },
     "execution_count": 63,
     "metadata": {},
     "output_type": "execute_result"
    }
   ],
   "source": [
    "# follow:\n",
    "api.create_friendship('@YouTube')"
   ]
  },
  {
   "cell_type": "markdown",
   "metadata": {
    "colab_type": "text",
    "id": "Nbp2vRONJhRH"
   },
   "source": [
    "or unfollow:"
   ]
  },
  {
   "cell_type": "code",
   "execution_count": 64,
   "metadata": {
    "colab": {},
    "colab_type": "code",
    "id": "wCsNNVT9JhRH"
   },
   "outputs": [
    {
     "data": {
      "text/plain": [
       "User(_api=<tweepy.api.API object at 0x000001E0EF80BDD8>, _json={'id': 10228272, 'id_str': '10228272', 'name': 'YouTube', 'screen_name': 'YouTube', 'location': 'San Bruno, CA', 'description': 'Pivoting to video.', 'url': 'https://t.co/F3fLcf5sH7', 'entities': {'url': {'urls': [{'url': 'https://t.co/F3fLcf5sH7', 'expanded_url': 'http://youtube.com', 'display_url': 'youtube.com', 'indices': [0, 23]}]}, 'description': {'urls': []}}, 'protected': False, 'followers_count': 71666747, 'friends_count': 1041, 'listed_count': 81944, 'created_at': 'Tue Nov 13 21:43:46 +0000 2007', 'favourites_count': 2515, 'utc_offset': None, 'time_zone': None, 'geo_enabled': False, 'verified': True, 'statuses_count': 23556, 'lang': None, 'status': {'created_at': 'Tue Jul 16 18:53:57 +0000 2019', 'id': 1151203333056733185, 'id_str': '1151203333056733185', 'text': 'Starting this week, you can watch live @MLB games for FREE on YouTube! Subscribe now at https://t.co/wq0CPWBQRb to… https://t.co/YgmrmEZ5JS', 'truncated': True, 'entities': {'hashtags': [], 'symbols': [], 'user_mentions': [{'screen_name': 'MLB', 'name': 'MLB', 'id': 18479513, 'id_str': '18479513', 'indices': [39, 43]}], 'urls': [{'url': 'https://t.co/wq0CPWBQRb', 'expanded_url': 'http://youtube.com/mlb', 'display_url': 'youtube.com/mlb', 'indices': [88, 111]}, {'url': 'https://t.co/YgmrmEZ5JS', 'expanded_url': 'https://twitter.com/i/web/status/1151203333056733185', 'display_url': 'twitter.com/i/web/status/1…', 'indices': [116, 139]}]}, 'source': '<a href=\"https://studio.twitter.com\" rel=\"nofollow\">Twitter Media Studio</a>', 'in_reply_to_status_id': None, 'in_reply_to_status_id_str': None, 'in_reply_to_user_id': None, 'in_reply_to_user_id_str': None, 'in_reply_to_screen_name': None, 'geo': None, 'coordinates': None, 'place': None, 'contributors': None, 'is_quote_status': False, 'retweet_count': 47, 'favorite_count': 473, 'favorited': False, 'retweeted': False, 'possibly_sensitive': False, 'lang': 'en'}, 'contributors_enabled': False, 'is_translator': False, 'is_translation_enabled': True, 'profile_background_color': 'AF0000', 'profile_background_image_url': 'http://abs.twimg.com/images/themes/theme14/bg.gif', 'profile_background_image_url_https': 'https://abs.twimg.com/images/themes/theme14/bg.gif', 'profile_background_tile': True, 'profile_image_url': 'http://pbs.twimg.com/profile_images/1148327441527689217/1QpS06D6_normal.png', 'profile_image_url_https': 'https://pbs.twimg.com/profile_images/1148327441527689217/1QpS06D6_normal.png', 'profile_banner_url': 'https://pbs.twimg.com/profile_banners/10228272/1563295551', 'profile_link_color': 'C9191D', 'profile_sidebar_border_color': '000000', 'profile_sidebar_fill_color': 'EFEFEF', 'profile_text_color': '333333', 'profile_use_background_image': True, 'has_extended_profile': False, 'default_profile': False, 'default_profile_image': False, 'following': True, 'follow_request_sent': False, 'notifications': False, 'muting': False, 'translator_type': 'regular'}, id=10228272, id_str='10228272', name='YouTube', screen_name='YouTube', location='San Bruno, CA', description='Pivoting to video.', url='https://t.co/F3fLcf5sH7', entities={'url': {'urls': [{'url': 'https://t.co/F3fLcf5sH7', 'expanded_url': 'http://youtube.com', 'display_url': 'youtube.com', 'indices': [0, 23]}]}, 'description': {'urls': []}}, protected=False, followers_count=71666747, friends_count=1041, listed_count=81944, created_at=datetime.datetime(2007, 11, 13, 21, 43, 46), favourites_count=2515, utc_offset=None, time_zone=None, geo_enabled=False, verified=True, statuses_count=23556, lang=None, status=Status(_api=<tweepy.api.API object at 0x000001E0EF80BDD8>, _json={'created_at': 'Tue Jul 16 18:53:57 +0000 2019', 'id': 1151203333056733185, 'id_str': '1151203333056733185', 'text': 'Starting this week, you can watch live @MLB games for FREE on YouTube! Subscribe now at https://t.co/wq0CPWBQRb to… https://t.co/YgmrmEZ5JS', 'truncated': True, 'entities': {'hashtags': [], 'symbols': [], 'user_mentions': [{'screen_name': 'MLB', 'name': 'MLB', 'id': 18479513, 'id_str': '18479513', 'indices': [39, 43]}], 'urls': [{'url': 'https://t.co/wq0CPWBQRb', 'expanded_url': 'http://youtube.com/mlb', 'display_url': 'youtube.com/mlb', 'indices': [88, 111]}, {'url': 'https://t.co/YgmrmEZ5JS', 'expanded_url': 'https://twitter.com/i/web/status/1151203333056733185', 'display_url': 'twitter.com/i/web/status/1…', 'indices': [116, 139]}]}, 'source': '<a href=\"https://studio.twitter.com\" rel=\"nofollow\">Twitter Media Studio</a>', 'in_reply_to_status_id': None, 'in_reply_to_status_id_str': None, 'in_reply_to_user_id': None, 'in_reply_to_user_id_str': None, 'in_reply_to_screen_name': None, 'geo': None, 'coordinates': None, 'place': None, 'contributors': None, 'is_quote_status': False, 'retweet_count': 47, 'favorite_count': 473, 'favorited': False, 'retweeted': False, 'possibly_sensitive': False, 'lang': 'en'}, created_at=datetime.datetime(2019, 7, 16, 18, 53, 57), id=1151203333056733185, id_str='1151203333056733185', text='Starting this week, you can watch live @MLB games for FREE on YouTube! Subscribe now at https://t.co/wq0CPWBQRb to… https://t.co/YgmrmEZ5JS', truncated=True, entities={'hashtags': [], 'symbols': [], 'user_mentions': [{'screen_name': 'MLB', 'name': 'MLB', 'id': 18479513, 'id_str': '18479513', 'indices': [39, 43]}], 'urls': [{'url': 'https://t.co/wq0CPWBQRb', 'expanded_url': 'http://youtube.com/mlb', 'display_url': 'youtube.com/mlb', 'indices': [88, 111]}, {'url': 'https://t.co/YgmrmEZ5JS', 'expanded_url': 'https://twitter.com/i/web/status/1151203333056733185', 'display_url': 'twitter.com/i/web/status/1…', 'indices': [116, 139]}]}, source='Twitter Media Studio', source_url='https://studio.twitter.com', in_reply_to_status_id=None, in_reply_to_status_id_str=None, in_reply_to_user_id=None, in_reply_to_user_id_str=None, in_reply_to_screen_name=None, geo=None, coordinates=None, place=None, contributors=None, is_quote_status=False, retweet_count=47, favorite_count=473, favorited=False, retweeted=False, possibly_sensitive=False, lang='en'), contributors_enabled=False, is_translator=False, is_translation_enabled=True, profile_background_color='AF0000', profile_background_image_url='http://abs.twimg.com/images/themes/theme14/bg.gif', profile_background_image_url_https='https://abs.twimg.com/images/themes/theme14/bg.gif', profile_background_tile=True, profile_image_url='http://pbs.twimg.com/profile_images/1148327441527689217/1QpS06D6_normal.png', profile_image_url_https='https://pbs.twimg.com/profile_images/1148327441527689217/1QpS06D6_normal.png', profile_banner_url='https://pbs.twimg.com/profile_banners/10228272/1563295551', profile_link_color='C9191D', profile_sidebar_border_color='000000', profile_sidebar_fill_color='EFEFEF', profile_text_color='333333', profile_use_background_image=True, has_extended_profile=False, default_profile=False, default_profile_image=False, following=True, follow_request_sent=False, notifications=False, muting=False, translator_type='regular')"
      ]
     },
     "execution_count": 64,
     "metadata": {},
     "output_type": "execute_result"
    }
   ],
   "source": [
    "# unfollow:\n",
    "api.destroy_friendship('@YouTube')"
   ]
  },
  {
   "cell_type": "code",
   "execution_count": null,
   "metadata": {
    "colab": {},
    "colab_type": "code",
    "id": "ND4BmdkvJhRJ"
   },
   "outputs": [],
   "source": []
  },
  {
   "cell_type": "markdown",
   "metadata": {
    "colab_type": "text",
    "id": "YGIWBU4FJn0V"
   },
   "source": [
    ">\n",
    ">"
   ]
  },
  {
   "cell_type": "markdown",
   "metadata": {
    "colab_type": "text",
    "id": "l_IsftzjJp6w"
   },
   "source": [
    ">\n",
    ">"
   ]
  },
  {
   "cell_type": "markdown",
   "metadata": {
    "colab_type": "text",
    "id": "59l7EOATJrJO"
   },
   "source": [
    "\n",
    "\n",
    "---\n",
    "\n",
    "\n",
    "\n",
    "---\n",
    "\n",
    ">  > > > > > > > > © 2019 Data Science Institute of Australia\n",
    "\n",
    "\n",
    "\n",
    "---\n",
    "\n",
    "\n",
    "\n",
    "---\n",
    "\n"
   ]
  }
 ],
 "metadata": {
  "colab": {
   "collapsed_sections": [],
   "name": "DSIA Lab 2.2.2.ipynb",
   "provenance": [],
   "version": "0.3.2"
  },
  "kernelspec": {
   "display_name": "Python 3",
   "language": "python",
   "name": "python3"
  },
  "language_info": {
   "codemirror_mode": {
    "name": "ipython",
    "version": 3
   },
   "file_extension": ".py",
   "mimetype": "text/x-python",
   "name": "python",
   "nbconvert_exporter": "python",
   "pygments_lexer": "ipython3",
   "version": "3.7.3"
  }
 },
 "nbformat": 4,
 "nbformat_minor": 2
}
