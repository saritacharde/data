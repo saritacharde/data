{
 "cells": [
  {
   "cell_type": "markdown",
   "metadata": {
    "colab_type": "text",
    "id": "gnfClx7-FfjU"
   },
   "source": [
    "![alt text](https://i.imgur.com/1WaY7aA.png)\n",
    "\n",
    "\n",
    "---\n",
    "\n",
    "\n",
    "\n",
    "---\n",
    "\n"
   ]
  },
  {
   "cell_type": "markdown",
   "metadata": {
    "colab_type": "text",
    "id": "_shYCClxFfjX"
   },
   "source": [
    "# Lab 2.1.5 \n",
    "# *Neo4j and Python*"
   ]
  },
  {
   "cell_type": "markdown",
   "metadata": {
    "colab_type": "text",
    "id": "pDJmT5Y5Ffja"
   },
   "source": [
    "## Introduction\n",
    "\n",
    "Neo4j is the most popular graph database. Free versions include the Desktop (Developer) edition and the Community Server edition (which we can drive from Python). \n",
    "\n",
    "We will begin this lab by working through the tutorial embedded in the Neo4j *start* page to learn about graph databases structures and the Cypher query language. We will then see how to integrate a Neo4j database with a Python program."
   ]
  },
  {
   "cell_type": "markdown",
   "metadata": {
    "colab_type": "text",
    "id": "--O6XzsrFfjc"
   },
   "source": [
    "The Community Server version can be downloaded here: https://neo4j.com/download-center/#releases \n",
    "![image.png](attachment:image.png)\n"
   ]
  },
  {
   "cell_type": "markdown",
   "metadata": {
    "colab_type": "text",
    "id": "iLovaF_hFfje"
   },
   "source": [
    "- Go through the *Concepts* tutorial. \n",
    "- At the end, click *Intro* under *Keep getting started* heading and go through the tutorial.\n",
    "- At the end, click *Cypher* under *Keep getting started* heading and go through the tutorial.\n",
    "- At the end, click *The Movie Graph* under *Jump into code* heading and go through the tutorial.\n",
    "\n",
    "![image.png](attachment:image.png)"
   ]
  },
  {
   "cell_type": "markdown",
   "metadata": {
    "colab_type": "text",
    "id": "hpo-lWuhFfjg"
   },
   "source": [
    "## Driving Neo4j from Python\n",
    "\n",
    "There are a variety of Python libraries for Neo4j, some of which provide more compact (and simpler) ways of executing commands. To avoid having to learn too many different ways of doing the same thing, however, we will use the official one, which is based on the syntax of the Cypher query language."
   ]
  },
  {
   "cell_type": "markdown",
   "metadata": {
    "colab_type": "text",
    "id": "9KKFMPT4Ffjh"
   },
   "source": [
    "The ***Neo4j Bolt Driver for Python*** is documented at https://neo4j.com/docs/api/python-driver/current/."
   ]
  },
  {
   "cell_type": "code",
   "execution_count": 1,
   "metadata": {},
   "outputs": [
    {
     "name": "stdout",
     "output_type": "stream",
     "text": [
      "Requirement already satisfied: neo4j in c:\\users\\praty\\anaconda3\\lib\\site-packages (1.7.0.dev0)\n",
      "Requirement already satisfied: neotime<2,>=1.7.1 in c:\\users\\praty\\anaconda3\\lib\\site-packages (from neo4j) (1.7.4)\n",
      "Requirement already satisfied: neobolt<2,>=1.7.3 in c:\\users\\praty\\anaconda3\\lib\\site-packages (from neo4j) (1.7.13)\n",
      "Requirement already satisfied: pytz in c:\\users\\praty\\anaconda3\\lib\\site-packages (from neotime<2,>=1.7.1->neo4j) (2018.9)\n",
      "Requirement already satisfied: six in c:\\users\\praty\\anaconda3\\lib\\site-packages (from neotime<2,>=1.7.1->neo4j) (1.12.0)\n",
      "Note: you may need to restart the kernel to use updated packages.\n"
     ]
    }
   ],
   "source": [
    "pip install neo4j"
   ]
  },
  {
   "cell_type": "code",
   "execution_count": 20,
   "metadata": {
    "colab": {},
    "colab_type": "code",
    "id": "HAhDdXNsFfji"
   },
   "outputs": [],
   "source": [
    "from neo4j import GraphDatabase\n",
    "\n",
    "uri = \"bolt://localhost:7687\""
   ]
  },
  {
   "cell_type": "code",
   "execution_count": 21,
   "metadata": {
    "colab": {},
    "colab_type": "code",
    "id": "0OvOtl7tFfjm",
    "scrolled": true
   },
   "outputs": [],
   "source": [
    "driver = GraphDatabase.driver(uri, auth=(\"neo4j\", \"**cmpoda**\"))\n"
   ]
  },
  {
   "cell_type": "markdown",
   "metadata": {
    "colab_type": "text",
    "id": "GYF3MCsMFfjq"
   },
   "source": [
    "To execute a query against a database using this driver, we need to wrap the Cypher query string in a function definition and pass the function to the `read_transaction` method of the `session` object. Our query function then has access to the `tx` object.\n",
    "\n",
    "Here is a function that finds all the movies that the requested `Person` acted in:"
   ]
  },
  {
   "cell_type": "code",
   "execution_count": 25,
   "metadata": {
    "colab": {},
    "colab_type": "code",
    "id": "K3q7Wl8yFfjs"
   },
   "outputs": [
    {
     "name": "stdout",
     "output_type": "stream",
     "text": [
      "<Node id=144 labels={'Movie'} properties={'title': 'Apollo 13', 'tagline': 'Houston, we have a problem.', 'released': 1995}>\n",
      "<Node id=67 labels={'Movie'} properties={'title': \"You've Got Mail\", 'tagline': 'At odds in life... in love on-line.', 'released': 1998}>\n",
      "<Node id=162 labels={'Movie'} properties={'title': 'A League of Their Own', 'tagline': 'Once in a lifetime you get a chance to do something different.', 'released': 1992}>\n",
      "<Node id=78 labels={'Movie'} properties={'title': 'Joe Versus the Volcano', 'tagline': 'A story of love, lava and burning desire.', 'released': 1990}>\n",
      "<Node id=85 labels={'Movie'} properties={'title': 'That Thing You Do', 'tagline': 'In every life there comes a time when that thing you dream becomes that thing you do', 'released': 1996}>\n",
      "<Node id=111 labels={'Movie'} properties={'title': 'The Da Vinci Code', 'tagline': 'Break The Codes', 'released': 2006}>\n",
      "<Node id=105 labels={'Movie'} properties={'title': 'Cloud Atlas', 'tagline': 'Everything is connected', 'released': 2012}>\n",
      "<Node id=150 labels={'Movie'} properties={'title': 'Cast Away', 'tagline': 'At the edge of the world, his journey begins.', 'released': 2000}>\n",
      "<Node id=130 labels={'Movie'} properties={'title': 'The Green Mile', 'tagline': \"Walk a mile you'll never forget.\", 'released': 1999}>\n",
      "<Node id=73 labels={'Movie'} properties={'title': 'Sleepless in Seattle', 'tagline': 'What if someone you never met, someone you never saw, someone you never knew was the only someone for you?', 'released': 1993}>\n",
      "<Node id=161 labels={'Movie'} properties={'title': 'The Polar Express', 'tagline': 'This Holiday Season… Believe', 'released': 2004}>\n",
      "<Node id=159 labels={'Movie'} properties={'title': \"Charlie Wilson's War\", 'tagline': \"A stiff drink. A little mascara. A lot of nerve. Who said they couldn't bring down the Soviet empire.\", 'released': 2007}>\n"
     ]
    }
   ],
   "source": [
    "def print_movies_by(tx, name):\n",
    "    for record in tx.run(\"MATCH (a:Person)-[:ACTED_IN]->(anyMovies) \"\n",
    "                         \"WHERE a.name = {name} \"\n",
    "                         \"RETURN anyMovies\", name = name):\n",
    "        print(record[\"anyMovies\"])\n",
    "with driver.session() as session:\n",
    "    session.read_transaction(print_movies_by, \"Tom Hanks\")"
   ]
  },
  {
   "cell_type": "markdown",
   "metadata": {
    "colab_type": "text",
    "id": "MTNO6Y6eFfjx"
   },
   "source": [
    "Here is how to use it to list Tom Hanks' movies:"
   ]
  },
  {
   "cell_type": "markdown",
   "metadata": {
    "colab_type": "text",
    "id": "QDEBcR_5Ffj1"
   },
   "source": [
    "Clearly, some further wrangling is required to produce neat output. (Read the documentation before you attempt this.) "
   ]
  },
  {
   "cell_type": "markdown",
   "metadata": {
    "colab_type": "text",
    "id": "joJo0-GmFfj1"
   },
   "source": [
    "In fact, both the method of using the Neo4j Bolt Driver and the data returned by it are unwieldy. This is typical of low-level drivers. "
   ]
  },
  {
   "cell_type": "markdown",
   "metadata": {
    "colab_type": "text",
    "id": "bG--AtaEFfj2"
   },
   "source": [
    "Try building and running some more queries based on the code in examples queries in The Movie Graph tutorial."
   ]
  },
  {
   "cell_type": "code",
   "execution_count": 46,
   "metadata": {},
   "outputs": [
    {
     "ename": "NameError",
     "evalue": "name 'm' is not defined",
     "output_type": "error",
     "traceback": [
      "\u001b[1;31m---------------------------------------------------------------------------\u001b[0m",
      "\u001b[1;31mNameError\u001b[0m                                 Traceback (most recent call last)",
      "\u001b[1;32m<ipython-input-46-6335c1c3e789>\u001b[0m in \u001b[0;36m<module>\u001b[1;34m\u001b[0m\n\u001b[0;32m      5\u001b[0m         \u001b[0mprint\u001b[0m\u001b[1;33m(\u001b[0m\u001b[0mrecord\u001b[0m\u001b[1;33m[\u001b[0m\u001b[1;34m\"m.title as movie\"\u001b[0m\u001b[1;33m]\u001b[0m\u001b[1;33m)\u001b[0m\u001b[1;33m\u001b[0m\u001b[1;33m\u001b[0m\u001b[0m\n\u001b[0;32m      6\u001b[0m \u001b[1;32mwith\u001b[0m \u001b[0mdriver\u001b[0m\u001b[1;33m.\u001b[0m\u001b[0msession\u001b[0m\u001b[1;33m(\u001b[0m\u001b[1;33m)\u001b[0m \u001b[1;32mas\u001b[0m \u001b[0msession\u001b[0m\u001b[1;33m:\u001b[0m\u001b[1;33m\u001b[0m\u001b[1;33m\u001b[0m\u001b[0m\n\u001b[1;32m----> 7\u001b[1;33m     \u001b[0msession\u001b[0m\u001b[1;33m.\u001b[0m\u001b[0mread_transaction\u001b[0m\u001b[1;33m(\u001b[0m\u001b[0mm\u001b[0m\u001b[1;33m.\u001b[0m\u001b[0mtitle\u001b[0m\u001b[1;33m,\u001b[0m \u001b[1;34m\"limit=100\"\u001b[0m\u001b[1;33m)\u001b[0m\u001b[1;33m\u001b[0m\u001b[1;33m\u001b[0m\u001b[0m\n\u001b[0m\u001b[0;32m      8\u001b[0m \u001b[1;33m\u001b[0m\u001b[0m\n",
      "\u001b[1;31mNameError\u001b[0m: name 'm' is not defined"
     ]
    }
   ],
   "source": [
    "def print_movies_by(tx, name):\n",
    "    for record in tx.run(\"MATCH (m:Movie)<-[:ACTED_IN]-(a:Person) \"\n",
    "             \"RETURN m.title as movie, collect(a.name) as cast \"\n",
    "             \"LIMIT {limit}\"):\n",
    "        print(record[\"m.title as movie\"])\n",
    "with driver.session() as session:\n",
    "    session.read_transaction(m.title, \"limit=100\")\n",
    "    "
   ]
  },
  {
   "cell_type": "markdown",
   "metadata": {
    "colab_type": "text",
    "id": "sNOPRB7rFfj9"
   },
   "source": [
    "## - END -"
   ]
  },
  {
   "cell_type": "markdown",
   "metadata": {
    "colab_type": "text",
    "id": "IS5Tc4z9FoYy"
   },
   "source": [
    ">"
   ]
  },
  {
   "cell_type": "markdown",
   "metadata": {
    "colab_type": "text",
    "id": "mxI2We9OFpfs"
   },
   "source": [
    ">"
   ]
  },
  {
   "cell_type": "markdown",
   "metadata": {
    "colab_type": "text",
    "id": "81DoNxN1FqGN"
   },
   "source": [
    ">"
   ]
  },
  {
   "cell_type": "markdown",
   "metadata": {
    "colab_type": "text",
    "id": "RERADKgNFq9T"
   },
   "source": [
    "\n",
    "\n",
    "---\n",
    "\n",
    "\n",
    "\n",
    "---\n",
    "\n",
    "\n",
    "\n",
    "> > > > > > > > > © 2019 Data Science Institute of Australia\n",
    "\n",
    "\n",
    "---\n",
    "\n",
    "\n",
    "\n",
    "---\n",
    "\n",
    "\n",
    "\n"
   ]
  }
 ],
 "metadata": {
  "colab": {
   "collapsed_sections": [],
   "name": "DSIA Lab 2.1.5.ipynb",
   "provenance": [],
   "version": "0.3.2"
  },
  "kernelspec": {
   "display_name": "Python 3",
   "language": "python",
   "name": "python3"
  },
  "language_info": {
   "codemirror_mode": {
    "name": "ipython",
    "version": 3
   },
   "file_extension": ".py",
   "mimetype": "text/x-python",
   "name": "python",
   "nbconvert_exporter": "python",
   "pygments_lexer": "ipython3",
   "version": "3.7.3"
  }
 },
 "nbformat": 4,
 "nbformat_minor": 2
}
