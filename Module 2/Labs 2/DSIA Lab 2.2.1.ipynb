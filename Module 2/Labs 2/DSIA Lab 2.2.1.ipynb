{
 "cells": [
  {
   "cell_type": "markdown",
   "metadata": {
    "colab_type": "text",
    "id": "fneIB8BIGtiY"
   },
   "source": [
    "![alt text](https://i.imgur.com/1WaY7aA.png)\n",
    "\n",
    "\n",
    "\n",
    "---\n",
    "\n",
    "\n",
    "\n",
    "---\n",
    "\n"
   ]
  },
  {
   "cell_type": "markdown",
   "metadata": {
    "colab_type": "text",
    "id": "rdipUchUGtih"
   },
   "source": [
    "# Lab 2.2.1 \n",
    "# *Querying the International Space Station*"
   ]
  },
  {
   "cell_type": "markdown",
   "metadata": {
    "colab_type": "text",
    "id": "b2RLpeJNGtil"
   },
   "source": [
    "## The OpenNotify API"
   ]
  },
  {
   "cell_type": "markdown",
   "metadata": {
    "colab_type": "text",
    "id": "rrunXmMNGtip"
   },
   "source": [
    "The OpenNotify API exposes a few attributes of the International Space Station (ISS) via a simple, authentication-free interface. The simplicity of this API precludes any need for a dedicated Python library. However, as with many APIs, it accepts requests according to HTTP standards and returns responses in JSON format, so the Python libraries request and json will make managing the I/O simpler still."
   ]
  },
  {
   "cell_type": "code",
   "execution_count": 2,
   "metadata": {
    "colab": {},
    "colab_type": "code",
    "id": "xz4PaIIjGtis"
   },
   "outputs": [],
   "source": [
    "import requests\n",
    "import json\n",
    "from datetime import datetime, date, time"
   ]
  },
  {
   "cell_type": "markdown",
   "metadata": {
    "colab_type": "text",
    "id": "tE2vsQo3Gti0"
   },
   "source": [
    "This request fetches the latest position of the international space station:"
   ]
  },
  {
   "cell_type": "code",
   "execution_count": 3,
   "metadata": {
    "colab": {},
    "colab_type": "code",
    "id": "bXBJ6YSPGti3"
   },
   "outputs": [],
   "source": [
    "response = requests.get(\"http://api.open-notify.org/iss-now.json\")"
   ]
  },
  {
   "cell_type": "markdown",
   "metadata": {
    "colab_type": "text",
    "id": "wTbnWjPGGti-"
   },
   "source": [
    "Print the status code of the response:"
   ]
  },
  {
   "cell_type": "code",
   "execution_count": 4,
   "metadata": {
    "colab": {},
    "colab_type": "code",
    "id": "_I6hU3-AGtjA"
   },
   "outputs": [
    {
     "name": "stdout",
     "output_type": "stream",
     "text": [
      "<Response [200]>\n"
     ]
    }
   ],
   "source": [
    "print(response)"
   ]
  },
  {
   "cell_type": "markdown",
   "metadata": {
    "colab_type": "text",
    "id": "eiziNer-GtjF"
   },
   "source": [
    "We can also request the current position of the ISS and the next few times at which it will be over a certain location. The latitude and longitude of Sydney are (-33.87, 151.21). Create a dict named `parameters` whose elements are key:value pairs named `lat` and `lon`, containing those figures:"
   ]
  },
  {
   "cell_type": "code",
   "execution_count": 5,
   "metadata": {
    "colab": {},
    "colab_type": "code",
    "id": "2XZ-ygFkGtjH"
   },
   "outputs": [],
   "source": [
    "parameters = {\"lat\": -33.87, \"lon\": 151.21}"
   ]
  },
  {
   "cell_type": "markdown",
   "metadata": {
    "colab_type": "text",
    "id": "oxRvNtSYGtjK"
   },
   "source": [
    "The API request we want starts like the last one, but the last part of the endpoint is \"iss-pass.json\", and it takes a second argument -- namely, the `parameters` value created above. Compose and execute the API request:"
   ]
  },
  {
   "cell_type": "code",
   "execution_count": 6,
   "metadata": {
    "colab": {},
    "colab_type": "code",
    "id": "ZJMngO5IGtjL"
   },
   "outputs": [],
   "source": [
    "response = requests.get(\"http://api.open-notify.org/iss-pass.json\", params = parameters)"
   ]
  },
  {
   "cell_type": "markdown",
   "metadata": {
    "colab_type": "text",
    "id": "aEl3pwmHGtjN"
   },
   "source": [
    "Print the response header:"
   ]
  },
  {
   "cell_type": "code",
   "execution_count": 7,
   "metadata": {
    "colab": {},
    "colab_type": "code",
    "id": "6rsz7gwbGtjP"
   },
   "outputs": [
    {
     "name": "stdout",
     "output_type": "stream",
     "text": [
      "{'Server': 'nginx/1.10.3', 'Date': 'Tue, 16 Jul 2019 04:34:37 GMT', 'Content-Type': 'application/json', 'Content-Length': '521', 'Connection': 'keep-alive', 'Via': '1.1 vegur'}\n"
     ]
    }
   ],
   "source": [
    "print(response.headers)"
   ]
  },
  {
   "cell_type": "markdown",
   "metadata": {
    "colab_type": "text",
    "id": "W6tqlzySGtjR"
   },
   "source": [
    "Print the content of the response (the data that the server returned):"
   ]
  },
  {
   "cell_type": "code",
   "execution_count": 8,
   "metadata": {
    "colab": {},
    "colab_type": "code",
    "id": "HbxepzDZGtjS"
   },
   "outputs": [
    {
     "name": "stdout",
     "output_type": "stream",
     "text": [
      "b'{\\n  \"message\": \"success\", \\n  \"request\": {\\n    \"altitude\": 100, \\n    \"datetime\": 1563250204, \\n    \"latitude\": -33.87, \\n    \"longitude\": 151.21, \\n    \"passes\": 5\\n  }, \\n  \"response\": [\\n    {\\n      \"duration\": 570, \\n      \"risetime\": 1563253483\\n    }, \\n    {\\n      \"duration\": 659, \\n      \"risetime\": 1563259261\\n    }, \\n    {\\n      \"duration\": 401, \\n      \"risetime\": 1563265155\\n    }, \\n    {\\n      \"duration\": 605, \\n      \"risetime\": 1563313443\\n    }, \\n    {\\n      \"duration\": 631, \\n      \"risetime\": 1563319223\\n    }\\n  ]\\n}\\n'\n"
     ]
    }
   ],
   "source": [
    "print(response.content)"
   ]
  },
  {
   "cell_type": "markdown",
   "metadata": {
    "colab_type": "text",
    "id": "N7tHPQzDGtjU"
   },
   "source": [
    "Note that this is a Python byte string:"
   ]
  },
  {
   "cell_type": "code",
   "execution_count": 9,
   "metadata": {
    "colab": {},
    "colab_type": "code",
    "id": "k8AMo0yWGtjV"
   },
   "outputs": [
    {
     "name": "stdout",
     "output_type": "stream",
     "text": [
      "<class 'bytes'>\n"
     ]
    }
   ],
   "source": [
    "print(type(response.content))"
   ]
  },
  {
   "cell_type": "markdown",
   "metadata": {
    "colab_type": "text",
    "id": "5tvv9ht_GtjX"
   },
   "source": [
    "Print just the \"content-type\" value from the header:"
   ]
  },
  {
   "cell_type": "code",
   "execution_count": 10,
   "metadata": {},
   "outputs": [
    {
     "name": "stdout",
     "output_type": "stream",
     "text": [
      "application/json\n"
     ]
    }
   ],
   "source": [
    "print(response.headers[\"content-type\"])"
   ]
  },
  {
   "cell_type": "code",
   "execution_count": 11,
   "metadata": {
    "colab": {},
    "colab_type": "code",
    "id": "nxWxxLI7GtjX"
   },
   "outputs": [
    {
     "name": "stdout",
     "output_type": "stream",
     "text": [
      "<class 'str'>\n"
     ]
    }
   ],
   "source": [
    "print(type(response.headers[\"content-type\"]))"
   ]
  },
  {
   "cell_type": "markdown",
   "metadata": {
    "colab_type": "text",
    "id": "7lPlgn_hGtjZ"
   },
   "source": [
    "JSON was designed to be easy for computers to read, not for people. The `requests` library can decode the JSON byte string:"
   ]
  },
  {
   "cell_type": "code",
   "execution_count": 12,
   "metadata": {
    "colab": {},
    "colab_type": "code",
    "id": "nGVtgDaqGtja"
   },
   "outputs": [
    {
     "name": "stdout",
     "output_type": "stream",
     "text": [
      "{'message': 'success', 'request': {'altitude': 100, 'datetime': 1563250204, 'latitude': -33.87, 'longitude': 151.21, 'passes': 5}, 'response': [{'duration': 570, 'risetime': 1563253483}, {'duration': 659, 'risetime': 1563259261}, {'duration': 401, 'risetime': 1563265155}, {'duration': 605, 'risetime': 1563313443}, {'duration': 631, 'risetime': 1563319223}]}\n"
     ]
    }
   ],
   "source": [
    "overheads = response.json()\n",
    "print(overheads)"
   ]
  },
  {
   "cell_type": "markdown",
   "metadata": {
    "colab_type": "text",
    "id": "l9GOdNK5Gtjc"
   },
   "source": [
    "What kind of object did this give us?"
   ]
  },
  {
   "cell_type": "code",
   "execution_count": 13,
   "metadata": {
    "colab": {},
    "colab_type": "code",
    "id": "JBS4nRmSGtjd"
   },
   "outputs": [
    {
     "name": "stdout",
     "output_type": "stream",
     "text": [
      "<class 'dict'>\n"
     ]
    }
   ],
   "source": [
    "print(type(overheads))"
   ]
  },
  {
   "cell_type": "markdown",
   "metadata": {
    "colab_type": "text",
    "id": "2ZYJabXQGtjg"
   },
   "source": [
    "Python dicts are easier to work with, but the data we want is still buried in that data structure, so we have to dig it out. First, extract the `response` value to a separate dict:"
   ]
  },
  {
   "cell_type": "code",
   "execution_count": 28,
   "metadata": {
    "colab": {},
    "colab_type": "code",
    "id": "0u8LZg4dGtjh"
   },
   "outputs": [
    {
     "name": "stdout",
     "output_type": "stream",
     "text": [
      "[{'duration': 570, 'risetime': 1563253483}, {'duration': 659, 'risetime': 1563259261}, {'duration': 401, 'risetime': 1563265155}, {'duration': 605, 'risetime': 1563313443}, {'duration': 631, 'risetime': 1563319223}]\n"
     ]
    }
   ],
   "source": [
    "#First, extract the passes value to a separate dict:\n",
    "passes = overheads['response']\n",
    "print(passes)"
   ]
  },
  {
   "cell_type": "markdown",
   "metadata": {
    "colab_type": "text",
    "id": "hMHzLrfoGtjj"
   },
   "source": [
    "Now extract the `risetime` strings into an array called `srisetimes`:"
   ]
  },
  {
   "cell_type": "code",
   "execution_count": 33,
   "metadata": {
    "colab": {},
    "colab_type": "code",
    "id": "nXqJ8_F2Gtjj"
   },
   "outputs": [],
   "source": [
    "srisetimes = [xpass['risetime'] for xpass in passes]\n"
   ]
  },
  {
   "cell_type": "code",
   "execution_count": 34,
   "metadata": {},
   "outputs": [
    {
     "name": "stdout",
     "output_type": "stream",
     "text": [
      "[1563253483, 1563259261, 1563265155, 1563313443, 1563319223]\n"
     ]
    }
   ],
   "source": [
    "print(srisetimes)"
   ]
  },
  {
   "cell_type": "markdown",
   "metadata": {
    "colab_type": "text",
    "id": "RItuBRt-Gtjl"
   },
   "source": [
    "```\n",
    "datetime.fromtimestamp(str)\n",
    "```\n",
    "\n",
    "Convert these to an array of Python `datetime` values called `risetimes`:"
   ]
  },
  {
   "cell_type": "code",
   "execution_count": 35,
   "metadata": {},
   "outputs": [],
   "source": [
    "#ANSWER:\n",
    "risetimes = [datetime.fromtimestamp(xpass['risetime']) for xpass in passes] "
   ]
  },
  {
   "cell_type": "code",
   "execution_count": 36,
   "metadata": {
    "colab": {},
    "colab_type": "code",
    "id": "8rzyAcLTGtjm"
   },
   "outputs": [
    {
     "name": "stdout",
     "output_type": "stream",
     "text": [
      "16/07/19 03:04\n",
      "16/07/19 04:41\n",
      "16/07/19 06:19\n",
      "17/07/19 07:44\n",
      "17/07/19 09:20\n"
     ]
    }
   ],
   "source": [
    "for risetime in risetimes:\n",
    "    print(risetime.strftime('%d/%m/%y %I:%M'))"
   ]
  },
  {
   "cell_type": "markdown",
   "metadata": {
    "colab_type": "text",
    "id": "l1EmKOFqGtjn"
   },
   "source": [
    "Finally, print these in a format that people understand:\n",
    "\n",
    "\n",
    "\n",
    "```\n",
    "str.strftime('%d/%m/%y %I:%M')\n",
    "\n",
    "27/03/19 10:59\n",
    "27/03/19 12:35\n",
    "27/03/19 02:11\n",
    "28/03/19 03:42\n",
    "28/03/19 05:13\n",
    "```\n",
    "\n"
   ]
  },
  {
   "cell_type": "code",
   "execution_count": null,
   "metadata": {
    "colab": {},
    "colab_type": "code",
    "id": "AkBE76VqGtjo"
   },
   "outputs": [],
   "source": []
  },
  {
   "cell_type": "markdown",
   "metadata": {
    "colab_type": "text",
    "id": "iNm6GjX3Gtjq"
   },
   "source": [
    "Here is an endpoint that tells us who is onboard:"
   ]
  },
  {
   "cell_type": "code",
   "execution_count": 37,
   "metadata": {
    "colab": {},
    "colab_type": "code",
    "id": "12yXs_OgGtjs"
   },
   "outputs": [],
   "source": [
    "response = requests.get(\"http://api.open-notify.org/astros.json\")"
   ]
  },
  {
   "cell_type": "markdown",
   "metadata": {
    "colab_type": "text",
    "id": "0Np4S0aAGtj0"
   },
   "source": [
    "Referring to the methods used above, extract the number of astronauts and their names:"
   ]
  },
  {
   "cell_type": "code",
   "execution_count": 38,
   "metadata": {
    "colab": {},
    "colab_type": "code",
    "id": "Oqx5L19_Gtj1"
   },
   "outputs": [
    {
     "name": "stdout",
     "output_type": "stream",
     "text": [
      "{'people': [{'craft': 'ISS', 'name': 'Alexey Ovchinin'}, {'craft': 'ISS', 'name': 'Nick Hague'}, {'craft': 'ISS', 'name': 'Christina Koch'}], 'number': 3, 'message': 'success'}\n",
      "3\n",
      "Alexey Ovchinin\n",
      "Nick Hague\n",
      "Christina Koch\n"
     ]
    },
    {
     "data": {
      "text/plain": [
       "[None, None, None]"
      ]
     },
     "execution_count": 38,
     "metadata": {},
     "output_type": "execute_result"
    }
   ],
   "source": [
    "astros = response.json()\n",
    "print(astros)\n",
    "print(astros[\"number\"])\n",
    "[print(astronaut['name']) for astronaut in astros['people']]"
   ]
  },
  {
   "cell_type": "markdown",
   "metadata": {
    "colab_type": "text",
    "id": "A4-DBw_bGtj2"
   },
   "source": [
    "## HOMEWORK\n"
   ]
  },
  {
   "cell_type": "markdown",
   "metadata": {
    "colab_type": "text",
    "id": "c134mC6WGtj3"
   },
   "source": [
    "1. Write a simple handler for the response status code (refer to lab resources slide for HTTP response codes). As this Jupyter Notebook is an interactive device, the handler does not need to manage subsequent code execution (i.e. by branching or aborting execution), although it should return something that could be used to do so if deployed in a Python program."
   ]
  },
  {
   "cell_type": "code",
   "execution_count": 39,
   "metadata": {
    "colab": {},
    "colab_type": "code",
    "id": "FZM2NAWuGtj4"
   },
   "outputs": [],
   "source": [
    "#ANSWER:\n",
    "def handleResponse(response, verbose = False):\n",
    "    '''\n",
    "    Returns Boolean Value, Status Code, \n",
    "    '''\n",
    "  # if Status Code is 200 return false, and status code\n",
    "  # Otherwise Return True and Status Code"
   ]
  },
  {
   "cell_type": "code",
   "execution_count": 40,
   "metadata": {},
   "outputs": [],
   "source": [
    "def handleResponse(response, verbose = False):\n",
    "    if response.status_code == 200:\n",
    "        if verbose:\n",
    "            print('Response = 200: OK')\n",
    "        fail = False\n",
    "    else:\n",
    "        if verbose:\n",
    "            print('Response = ' + str(response.status_code) + ': ' + '(TODO: output of lookup function here)')\n",
    "        fail = True\n",
    "    return(fail, response.status_code)"
   ]
  },
  {
   "cell_type": "markdown",
   "metadata": {
    "colab_type": "text",
    "id": "9aPstlTIGtj5"
   },
   "source": [
    "2. Test your response handler on some correct and incorrect API calls."
   ]
  },
  {
   "cell_type": "code",
   "execution_count": 41,
   "metadata": {
    "colab": {},
    "colab_type": "code",
    "id": "GYT1LAb8Gtj6"
   },
   "outputs": [
    {
     "name": "stdout",
     "output_type": "stream",
     "text": [
      "Response = 400: (TODO: output of lookup function here)\n"
     ]
    },
    {
     "data": {
      "text/plain": [
       "True"
      ]
     },
     "execution_count": 41,
     "metadata": {},
     "output_type": "execute_result"
    }
   ],
   "source": [
    "response = requests.get(\"http://api.open-notify.org/astros.json\")\n",
    "if handleResponse(response)[0]:\n",
    "    print('API call failed. Resolve issue before continuing!')\n",
    "    \n",
    "response = requests.get(\"http://api.open-notify.org/iss-pass.json\")\n",
    "handleResponse(response, True)[0]"
   ]
  },
  {
   "cell_type": "markdown",
   "metadata": {
    "colab_type": "text",
    "id": "k0AWq0rIIPza"
   },
   "source": [
    ">"
   ]
  },
  {
   "cell_type": "markdown",
   "metadata": {
    "colab_type": "text",
    "id": "561tVw5LITP8"
   },
   "source": [
    ">"
   ]
  },
  {
   "cell_type": "markdown",
   "metadata": {
    "colab_type": "text",
    "id": "H8Z7AkhTIUi3"
   },
   "source": [
    ">"
   ]
  },
  {
   "cell_type": "markdown",
   "metadata": {
    "colab_type": "text",
    "id": "2lHXfE7KIHQp"
   },
   "source": [
    "\n",
    "\n",
    "---\n",
    "\n",
    "\n",
    "\n",
    "---\n",
    "\n",
    "\n",
    "> > > > > > > > >© 2019 Data Science Institute of Australia\n",
    "\n",
    "\n",
    "---\n",
    "\n",
    "\n",
    "\n",
    "---\n",
    "\n"
   ]
  }
 ],
 "metadata": {
  "colab": {
   "collapsed_sections": [],
   "name": "DSIA Lab 2.2.1.ipynb",
   "provenance": [
    {
     "file_id": "1RknypYS3TD4wPumGiPV69EWtkq-3UBwF",
     "timestamp": 1553136072736
    }
   ],
   "version": "0.3.2"
  },
  "kernelspec": {
   "display_name": "Python 3",
   "language": "python",
   "name": "python3"
  },
  "language_info": {
   "codemirror_mode": {
    "name": "ipython",
    "version": 3
   },
   "file_extension": ".py",
   "mimetype": "text/x-python",
   "name": "python",
   "nbconvert_exporter": "python",
   "pygments_lexer": "ipython3",
   "version": "3.7.3"
  }
 },
 "nbformat": 4,
 "nbformat_minor": 2
}
