{
 "cells": [
  {
   "cell_type": "markdown",
   "metadata": {},
   "source": [
    "![alt text](https://i.imgur.com/1WaY7aA.png)"
   ]
  },
  {
   "cell_type": "markdown",
   "metadata": {},
   "source": [
    "# Lab 4.1.1 Linear Regression"
   ]
  },
  {
   "cell_type": "markdown",
   "metadata": {},
   "source": [
    "## Prediction of House Price Using Linear Regression"
   ]
  },
  {
   "cell_type": "markdown",
   "metadata": {},
   "source": [
    "### Data\n",
    "\n",
    "The Sacramento real estate transactions file is a list of 985 real estate transactions in the Sacramento area reported over a five-day period, as reported by the Sacramento Bee."
   ]
  },
  {
   "cell_type": "code",
   "execution_count": 37,
   "metadata": {},
   "outputs": [],
   "source": [
    "import pandas as pd\n",
    "import numpy as np\n",
    "import pandas as pd\n",
    "import seaborn as sns\n",
    "from scipy import stats\n",
    "from matplotlib import pyplot as plt\n",
    "\n",
    "%matplotlib inline"
   ]
  },
  {
   "cell_type": "markdown",
   "metadata": {},
   "source": [
    "### 1. Explore Data"
   ]
  },
  {
   "cell_type": "markdown",
   "metadata": {},
   "source": [
    "Perform EDA on this dataset. Use what you have learned so far. Be creative. List all your findings."
   ]
  },
  {
   "cell_type": "code",
   "execution_count": 8,
   "metadata": {},
   "outputs": [],
   "source": [
    "# Read CSV\n",
    "house_csv = pd.read_csv( \"C:\\\\Users\\\\praty\\\\Documents\\\\DSIA\\\\DSIA-SYD-FT-Projects-201907\\\\Sarita\\\\Labs\\\\Sacramentorealestatetransactions.csv\")"
   ]
  },
  {
   "cell_type": "code",
   "execution_count": 9,
   "metadata": {},
   "outputs": [
    {
     "name": "stdout",
     "output_type": "stream",
     "text": [
      "<class 'pandas.core.frame.DataFrame'>\n",
      "RangeIndex: 985 entries, 0 to 984\n",
      "Data columns (total 12 columns):\n",
      "street       985 non-null object\n",
      "city         985 non-null object\n",
      "zip          985 non-null int64\n",
      "state        985 non-null object\n",
      "beds         985 non-null int64\n",
      "baths        985 non-null int64\n",
      "sq__ft       985 non-null int64\n",
      "type         985 non-null object\n",
      "sale_date    985 non-null object\n",
      "price        985 non-null int64\n",
      "latitude     985 non-null float64\n",
      "longitude    985 non-null float64\n",
      "dtypes: float64(2), int64(5), object(5)\n",
      "memory usage: 92.4+ KB\n"
     ]
    }
   ],
   "source": [
    "house_csv.info()"
   ]
  },
  {
   "cell_type": "code",
   "execution_count": 10,
   "metadata": {},
   "outputs": [
    {
     "data": {
      "text/plain": [
       "(985, 12)"
      ]
     },
     "execution_count": 10,
     "metadata": {},
     "output_type": "execute_result"
    }
   ],
   "source": [
    "house_csv.shape# data size is 985 by 12, 5 col are int, 5 are object, 2 are float"
   ]
  },
  {
   "cell_type": "code",
   "execution_count": 11,
   "metadata": {},
   "outputs": [
    {
     "data": {
      "text/plain": [
       "street       0\n",
       "city         0\n",
       "zip          0\n",
       "state        0\n",
       "beds         0\n",
       "baths        0\n",
       "sq__ft       0\n",
       "type         0\n",
       "sale_date    0\n",
       "price        0\n",
       "latitude     0\n",
       "longitude    0\n",
       "dtype: int64"
      ]
     },
     "execution_count": 11,
     "metadata": {},
     "output_type": "execute_result"
    }
   ],
   "source": [
    "house_csv.isnull().sum()# no null values"
   ]
  },
  {
   "cell_type": "code",
   "execution_count": 12,
   "metadata": {},
   "outputs": [
    {
     "data": {
      "text/html": [
       "<div>\n",
       "<style scoped>\n",
       "    .dataframe tbody tr th:only-of-type {\n",
       "        vertical-align: middle;\n",
       "    }\n",
       "\n",
       "    .dataframe tbody tr th {\n",
       "        vertical-align: top;\n",
       "    }\n",
       "\n",
       "    .dataframe thead th {\n",
       "        text-align: right;\n",
       "    }\n",
       "</style>\n",
       "<table border=\"1\" class=\"dataframe\">\n",
       "  <thead>\n",
       "    <tr style=\"text-align: right;\">\n",
       "      <th></th>\n",
       "      <th>street</th>\n",
       "      <th>city</th>\n",
       "      <th>zip</th>\n",
       "      <th>state</th>\n",
       "      <th>beds</th>\n",
       "      <th>baths</th>\n",
       "      <th>sq__ft</th>\n",
       "      <th>type</th>\n",
       "      <th>sale_date</th>\n",
       "      <th>price</th>\n",
       "      <th>latitude</th>\n",
       "      <th>longitude</th>\n",
       "    </tr>\n",
       "  </thead>\n",
       "  <tbody>\n",
       "    <tr>\n",
       "      <th>0</th>\n",
       "      <td>3526 HIGH ST</td>\n",
       "      <td>SACRAMENTO</td>\n",
       "      <td>95838</td>\n",
       "      <td>CA</td>\n",
       "      <td>2</td>\n",
       "      <td>1</td>\n",
       "      <td>836</td>\n",
       "      <td>Residential</td>\n",
       "      <td>Wed May 21 00:00:00 EDT 2008</td>\n",
       "      <td>59222</td>\n",
       "      <td>38.631913</td>\n",
       "      <td>-121.434879</td>\n",
       "    </tr>\n",
       "    <tr>\n",
       "      <th>1</th>\n",
       "      <td>51 OMAHA CT</td>\n",
       "      <td>SACRAMENTO</td>\n",
       "      <td>95823</td>\n",
       "      <td>CA</td>\n",
       "      <td>3</td>\n",
       "      <td>1</td>\n",
       "      <td>1167</td>\n",
       "      <td>Residential</td>\n",
       "      <td>Wed May 21 00:00:00 EDT 2008</td>\n",
       "      <td>68212</td>\n",
       "      <td>38.478902</td>\n",
       "      <td>-121.431028</td>\n",
       "    </tr>\n",
       "    <tr>\n",
       "      <th>2</th>\n",
       "      <td>2796 BRANCH ST</td>\n",
       "      <td>SACRAMENTO</td>\n",
       "      <td>95815</td>\n",
       "      <td>CA</td>\n",
       "      <td>2</td>\n",
       "      <td>1</td>\n",
       "      <td>796</td>\n",
       "      <td>Residential</td>\n",
       "      <td>Wed May 21 00:00:00 EDT 2008</td>\n",
       "      <td>68880</td>\n",
       "      <td>38.618305</td>\n",
       "      <td>-121.443839</td>\n",
       "    </tr>\n",
       "    <tr>\n",
       "      <th>3</th>\n",
       "      <td>2805 JANETTE WAY</td>\n",
       "      <td>SACRAMENTO</td>\n",
       "      <td>95815</td>\n",
       "      <td>CA</td>\n",
       "      <td>2</td>\n",
       "      <td>1</td>\n",
       "      <td>852</td>\n",
       "      <td>Residential</td>\n",
       "      <td>Wed May 21 00:00:00 EDT 2008</td>\n",
       "      <td>69307</td>\n",
       "      <td>38.616835</td>\n",
       "      <td>-121.439146</td>\n",
       "    </tr>\n",
       "    <tr>\n",
       "      <th>4</th>\n",
       "      <td>6001 MCMAHON DR</td>\n",
       "      <td>SACRAMENTO</td>\n",
       "      <td>95824</td>\n",
       "      <td>CA</td>\n",
       "      <td>2</td>\n",
       "      <td>1</td>\n",
       "      <td>797</td>\n",
       "      <td>Residential</td>\n",
       "      <td>Wed May 21 00:00:00 EDT 2008</td>\n",
       "      <td>81900</td>\n",
       "      <td>38.519470</td>\n",
       "      <td>-121.435768</td>\n",
       "    </tr>\n",
       "  </tbody>\n",
       "</table>\n",
       "</div>"
      ],
      "text/plain": [
       "             street        city    zip state  beds  baths  sq__ft  \\\n",
       "0      3526 HIGH ST  SACRAMENTO  95838    CA     2      1     836   \n",
       "1       51 OMAHA CT  SACRAMENTO  95823    CA     3      1    1167   \n",
       "2    2796 BRANCH ST  SACRAMENTO  95815    CA     2      1     796   \n",
       "3  2805 JANETTE WAY  SACRAMENTO  95815    CA     2      1     852   \n",
       "4   6001 MCMAHON DR  SACRAMENTO  95824    CA     2      1     797   \n",
       "\n",
       "          type                     sale_date  price   latitude   longitude  \n",
       "0  Residential  Wed May 21 00:00:00 EDT 2008  59222  38.631913 -121.434879  \n",
       "1  Residential  Wed May 21 00:00:00 EDT 2008  68212  38.478902 -121.431028  \n",
       "2  Residential  Wed May 21 00:00:00 EDT 2008  68880  38.618305 -121.443839  \n",
       "3  Residential  Wed May 21 00:00:00 EDT 2008  69307  38.616835 -121.439146  \n",
       "4  Residential  Wed May 21 00:00:00 EDT 2008  81900  38.519470 -121.435768  "
      ]
     },
     "execution_count": 12,
     "metadata": {},
     "output_type": "execute_result"
    }
   ],
   "source": [
    "house_csv.head()"
   ]
  },
  {
   "cell_type": "code",
   "execution_count": 13,
   "metadata": {},
   "outputs": [
    {
     "data": {
      "text/html": [
       "<div>\n",
       "<style scoped>\n",
       "    .dataframe tbody tr th:only-of-type {\n",
       "        vertical-align: middle;\n",
       "    }\n",
       "\n",
       "    .dataframe tbody tr th {\n",
       "        vertical-align: top;\n",
       "    }\n",
       "\n",
       "    .dataframe thead th {\n",
       "        text-align: right;\n",
       "    }\n",
       "</style>\n",
       "<table border=\"1\" class=\"dataframe\">\n",
       "  <thead>\n",
       "    <tr style=\"text-align: right;\">\n",
       "      <th></th>\n",
       "      <th>street</th>\n",
       "      <th>city</th>\n",
       "      <th>zip</th>\n",
       "      <th>state</th>\n",
       "      <th>beds</th>\n",
       "      <th>baths</th>\n",
       "      <th>sq__ft</th>\n",
       "      <th>type</th>\n",
       "      <th>sale_date</th>\n",
       "      <th>price</th>\n",
       "      <th>latitude</th>\n",
       "      <th>longitude</th>\n",
       "    </tr>\n",
       "  </thead>\n",
       "  <tbody>\n",
       "    <tr>\n",
       "      <th>980</th>\n",
       "      <td>9169 GARLINGTON CT</td>\n",
       "      <td>SACRAMENTO</td>\n",
       "      <td>95829</td>\n",
       "      <td>CA</td>\n",
       "      <td>4</td>\n",
       "      <td>3</td>\n",
       "      <td>2280</td>\n",
       "      <td>Residential</td>\n",
       "      <td>Thu May 15 00:00:00 EDT 2008</td>\n",
       "      <td>232425</td>\n",
       "      <td>38.457679</td>\n",
       "      <td>-121.359620</td>\n",
       "    </tr>\n",
       "    <tr>\n",
       "      <th>981</th>\n",
       "      <td>6932 RUSKUT WAY</td>\n",
       "      <td>SACRAMENTO</td>\n",
       "      <td>95823</td>\n",
       "      <td>CA</td>\n",
       "      <td>3</td>\n",
       "      <td>2</td>\n",
       "      <td>1477</td>\n",
       "      <td>Residential</td>\n",
       "      <td>Thu May 15 00:00:00 EDT 2008</td>\n",
       "      <td>234000</td>\n",
       "      <td>38.499893</td>\n",
       "      <td>-121.458890</td>\n",
       "    </tr>\n",
       "    <tr>\n",
       "      <th>982</th>\n",
       "      <td>7933 DAFFODIL WAY</td>\n",
       "      <td>CITRUS HEIGHTS</td>\n",
       "      <td>95610</td>\n",
       "      <td>CA</td>\n",
       "      <td>3</td>\n",
       "      <td>2</td>\n",
       "      <td>1216</td>\n",
       "      <td>Residential</td>\n",
       "      <td>Thu May 15 00:00:00 EDT 2008</td>\n",
       "      <td>235000</td>\n",
       "      <td>38.708824</td>\n",
       "      <td>-121.256803</td>\n",
       "    </tr>\n",
       "    <tr>\n",
       "      <th>983</th>\n",
       "      <td>8304 RED FOX WAY</td>\n",
       "      <td>ELK GROVE</td>\n",
       "      <td>95758</td>\n",
       "      <td>CA</td>\n",
       "      <td>4</td>\n",
       "      <td>2</td>\n",
       "      <td>1685</td>\n",
       "      <td>Residential</td>\n",
       "      <td>Thu May 15 00:00:00 EDT 2008</td>\n",
       "      <td>235301</td>\n",
       "      <td>38.417000</td>\n",
       "      <td>-121.397424</td>\n",
       "    </tr>\n",
       "    <tr>\n",
       "      <th>984</th>\n",
       "      <td>3882 YELLOWSTONE LN</td>\n",
       "      <td>EL DORADO HILLS</td>\n",
       "      <td>95762</td>\n",
       "      <td>CA</td>\n",
       "      <td>3</td>\n",
       "      <td>2</td>\n",
       "      <td>1362</td>\n",
       "      <td>Residential</td>\n",
       "      <td>Thu May 15 00:00:00 EDT 2008</td>\n",
       "      <td>235738</td>\n",
       "      <td>38.655245</td>\n",
       "      <td>-121.075915</td>\n",
       "    </tr>\n",
       "  </tbody>\n",
       "</table>\n",
       "</div>"
      ],
      "text/plain": [
       "                  street             city    zip state  beds  baths  sq__ft  \\\n",
       "980   9169 GARLINGTON CT       SACRAMENTO  95829    CA     4      3    2280   \n",
       "981      6932 RUSKUT WAY       SACRAMENTO  95823    CA     3      2    1477   \n",
       "982    7933 DAFFODIL WAY   CITRUS HEIGHTS  95610    CA     3      2    1216   \n",
       "983     8304 RED FOX WAY        ELK GROVE  95758    CA     4      2    1685   \n",
       "984  3882 YELLOWSTONE LN  EL DORADO HILLS  95762    CA     3      2    1362   \n",
       "\n",
       "            type                     sale_date   price   latitude   longitude  \n",
       "980  Residential  Thu May 15 00:00:00 EDT 2008  232425  38.457679 -121.359620  \n",
       "981  Residential  Thu May 15 00:00:00 EDT 2008  234000  38.499893 -121.458890  \n",
       "982  Residential  Thu May 15 00:00:00 EDT 2008  235000  38.708824 -121.256803  \n",
       "983  Residential  Thu May 15 00:00:00 EDT 2008  235301  38.417000 -121.397424  \n",
       "984  Residential  Thu May 15 00:00:00 EDT 2008  235738  38.655245 -121.075915  "
      ]
     },
     "execution_count": 13,
     "metadata": {},
     "output_type": "execute_result"
    }
   ],
   "source": [
    "house_csv.tail()"
   ]
  },
  {
   "cell_type": "code",
   "execution_count": 15,
   "metadata": {},
   "outputs": [],
   "source": [
    "# Zip is categorical value, should be string\n",
    "house_csv['zip'] = house_csv['zip'].astype(str)"
   ]
  },
  {
   "cell_type": "code",
   "execution_count": 17,
   "metadata": {},
   "outputs": [
    {
     "data": {
      "text/html": [
       "<div>\n",
       "<style scoped>\n",
       "    .dataframe tbody tr th:only-of-type {\n",
       "        vertical-align: middle;\n",
       "    }\n",
       "\n",
       "    .dataframe tbody tr th {\n",
       "        vertical-align: top;\n",
       "    }\n",
       "\n",
       "    .dataframe thead th {\n",
       "        text-align: right;\n",
       "    }\n",
       "</style>\n",
       "<table border=\"1\" class=\"dataframe\">\n",
       "  <thead>\n",
       "    <tr style=\"text-align: right;\">\n",
       "      <th></th>\n",
       "      <th>beds</th>\n",
       "      <th>baths</th>\n",
       "      <th>sq__ft</th>\n",
       "      <th>price</th>\n",
       "      <th>latitude</th>\n",
       "      <th>longitude</th>\n",
       "    </tr>\n",
       "  </thead>\n",
       "  <tbody>\n",
       "    <tr>\n",
       "      <th>count</th>\n",
       "      <td>985.000000</td>\n",
       "      <td>985.000000</td>\n",
       "      <td>985.000000</td>\n",
       "      <td>985.000000</td>\n",
       "      <td>985.000000</td>\n",
       "      <td>985.000000</td>\n",
       "    </tr>\n",
       "    <tr>\n",
       "      <th>mean</th>\n",
       "      <td>2.911675</td>\n",
       "      <td>1.776650</td>\n",
       "      <td>1314.916751</td>\n",
       "      <td>234144.263959</td>\n",
       "      <td>38.607732</td>\n",
       "      <td>-121.355982</td>\n",
       "    </tr>\n",
       "    <tr>\n",
       "      <th>std</th>\n",
       "      <td>1.307932</td>\n",
       "      <td>0.895371</td>\n",
       "      <td>853.048243</td>\n",
       "      <td>138365.839085</td>\n",
       "      <td>0.145433</td>\n",
       "      <td>0.138278</td>\n",
       "    </tr>\n",
       "    <tr>\n",
       "      <th>min</th>\n",
       "      <td>0.000000</td>\n",
       "      <td>0.000000</td>\n",
       "      <td>0.000000</td>\n",
       "      <td>1551.000000</td>\n",
       "      <td>38.241514</td>\n",
       "      <td>-121.551704</td>\n",
       "    </tr>\n",
       "    <tr>\n",
       "      <th>25%</th>\n",
       "      <td>2.000000</td>\n",
       "      <td>1.000000</td>\n",
       "      <td>952.000000</td>\n",
       "      <td>145000.000000</td>\n",
       "      <td>38.482717</td>\n",
       "      <td>-121.446127</td>\n",
       "    </tr>\n",
       "    <tr>\n",
       "      <th>50%</th>\n",
       "      <td>3.000000</td>\n",
       "      <td>2.000000</td>\n",
       "      <td>1304.000000</td>\n",
       "      <td>213750.000000</td>\n",
       "      <td>38.626582</td>\n",
       "      <td>-121.376220</td>\n",
       "    </tr>\n",
       "    <tr>\n",
       "      <th>75%</th>\n",
       "      <td>4.000000</td>\n",
       "      <td>2.000000</td>\n",
       "      <td>1718.000000</td>\n",
       "      <td>300000.000000</td>\n",
       "      <td>38.695589</td>\n",
       "      <td>-121.295778</td>\n",
       "    </tr>\n",
       "    <tr>\n",
       "      <th>max</th>\n",
       "      <td>8.000000</td>\n",
       "      <td>5.000000</td>\n",
       "      <td>5822.000000</td>\n",
       "      <td>884790.000000</td>\n",
       "      <td>39.020808</td>\n",
       "      <td>-120.597599</td>\n",
       "    </tr>\n",
       "  </tbody>\n",
       "</table>\n",
       "</div>"
      ],
      "text/plain": [
       "             beds       baths       sq__ft          price    latitude  \\\n",
       "count  985.000000  985.000000   985.000000     985.000000  985.000000   \n",
       "mean     2.911675    1.776650  1314.916751  234144.263959   38.607732   \n",
       "std      1.307932    0.895371   853.048243  138365.839085    0.145433   \n",
       "min      0.000000    0.000000     0.000000    1551.000000   38.241514   \n",
       "25%      2.000000    1.000000   952.000000  145000.000000   38.482717   \n",
       "50%      3.000000    2.000000  1304.000000  213750.000000   38.626582   \n",
       "75%      4.000000    2.000000  1718.000000  300000.000000   38.695589   \n",
       "max      8.000000    5.000000  5822.000000  884790.000000   39.020808   \n",
       "\n",
       "        longitude  \n",
       "count  985.000000  \n",
       "mean  -121.355982  \n",
       "std      0.138278  \n",
       "min   -121.551704  \n",
       "25%   -121.446127  \n",
       "50%   -121.376220  \n",
       "75%   -121.295778  \n",
       "max   -120.597599  "
      ]
     },
     "execution_count": 17,
     "metadata": {},
     "output_type": "execute_result"
    }
   ],
   "source": [
    "# Describe Data\n",
    "house_csv.describe()"
   ]
  },
  {
   "cell_type": "code",
   "execution_count": 18,
   "metadata": {},
   "outputs": [
    {
     "data": {
      "text/html": [
       "<div>\n",
       "<style scoped>\n",
       "    .dataframe tbody tr th:only-of-type {\n",
       "        vertical-align: middle;\n",
       "    }\n",
       "\n",
       "    .dataframe tbody tr th {\n",
       "        vertical-align: top;\n",
       "    }\n",
       "\n",
       "    .dataframe thead th {\n",
       "        text-align: right;\n",
       "    }\n",
       "</style>\n",
       "<table border=\"1\" class=\"dataframe\">\n",
       "  <thead>\n",
       "    <tr style=\"text-align: right;\">\n",
       "      <th></th>\n",
       "      <th>count</th>\n",
       "      <th>mean</th>\n",
       "      <th>std</th>\n",
       "      <th>min</th>\n",
       "      <th>25%</th>\n",
       "      <th>50%</th>\n",
       "      <th>75%</th>\n",
       "      <th>max</th>\n",
       "    </tr>\n",
       "  </thead>\n",
       "  <tbody>\n",
       "    <tr>\n",
       "      <th>beds</th>\n",
       "      <td>985.0</td>\n",
       "      <td>2.911675</td>\n",
       "      <td>1.307932</td>\n",
       "      <td>0.000000</td>\n",
       "      <td>2.000000</td>\n",
       "      <td>3.000000</td>\n",
       "      <td>4.000000</td>\n",
       "      <td>8.000000</td>\n",
       "    </tr>\n",
       "    <tr>\n",
       "      <th>baths</th>\n",
       "      <td>985.0</td>\n",
       "      <td>1.776650</td>\n",
       "      <td>0.895371</td>\n",
       "      <td>0.000000</td>\n",
       "      <td>1.000000</td>\n",
       "      <td>2.000000</td>\n",
       "      <td>2.000000</td>\n",
       "      <td>5.000000</td>\n",
       "    </tr>\n",
       "    <tr>\n",
       "      <th>sq__ft</th>\n",
       "      <td>985.0</td>\n",
       "      <td>1314.916751</td>\n",
       "      <td>853.048243</td>\n",
       "      <td>0.000000</td>\n",
       "      <td>952.000000</td>\n",
       "      <td>1304.000000</td>\n",
       "      <td>1718.000000</td>\n",
       "      <td>5822.000000</td>\n",
       "    </tr>\n",
       "    <tr>\n",
       "      <th>price</th>\n",
       "      <td>985.0</td>\n",
       "      <td>234144.263959</td>\n",
       "      <td>138365.839085</td>\n",
       "      <td>1551.000000</td>\n",
       "      <td>145000.000000</td>\n",
       "      <td>213750.000000</td>\n",
       "      <td>300000.000000</td>\n",
       "      <td>884790.000000</td>\n",
       "    </tr>\n",
       "    <tr>\n",
       "      <th>latitude</th>\n",
       "      <td>985.0</td>\n",
       "      <td>38.607732</td>\n",
       "      <td>0.145433</td>\n",
       "      <td>38.241514</td>\n",
       "      <td>38.482717</td>\n",
       "      <td>38.626582</td>\n",
       "      <td>38.695589</td>\n",
       "      <td>39.020808</td>\n",
       "    </tr>\n",
       "    <tr>\n",
       "      <th>longitude</th>\n",
       "      <td>985.0</td>\n",
       "      <td>-121.355982</td>\n",
       "      <td>0.138278</td>\n",
       "      <td>-121.551704</td>\n",
       "      <td>-121.446127</td>\n",
       "      <td>-121.376220</td>\n",
       "      <td>-121.295778</td>\n",
       "      <td>-120.597599</td>\n",
       "    </tr>\n",
       "  </tbody>\n",
       "</table>\n",
       "</div>"
      ],
      "text/plain": [
       "           count           mean            std          min            25%  \\\n",
       "beds       985.0       2.911675       1.307932     0.000000       2.000000   \n",
       "baths      985.0       1.776650       0.895371     0.000000       1.000000   \n",
       "sq__ft     985.0    1314.916751     853.048243     0.000000     952.000000   \n",
       "price      985.0  234144.263959  138365.839085  1551.000000  145000.000000   \n",
       "latitude   985.0      38.607732       0.145433    38.241514      38.482717   \n",
       "longitude  985.0    -121.355982       0.138278  -121.551704    -121.446127   \n",
       "\n",
       "                     50%            75%            max  \n",
       "beds            3.000000       4.000000       8.000000  \n",
       "baths           2.000000       2.000000       5.000000  \n",
       "sq__ft       1304.000000    1718.000000    5822.000000  \n",
       "price      213750.000000  300000.000000  884790.000000  \n",
       "latitude       38.626582      38.695589      39.020808  \n",
       "longitude    -121.376220    -121.295778    -120.597599  "
      ]
     },
     "execution_count": 18,
     "metadata": {},
     "output_type": "execute_result"
    }
   ],
   "source": [
    "# Describe Data\n",
    "house_csv.describe().T # this gives the values on the top and column at one side"
   ]
  },
  {
   "cell_type": "code",
   "execution_count": 19,
   "metadata": {},
   "outputs": [
    {
     "data": {
      "text/html": [
       "<div>\n",
       "<style scoped>\n",
       "    .dataframe tbody tr th:only-of-type {\n",
       "        vertical-align: middle;\n",
       "    }\n",
       "\n",
       "    .dataframe tbody tr th {\n",
       "        vertical-align: top;\n",
       "    }\n",
       "\n",
       "    .dataframe thead th {\n",
       "        text-align: right;\n",
       "    }\n",
       "</style>\n",
       "<table border=\"1\" class=\"dataframe\">\n",
       "  <thead>\n",
       "    <tr style=\"text-align: right;\">\n",
       "      <th></th>\n",
       "      <th>street</th>\n",
       "      <th>city</th>\n",
       "      <th>zip</th>\n",
       "      <th>state</th>\n",
       "      <th>beds</th>\n",
       "      <th>baths</th>\n",
       "      <th>sq__ft</th>\n",
       "      <th>type</th>\n",
       "      <th>sale_date</th>\n",
       "      <th>price</th>\n",
       "      <th>latitude</th>\n",
       "      <th>longitude</th>\n",
       "    </tr>\n",
       "  </thead>\n",
       "  <tbody>\n",
       "    <tr>\n",
       "      <th>73</th>\n",
       "      <td>17 SERASPI CT</td>\n",
       "      <td>SACRAMENTO</td>\n",
       "      <td>95834</td>\n",
       "      <td>CA</td>\n",
       "      <td>0</td>\n",
       "      <td>0</td>\n",
       "      <td>0</td>\n",
       "      <td>Residential</td>\n",
       "      <td>Wed May 21 00:00:00 EDT 2008</td>\n",
       "      <td>206000</td>\n",
       "      <td>38.631481</td>\n",
       "      <td>-121.501880</td>\n",
       "    </tr>\n",
       "    <tr>\n",
       "      <th>89</th>\n",
       "      <td>2866 KARITSA AVE</td>\n",
       "      <td>SACRAMENTO</td>\n",
       "      <td>95833</td>\n",
       "      <td>CA</td>\n",
       "      <td>0</td>\n",
       "      <td>0</td>\n",
       "      <td>0</td>\n",
       "      <td>Residential</td>\n",
       "      <td>Wed May 21 00:00:00 EDT 2008</td>\n",
       "      <td>244500</td>\n",
       "      <td>38.626671</td>\n",
       "      <td>-121.525970</td>\n",
       "    </tr>\n",
       "    <tr>\n",
       "      <th>100</th>\n",
       "      <td>12209 CONSERVANCY WAY</td>\n",
       "      <td>RANCHO CORDOVA</td>\n",
       "      <td>95742</td>\n",
       "      <td>CA</td>\n",
       "      <td>0</td>\n",
       "      <td>0</td>\n",
       "      <td>0</td>\n",
       "      <td>Residential</td>\n",
       "      <td>Wed May 21 00:00:00 EDT 2008</td>\n",
       "      <td>263500</td>\n",
       "      <td>38.553867</td>\n",
       "      <td>-121.219141</td>\n",
       "    </tr>\n",
       "    <tr>\n",
       "      <th>121</th>\n",
       "      <td>5337 DUSTY ROSE WAY</td>\n",
       "      <td>RANCHO CORDOVA</td>\n",
       "      <td>95742</td>\n",
       "      <td>CA</td>\n",
       "      <td>0</td>\n",
       "      <td>0</td>\n",
       "      <td>0</td>\n",
       "      <td>Residential</td>\n",
       "      <td>Wed May 21 00:00:00 EDT 2008</td>\n",
       "      <td>320000</td>\n",
       "      <td>38.528575</td>\n",
       "      <td>-121.228600</td>\n",
       "    </tr>\n",
       "    <tr>\n",
       "      <th>126</th>\n",
       "      <td>2115 SMOKESTACK WAY</td>\n",
       "      <td>SACRAMENTO</td>\n",
       "      <td>95833</td>\n",
       "      <td>CA</td>\n",
       "      <td>0</td>\n",
       "      <td>0</td>\n",
       "      <td>0</td>\n",
       "      <td>Residential</td>\n",
       "      <td>Wed May 21 00:00:00 EDT 2008</td>\n",
       "      <td>339500</td>\n",
       "      <td>38.602416</td>\n",
       "      <td>-121.542965</td>\n",
       "    </tr>\n",
       "    <tr>\n",
       "      <th>133</th>\n",
       "      <td>8082 LINDA ISLE LN</td>\n",
       "      <td>SACRAMENTO</td>\n",
       "      <td>95831</td>\n",
       "      <td>CA</td>\n",
       "      <td>0</td>\n",
       "      <td>0</td>\n",
       "      <td>0</td>\n",
       "      <td>Residential</td>\n",
       "      <td>Wed May 21 00:00:00 EDT 2008</td>\n",
       "      <td>370000</td>\n",
       "      <td>38.477200</td>\n",
       "      <td>-121.521500</td>\n",
       "    </tr>\n",
       "    <tr>\n",
       "      <th>147</th>\n",
       "      <td>9278 DAIRY CT</td>\n",
       "      <td>ELK GROVE</td>\n",
       "      <td>95624</td>\n",
       "      <td>CA</td>\n",
       "      <td>0</td>\n",
       "      <td>0</td>\n",
       "      <td>0</td>\n",
       "      <td>Residential</td>\n",
       "      <td>Wed May 21 00:00:00 EDT 2008</td>\n",
       "      <td>445000</td>\n",
       "      <td>38.420338</td>\n",
       "      <td>-121.363757</td>\n",
       "    </tr>\n",
       "    <tr>\n",
       "      <th>153</th>\n",
       "      <td>868 HILDEBRAND CIR</td>\n",
       "      <td>FOLSOM</td>\n",
       "      <td>95630</td>\n",
       "      <td>CA</td>\n",
       "      <td>0</td>\n",
       "      <td>0</td>\n",
       "      <td>0</td>\n",
       "      <td>Residential</td>\n",
       "      <td>Wed May 21 00:00:00 EDT 2008</td>\n",
       "      <td>585000</td>\n",
       "      <td>38.670947</td>\n",
       "      <td>-121.097727</td>\n",
       "    </tr>\n",
       "    <tr>\n",
       "      <th>169</th>\n",
       "      <td>14788 NATCHEZ CT</td>\n",
       "      <td>RANCHO MURIETA</td>\n",
       "      <td>95683</td>\n",
       "      <td>CA</td>\n",
       "      <td>0</td>\n",
       "      <td>0</td>\n",
       "      <td>0</td>\n",
       "      <td>Residential</td>\n",
       "      <td>Tue May 20 00:00:00 EDT 2008</td>\n",
       "      <td>97750</td>\n",
       "      <td>38.492287</td>\n",
       "      <td>-121.100032</td>\n",
       "    </tr>\n",
       "    <tr>\n",
       "      <th>192</th>\n",
       "      <td>5201 LAGUNA OAKS DR Unit 126</td>\n",
       "      <td>ELK GROVE</td>\n",
       "      <td>95758</td>\n",
       "      <td>CA</td>\n",
       "      <td>0</td>\n",
       "      <td>0</td>\n",
       "      <td>0</td>\n",
       "      <td>Condo</td>\n",
       "      <td>Tue May 20 00:00:00 EDT 2008</td>\n",
       "      <td>145000</td>\n",
       "      <td>38.423251</td>\n",
       "      <td>-121.444489</td>\n",
       "    </tr>\n",
       "    <tr>\n",
       "      <th>234</th>\n",
       "      <td>3139 SPOONWOOD WAY Unit 1</td>\n",
       "      <td>SACRAMENTO</td>\n",
       "      <td>95833</td>\n",
       "      <td>CA</td>\n",
       "      <td>0</td>\n",
       "      <td>0</td>\n",
       "      <td>0</td>\n",
       "      <td>Residential</td>\n",
       "      <td>Tue May 20 00:00:00 EDT 2008</td>\n",
       "      <td>215500</td>\n",
       "      <td>38.626582</td>\n",
       "      <td>-121.521510</td>\n",
       "    </tr>\n",
       "    <tr>\n",
       "      <th>236</th>\n",
       "      <td>2340 HURLEY WAY</td>\n",
       "      <td>SACRAMENTO</td>\n",
       "      <td>95825</td>\n",
       "      <td>CA</td>\n",
       "      <td>0</td>\n",
       "      <td>0</td>\n",
       "      <td>0</td>\n",
       "      <td>Condo</td>\n",
       "      <td>Tue May 20 00:00:00 EDT 2008</td>\n",
       "      <td>225000</td>\n",
       "      <td>38.588816</td>\n",
       "      <td>-121.408549</td>\n",
       "    </tr>\n",
       "    <tr>\n",
       "      <th>248</th>\n",
       "      <td>611 BLOSSOM ROCK LN</td>\n",
       "      <td>FOLSOM</td>\n",
       "      <td>95630</td>\n",
       "      <td>CA</td>\n",
       "      <td>0</td>\n",
       "      <td>0</td>\n",
       "      <td>0</td>\n",
       "      <td>Condo</td>\n",
       "      <td>Tue May 20 00:00:00 EDT 2008</td>\n",
       "      <td>240000</td>\n",
       "      <td>38.645700</td>\n",
       "      <td>-121.119700</td>\n",
       "    </tr>\n",
       "    <tr>\n",
       "      <th>249</th>\n",
       "      <td>8830 ADUR RD</td>\n",
       "      <td>ELK GROVE</td>\n",
       "      <td>95624</td>\n",
       "      <td>CA</td>\n",
       "      <td>0</td>\n",
       "      <td>0</td>\n",
       "      <td>0</td>\n",
       "      <td>Residential</td>\n",
       "      <td>Tue May 20 00:00:00 EDT 2008</td>\n",
       "      <td>242000</td>\n",
       "      <td>38.437420</td>\n",
       "      <td>-121.372876</td>\n",
       "    </tr>\n",
       "    <tr>\n",
       "      <th>253</th>\n",
       "      <td>221 PICASSO CIR</td>\n",
       "      <td>SACRAMENTO</td>\n",
       "      <td>95835</td>\n",
       "      <td>CA</td>\n",
       "      <td>0</td>\n",
       "      <td>0</td>\n",
       "      <td>0</td>\n",
       "      <td>Residential</td>\n",
       "      <td>Tue May 20 00:00:00 EDT 2008</td>\n",
       "      <td>250000</td>\n",
       "      <td>38.676658</td>\n",
       "      <td>-121.528128</td>\n",
       "    </tr>\n",
       "    <tr>\n",
       "      <th>265</th>\n",
       "      <td>230 BANKSIDE WAY</td>\n",
       "      <td>SACRAMENTO</td>\n",
       "      <td>95835</td>\n",
       "      <td>CA</td>\n",
       "      <td>0</td>\n",
       "      <td>0</td>\n",
       "      <td>0</td>\n",
       "      <td>Residential</td>\n",
       "      <td>Tue May 20 00:00:00 EDT 2008</td>\n",
       "      <td>270000</td>\n",
       "      <td>38.676937</td>\n",
       "      <td>-121.529244</td>\n",
       "    </tr>\n",
       "    <tr>\n",
       "      <th>268</th>\n",
       "      <td>4236 ADRIATIC SEA WAY</td>\n",
       "      <td>SACRAMENTO</td>\n",
       "      <td>95834</td>\n",
       "      <td>CA</td>\n",
       "      <td>0</td>\n",
       "      <td>0</td>\n",
       "      <td>0</td>\n",
       "      <td>Residential</td>\n",
       "      <td>Tue May 20 00:00:00 EDT 2008</td>\n",
       "      <td>270000</td>\n",
       "      <td>38.647961</td>\n",
       "      <td>-121.543162</td>\n",
       "    </tr>\n",
       "    <tr>\n",
       "      <th>279</th>\n",
       "      <td>11281 STANFORD COURT LN Unit 604</td>\n",
       "      <td>GOLD RIVER</td>\n",
       "      <td>95670</td>\n",
       "      <td>CA</td>\n",
       "      <td>0</td>\n",
       "      <td>0</td>\n",
       "      <td>0</td>\n",
       "      <td>Condo</td>\n",
       "      <td>Tue May 20 00:00:00 EDT 2008</td>\n",
       "      <td>300000</td>\n",
       "      <td>38.625289</td>\n",
       "      <td>-121.260286</td>\n",
       "    </tr>\n",
       "    <tr>\n",
       "      <th>285</th>\n",
       "      <td>3224 PARKHAM DR</td>\n",
       "      <td>ROSEVILLE</td>\n",
       "      <td>95747</td>\n",
       "      <td>CA</td>\n",
       "      <td>0</td>\n",
       "      <td>0</td>\n",
       "      <td>0</td>\n",
       "      <td>Residential</td>\n",
       "      <td>Tue May 20 00:00:00 EDT 2008</td>\n",
       "      <td>306500</td>\n",
       "      <td>38.772771</td>\n",
       "      <td>-121.364877</td>\n",
       "    </tr>\n",
       "    <tr>\n",
       "      <th>286</th>\n",
       "      <td>15 VANESSA PL</td>\n",
       "      <td>SACRAMENTO</td>\n",
       "      <td>95835</td>\n",
       "      <td>CA</td>\n",
       "      <td>0</td>\n",
       "      <td>0</td>\n",
       "      <td>0</td>\n",
       "      <td>Residential</td>\n",
       "      <td>Tue May 20 00:00:00 EDT 2008</td>\n",
       "      <td>312500</td>\n",
       "      <td>38.668692</td>\n",
       "      <td>-121.545490</td>\n",
       "    </tr>\n",
       "    <tr>\n",
       "      <th>308</th>\n",
       "      <td>5404 ALMOND FALLS WAY</td>\n",
       "      <td>RANCHO CORDOVA</td>\n",
       "      <td>95742</td>\n",
       "      <td>CA</td>\n",
       "      <td>0</td>\n",
       "      <td>0</td>\n",
       "      <td>0</td>\n",
       "      <td>Residential</td>\n",
       "      <td>Tue May 20 00:00:00 EDT 2008</td>\n",
       "      <td>425000</td>\n",
       "      <td>38.527502</td>\n",
       "      <td>-121.233492</td>\n",
       "    </tr>\n",
       "    <tr>\n",
       "      <th>310</th>\n",
       "      <td>14 CASA VATONI PL</td>\n",
       "      <td>SACRAMENTO</td>\n",
       "      <td>95834</td>\n",
       "      <td>CA</td>\n",
       "      <td>0</td>\n",
       "      <td>0</td>\n",
       "      <td>0</td>\n",
       "      <td>Residential</td>\n",
       "      <td>Tue May 20 00:00:00 EDT 2008</td>\n",
       "      <td>433500</td>\n",
       "      <td>38.650221</td>\n",
       "      <td>-121.551704</td>\n",
       "    </tr>\n",
       "    <tr>\n",
       "      <th>324</th>\n",
       "      <td>201 FIRESTONE DR</td>\n",
       "      <td>ROSEVILLE</td>\n",
       "      <td>95678</td>\n",
       "      <td>CA</td>\n",
       "      <td>0</td>\n",
       "      <td>0</td>\n",
       "      <td>0</td>\n",
       "      <td>Residential</td>\n",
       "      <td>Tue May 20 00:00:00 EDT 2008</td>\n",
       "      <td>500500</td>\n",
       "      <td>38.770153</td>\n",
       "      <td>-121.300039</td>\n",
       "    </tr>\n",
       "    <tr>\n",
       "      <th>326</th>\n",
       "      <td>2733 DANA LOOP</td>\n",
       "      <td>EL DORADO HILLS</td>\n",
       "      <td>95762</td>\n",
       "      <td>CA</td>\n",
       "      <td>0</td>\n",
       "      <td>0</td>\n",
       "      <td>0</td>\n",
       "      <td>Residential</td>\n",
       "      <td>Tue May 20 00:00:00 EDT 2008</td>\n",
       "      <td>541000</td>\n",
       "      <td>38.628459</td>\n",
       "      <td>-121.055078</td>\n",
       "    </tr>\n",
       "    <tr>\n",
       "      <th>327</th>\n",
       "      <td>9741 SADDLEBRED CT</td>\n",
       "      <td>WILTON</td>\n",
       "      <td>95693</td>\n",
       "      <td>CA</td>\n",
       "      <td>0</td>\n",
       "      <td>0</td>\n",
       "      <td>0</td>\n",
       "      <td>Residential</td>\n",
       "      <td>Tue May 20 00:00:00 EDT 2008</td>\n",
       "      <td>560000</td>\n",
       "      <td>38.408841</td>\n",
       "      <td>-121.198039</td>\n",
       "    </tr>\n",
       "    <tr>\n",
       "      <th>469</th>\n",
       "      <td>8491 CRYSTAL WALK CIR</td>\n",
       "      <td>ELK GROVE</td>\n",
       "      <td>95758</td>\n",
       "      <td>CA</td>\n",
       "      <td>0</td>\n",
       "      <td>0</td>\n",
       "      <td>0</td>\n",
       "      <td>Residential</td>\n",
       "      <td>Mon May 19 00:00:00 EDT 2008</td>\n",
       "      <td>261000</td>\n",
       "      <td>38.416916</td>\n",
       "      <td>-121.407554</td>\n",
       "    </tr>\n",
       "    <tr>\n",
       "      <th>477</th>\n",
       "      <td>6286 LONETREE BLVD</td>\n",
       "      <td>ROCKLIN</td>\n",
       "      <td>95765</td>\n",
       "      <td>CA</td>\n",
       "      <td>0</td>\n",
       "      <td>0</td>\n",
       "      <td>0</td>\n",
       "      <td>Residential</td>\n",
       "      <td>Mon May 19 00:00:00 EDT 2008</td>\n",
       "      <td>274500</td>\n",
       "      <td>38.805036</td>\n",
       "      <td>-121.293608</td>\n",
       "    </tr>\n",
       "    <tr>\n",
       "      <th>494</th>\n",
       "      <td>3072 VILLAGE PLAZA DR</td>\n",
       "      <td>ROSEVILLE</td>\n",
       "      <td>95747</td>\n",
       "      <td>CA</td>\n",
       "      <td>0</td>\n",
       "      <td>0</td>\n",
       "      <td>0</td>\n",
       "      <td>Residential</td>\n",
       "      <td>Mon May 19 00:00:00 EDT 2008</td>\n",
       "      <td>307000</td>\n",
       "      <td>38.773094</td>\n",
       "      <td>-121.365905</td>\n",
       "    </tr>\n",
       "    <tr>\n",
       "      <th>503</th>\n",
       "      <td>12241 CANYONLANDS DR</td>\n",
       "      <td>RANCHO CORDOVA</td>\n",
       "      <td>95742</td>\n",
       "      <td>CA</td>\n",
       "      <td>0</td>\n",
       "      <td>0</td>\n",
       "      <td>0</td>\n",
       "      <td>Residential</td>\n",
       "      <td>Mon May 19 00:00:00 EDT 2008</td>\n",
       "      <td>331500</td>\n",
       "      <td>38.557293</td>\n",
       "      <td>-121.217611</td>\n",
       "    </tr>\n",
       "    <tr>\n",
       "      <th>505</th>\n",
       "      <td>907 RIO ROBLES AVE</td>\n",
       "      <td>SACRAMENTO</td>\n",
       "      <td>95838</td>\n",
       "      <td>CA</td>\n",
       "      <td>0</td>\n",
       "      <td>0</td>\n",
       "      <td>0</td>\n",
       "      <td>Residential</td>\n",
       "      <td>Mon May 19 00:00:00 EDT 2008</td>\n",
       "      <td>344755</td>\n",
       "      <td>38.664765</td>\n",
       "      <td>-121.445006</td>\n",
       "    </tr>\n",
       "    <tr>\n",
       "      <th>...</th>\n",
       "      <td>...</td>\n",
       "      <td>...</td>\n",
       "      <td>...</td>\n",
       "      <td>...</td>\n",
       "      <td>...</td>\n",
       "      <td>...</td>\n",
       "      <td>...</td>\n",
       "      <td>...</td>\n",
       "      <td>...</td>\n",
       "      <td>...</td>\n",
       "      <td>...</td>\n",
       "      <td>...</td>\n",
       "    </tr>\n",
       "    <tr>\n",
       "      <th>600</th>\n",
       "      <td>7 CRYSTALWOOD CIR</td>\n",
       "      <td>LINCOLN</td>\n",
       "      <td>95648</td>\n",
       "      <td>CA</td>\n",
       "      <td>0</td>\n",
       "      <td>0</td>\n",
       "      <td>0</td>\n",
       "      <td>Residential</td>\n",
       "      <td>Mon May 19 00:00:00 EDT 2008</td>\n",
       "      <td>4897</td>\n",
       "      <td>38.885962</td>\n",
       "      <td>-121.289436</td>\n",
       "    </tr>\n",
       "    <tr>\n",
       "      <th>601</th>\n",
       "      <td>7 CRYSTALWOOD CIR</td>\n",
       "      <td>LINCOLN</td>\n",
       "      <td>95648</td>\n",
       "      <td>CA</td>\n",
       "      <td>0</td>\n",
       "      <td>0</td>\n",
       "      <td>0</td>\n",
       "      <td>Residential</td>\n",
       "      <td>Mon May 19 00:00:00 EDT 2008</td>\n",
       "      <td>4897</td>\n",
       "      <td>38.885962</td>\n",
       "      <td>-121.289436</td>\n",
       "    </tr>\n",
       "    <tr>\n",
       "      <th>602</th>\n",
       "      <td>3 CRYSTALWOOD CIR</td>\n",
       "      <td>LINCOLN</td>\n",
       "      <td>95648</td>\n",
       "      <td>CA</td>\n",
       "      <td>0</td>\n",
       "      <td>0</td>\n",
       "      <td>0</td>\n",
       "      <td>Residential</td>\n",
       "      <td>Mon May 19 00:00:00 EDT 2008</td>\n",
       "      <td>4897</td>\n",
       "      <td>38.886093</td>\n",
       "      <td>-121.289584</td>\n",
       "    </tr>\n",
       "    <tr>\n",
       "      <th>604</th>\n",
       "      <td>113 RINETTI WAY</td>\n",
       "      <td>RIO LINDA</td>\n",
       "      <td>95673</td>\n",
       "      <td>CA</td>\n",
       "      <td>0</td>\n",
       "      <td>0</td>\n",
       "      <td>0</td>\n",
       "      <td>Residential</td>\n",
       "      <td>Fri May 16 00:00:00 EDT 2008</td>\n",
       "      <td>30000</td>\n",
       "      <td>38.687172</td>\n",
       "      <td>-121.463933</td>\n",
       "    </tr>\n",
       "    <tr>\n",
       "      <th>686</th>\n",
       "      <td>5890 TT TRAK</td>\n",
       "      <td>FORESTHILL</td>\n",
       "      <td>95631</td>\n",
       "      <td>CA</td>\n",
       "      <td>0</td>\n",
       "      <td>0</td>\n",
       "      <td>0</td>\n",
       "      <td>Residential</td>\n",
       "      <td>Fri May 16 00:00:00 EDT 2008</td>\n",
       "      <td>194818</td>\n",
       "      <td>39.020808</td>\n",
       "      <td>-120.821518</td>\n",
       "    </tr>\n",
       "    <tr>\n",
       "      <th>718</th>\n",
       "      <td>9967 HATHERTON WAY</td>\n",
       "      <td>ELK GROVE</td>\n",
       "      <td>95757</td>\n",
       "      <td>CA</td>\n",
       "      <td>0</td>\n",
       "      <td>0</td>\n",
       "      <td>0</td>\n",
       "      <td>Residential</td>\n",
       "      <td>Fri May 16 00:00:00 EDT 2008</td>\n",
       "      <td>222500</td>\n",
       "      <td>38.305200</td>\n",
       "      <td>-121.403300</td>\n",
       "    </tr>\n",
       "    <tr>\n",
       "      <th>737</th>\n",
       "      <td>3569 SODA WAY</td>\n",
       "      <td>SACRAMENTO</td>\n",
       "      <td>95834</td>\n",
       "      <td>CA</td>\n",
       "      <td>0</td>\n",
       "      <td>0</td>\n",
       "      <td>0</td>\n",
       "      <td>Residential</td>\n",
       "      <td>Fri May 16 00:00:00 EDT 2008</td>\n",
       "      <td>247000</td>\n",
       "      <td>38.631139</td>\n",
       "      <td>-121.501879</td>\n",
       "    </tr>\n",
       "    <tr>\n",
       "      <th>743</th>\n",
       "      <td>6288 LONETREE BLVD</td>\n",
       "      <td>ROCKLIN</td>\n",
       "      <td>95765</td>\n",
       "      <td>CA</td>\n",
       "      <td>0</td>\n",
       "      <td>0</td>\n",
       "      <td>0</td>\n",
       "      <td>Residential</td>\n",
       "      <td>Fri May 16 00:00:00 EDT 2008</td>\n",
       "      <td>250000</td>\n",
       "      <td>38.804993</td>\n",
       "      <td>-121.293609</td>\n",
       "    </tr>\n",
       "    <tr>\n",
       "      <th>754</th>\n",
       "      <td>6001 SHOO FLY RD</td>\n",
       "      <td>PLACERVILLE</td>\n",
       "      <td>95667</td>\n",
       "      <td>CA</td>\n",
       "      <td>0</td>\n",
       "      <td>0</td>\n",
       "      <td>0</td>\n",
       "      <td>Residential</td>\n",
       "      <td>Fri May 16 00:00:00 EDT 2008</td>\n",
       "      <td>270000</td>\n",
       "      <td>38.813546</td>\n",
       "      <td>-120.809254</td>\n",
       "    </tr>\n",
       "    <tr>\n",
       "      <th>755</th>\n",
       "      <td>3040 PARKHAM DR</td>\n",
       "      <td>ROSEVILLE</td>\n",
       "      <td>95747</td>\n",
       "      <td>CA</td>\n",
       "      <td>0</td>\n",
       "      <td>0</td>\n",
       "      <td>0</td>\n",
       "      <td>Residential</td>\n",
       "      <td>Fri May 16 00:00:00 EDT 2008</td>\n",
       "      <td>271000</td>\n",
       "      <td>38.770835</td>\n",
       "      <td>-121.366996</td>\n",
       "    </tr>\n",
       "    <tr>\n",
       "      <th>757</th>\n",
       "      <td>6007 MARYBELLE LN</td>\n",
       "      <td>SHINGLE SPRINGS</td>\n",
       "      <td>95682</td>\n",
       "      <td>CA</td>\n",
       "      <td>0</td>\n",
       "      <td>0</td>\n",
       "      <td>0</td>\n",
       "      <td>Unkown</td>\n",
       "      <td>Fri May 16 00:00:00 EDT 2008</td>\n",
       "      <td>275000</td>\n",
       "      <td>38.643470</td>\n",
       "      <td>-120.888183</td>\n",
       "    </tr>\n",
       "    <tr>\n",
       "      <th>774</th>\n",
       "      <td>8253 KEEGAN WAY</td>\n",
       "      <td>ELK GROVE</td>\n",
       "      <td>95624</td>\n",
       "      <td>CA</td>\n",
       "      <td>0</td>\n",
       "      <td>0</td>\n",
       "      <td>0</td>\n",
       "      <td>Residential</td>\n",
       "      <td>Fri May 16 00:00:00 EDT 2008</td>\n",
       "      <td>298000</td>\n",
       "      <td>38.446286</td>\n",
       "      <td>-121.400817</td>\n",
       "    </tr>\n",
       "    <tr>\n",
       "      <th>789</th>\n",
       "      <td>5222 COPPER SUNSET WAY</td>\n",
       "      <td>RANCHO CORDOVA</td>\n",
       "      <td>95742</td>\n",
       "      <td>CA</td>\n",
       "      <td>0</td>\n",
       "      <td>0</td>\n",
       "      <td>0</td>\n",
       "      <td>Residential</td>\n",
       "      <td>Fri May 16 00:00:00 EDT 2008</td>\n",
       "      <td>313000</td>\n",
       "      <td>38.529181</td>\n",
       "      <td>-121.224755</td>\n",
       "    </tr>\n",
       "    <tr>\n",
       "      <th>798</th>\n",
       "      <td>3232 PARKHAM DR</td>\n",
       "      <td>ROSEVILLE</td>\n",
       "      <td>95747</td>\n",
       "      <td>CA</td>\n",
       "      <td>0</td>\n",
       "      <td>0</td>\n",
       "      <td>0</td>\n",
       "      <td>Residential</td>\n",
       "      <td>Fri May 16 00:00:00 EDT 2008</td>\n",
       "      <td>325500</td>\n",
       "      <td>38.772821</td>\n",
       "      <td>-121.364821</td>\n",
       "    </tr>\n",
       "    <tr>\n",
       "      <th>819</th>\n",
       "      <td>2274 IVY BRIDGE DR</td>\n",
       "      <td>ROSEVILLE</td>\n",
       "      <td>95747</td>\n",
       "      <td>CA</td>\n",
       "      <td>0</td>\n",
       "      <td>0</td>\n",
       "      <td>0</td>\n",
       "      <td>Residential</td>\n",
       "      <td>Fri May 16 00:00:00 EDT 2008</td>\n",
       "      <td>375000</td>\n",
       "      <td>38.778561</td>\n",
       "      <td>-121.362008</td>\n",
       "    </tr>\n",
       "    <tr>\n",
       "      <th>823</th>\n",
       "      <td>201 KIRKLAND CT</td>\n",
       "      <td>LINCOLN</td>\n",
       "      <td>95648</td>\n",
       "      <td>CA</td>\n",
       "      <td>0</td>\n",
       "      <td>0</td>\n",
       "      <td>0</td>\n",
       "      <td>Residential</td>\n",
       "      <td>Fri May 16 00:00:00 EDT 2008</td>\n",
       "      <td>389000</td>\n",
       "      <td>38.867125</td>\n",
       "      <td>-121.319085</td>\n",
       "    </tr>\n",
       "    <tr>\n",
       "      <th>824</th>\n",
       "      <td>12075 APPLESBURY CT</td>\n",
       "      <td>RANCHO CORDOVA</td>\n",
       "      <td>95742</td>\n",
       "      <td>CA</td>\n",
       "      <td>0</td>\n",
       "      <td>0</td>\n",
       "      <td>0</td>\n",
       "      <td>Residential</td>\n",
       "      <td>Fri May 16 00:00:00 EDT 2008</td>\n",
       "      <td>390000</td>\n",
       "      <td>38.535700</td>\n",
       "      <td>-121.224900</td>\n",
       "    </tr>\n",
       "    <tr>\n",
       "      <th>826</th>\n",
       "      <td>5420 ALMOND FALLS WAY</td>\n",
       "      <td>RANCHO CORDOVA</td>\n",
       "      <td>95742</td>\n",
       "      <td>CA</td>\n",
       "      <td>0</td>\n",
       "      <td>0</td>\n",
       "      <td>0</td>\n",
       "      <td>Residential</td>\n",
       "      <td>Fri May 16 00:00:00 EDT 2008</td>\n",
       "      <td>396000</td>\n",
       "      <td>38.527384</td>\n",
       "      <td>-121.233531</td>\n",
       "    </tr>\n",
       "    <tr>\n",
       "      <th>828</th>\n",
       "      <td>1515 EL CAMINO VERDE DR</td>\n",
       "      <td>LINCOLN</td>\n",
       "      <td>95648</td>\n",
       "      <td>CA</td>\n",
       "      <td>0</td>\n",
       "      <td>0</td>\n",
       "      <td>0</td>\n",
       "      <td>Residential</td>\n",
       "      <td>Fri May 16 00:00:00 EDT 2008</td>\n",
       "      <td>400000</td>\n",
       "      <td>38.904869</td>\n",
       "      <td>-121.320750</td>\n",
       "    </tr>\n",
       "    <tr>\n",
       "      <th>836</th>\n",
       "      <td>1536 STONEY CROSS LN</td>\n",
       "      <td>LINCOLN</td>\n",
       "      <td>95648</td>\n",
       "      <td>CA</td>\n",
       "      <td>0</td>\n",
       "      <td>0</td>\n",
       "      <td>0</td>\n",
       "      <td>Residential</td>\n",
       "      <td>Fri May 16 00:00:00 EDT 2008</td>\n",
       "      <td>433500</td>\n",
       "      <td>38.860007</td>\n",
       "      <td>-121.310946</td>\n",
       "    </tr>\n",
       "    <tr>\n",
       "      <th>848</th>\n",
       "      <td>200 HILLSFORD CT</td>\n",
       "      <td>ROSEVILLE</td>\n",
       "      <td>95747</td>\n",
       "      <td>CA</td>\n",
       "      <td>0</td>\n",
       "      <td>0</td>\n",
       "      <td>0</td>\n",
       "      <td>Residential</td>\n",
       "      <td>Fri May 16 00:00:00 EDT 2008</td>\n",
       "      <td>511000</td>\n",
       "      <td>38.780051</td>\n",
       "      <td>-121.378718</td>\n",
       "    </tr>\n",
       "    <tr>\n",
       "      <th>859</th>\n",
       "      <td>4478 GREENBRAE RD</td>\n",
       "      <td>ROCKLIN</td>\n",
       "      <td>95677</td>\n",
       "      <td>CA</td>\n",
       "      <td>0</td>\n",
       "      <td>0</td>\n",
       "      <td>0</td>\n",
       "      <td>Residential</td>\n",
       "      <td>Fri May 16 00:00:00 EDT 2008</td>\n",
       "      <td>600000</td>\n",
       "      <td>38.781134</td>\n",
       "      <td>-121.222801</td>\n",
       "    </tr>\n",
       "    <tr>\n",
       "      <th>861</th>\n",
       "      <td>200 CRADLE MOUNTAIN CT</td>\n",
       "      <td>EL DORADO HILLS</td>\n",
       "      <td>95762</td>\n",
       "      <td>CA</td>\n",
       "      <td>0</td>\n",
       "      <td>0</td>\n",
       "      <td>0</td>\n",
       "      <td>Residential</td>\n",
       "      <td>Fri May 16 00:00:00 EDT 2008</td>\n",
       "      <td>622500</td>\n",
       "      <td>38.647800</td>\n",
       "      <td>-121.030900</td>\n",
       "    </tr>\n",
       "    <tr>\n",
       "      <th>862</th>\n",
       "      <td>2065 IMPRESSIONIST WAY</td>\n",
       "      <td>EL DORADO HILLS</td>\n",
       "      <td>95762</td>\n",
       "      <td>CA</td>\n",
       "      <td>0</td>\n",
       "      <td>0</td>\n",
       "      <td>0</td>\n",
       "      <td>Residential</td>\n",
       "      <td>Fri May 16 00:00:00 EDT 2008</td>\n",
       "      <td>680000</td>\n",
       "      <td>38.682961</td>\n",
       "      <td>-121.033253</td>\n",
       "    </tr>\n",
       "    <tr>\n",
       "      <th>888</th>\n",
       "      <td>3035 ESTEPA DR Unit 5C</td>\n",
       "      <td>CAMERON PARK</td>\n",
       "      <td>95682</td>\n",
       "      <td>CA</td>\n",
       "      <td>0</td>\n",
       "      <td>0</td>\n",
       "      <td>0</td>\n",
       "      <td>Condo</td>\n",
       "      <td>Thu May 15 00:00:00 EDT 2008</td>\n",
       "      <td>119000</td>\n",
       "      <td>38.681393</td>\n",
       "      <td>-120.996713</td>\n",
       "    </tr>\n",
       "    <tr>\n",
       "      <th>901</th>\n",
       "      <td>1530 TOPANGA LN Unit 204</td>\n",
       "      <td>LINCOLN</td>\n",
       "      <td>95648</td>\n",
       "      <td>CA</td>\n",
       "      <td>0</td>\n",
       "      <td>0</td>\n",
       "      <td>0</td>\n",
       "      <td>Condo</td>\n",
       "      <td>Thu May 15 00:00:00 EDT 2008</td>\n",
       "      <td>138000</td>\n",
       "      <td>38.884150</td>\n",
       "      <td>-121.270277</td>\n",
       "    </tr>\n",
       "    <tr>\n",
       "      <th>917</th>\n",
       "      <td>501 POPLAR AVE</td>\n",
       "      <td>WEST SACRAMENTO</td>\n",
       "      <td>95691</td>\n",
       "      <td>CA</td>\n",
       "      <td>0</td>\n",
       "      <td>0</td>\n",
       "      <td>0</td>\n",
       "      <td>Residential</td>\n",
       "      <td>Thu May 15 00:00:00 EDT 2008</td>\n",
       "      <td>165000</td>\n",
       "      <td>38.584526</td>\n",
       "      <td>-121.534609</td>\n",
       "    </tr>\n",
       "    <tr>\n",
       "      <th>934</th>\n",
       "      <td>1550 TOPANGA LN Unit 207</td>\n",
       "      <td>LINCOLN</td>\n",
       "      <td>95648</td>\n",
       "      <td>CA</td>\n",
       "      <td>0</td>\n",
       "      <td>0</td>\n",
       "      <td>0</td>\n",
       "      <td>Condo</td>\n",
       "      <td>Thu May 15 00:00:00 EDT 2008</td>\n",
       "      <td>188000</td>\n",
       "      <td>38.884170</td>\n",
       "      <td>-121.270222</td>\n",
       "    </tr>\n",
       "    <tr>\n",
       "      <th>947</th>\n",
       "      <td>1525 PENNSYLVANIA AVE</td>\n",
       "      <td>WEST SACRAMENTO</td>\n",
       "      <td>95691</td>\n",
       "      <td>CA</td>\n",
       "      <td>0</td>\n",
       "      <td>0</td>\n",
       "      <td>0</td>\n",
       "      <td>Residential</td>\n",
       "      <td>Thu May 15 00:00:00 EDT 2008</td>\n",
       "      <td>200100</td>\n",
       "      <td>38.569943</td>\n",
       "      <td>-121.527539</td>\n",
       "    </tr>\n",
       "    <tr>\n",
       "      <th>970</th>\n",
       "      <td>3557 SODA WAY</td>\n",
       "      <td>SACRAMENTO</td>\n",
       "      <td>95834</td>\n",
       "      <td>CA</td>\n",
       "      <td>0</td>\n",
       "      <td>0</td>\n",
       "      <td>0</td>\n",
       "      <td>Residential</td>\n",
       "      <td>Thu May 15 00:00:00 EDT 2008</td>\n",
       "      <td>224000</td>\n",
       "      <td>38.631026</td>\n",
       "      <td>-121.501879</td>\n",
       "    </tr>\n",
       "  </tbody>\n",
       "</table>\n",
       "<p>108 rows × 12 columns</p>\n",
       "</div>"
      ],
      "text/plain": [
       "                               street             city    zip state  beds  \\\n",
       "73                      17 SERASPI CT       SACRAMENTO  95834    CA     0   \n",
       "89                   2866 KARITSA AVE       SACRAMENTO  95833    CA     0   \n",
       "100             12209 CONSERVANCY WAY   RANCHO CORDOVA  95742    CA     0   \n",
       "121               5337 DUSTY ROSE WAY   RANCHO CORDOVA  95742    CA     0   \n",
       "126               2115 SMOKESTACK WAY       SACRAMENTO  95833    CA     0   \n",
       "133                8082 LINDA ISLE LN       SACRAMENTO  95831    CA     0   \n",
       "147                     9278 DAIRY CT        ELK GROVE  95624    CA     0   \n",
       "153                868 HILDEBRAND CIR           FOLSOM  95630    CA     0   \n",
       "169                  14788 NATCHEZ CT   RANCHO MURIETA  95683    CA     0   \n",
       "192      5201 LAGUNA OAKS DR Unit 126        ELK GROVE  95758    CA     0   \n",
       "234         3139 SPOONWOOD WAY Unit 1       SACRAMENTO  95833    CA     0   \n",
       "236                   2340 HURLEY WAY       SACRAMENTO  95825    CA     0   \n",
       "248               611 BLOSSOM ROCK LN           FOLSOM  95630    CA     0   \n",
       "249                      8830 ADUR RD        ELK GROVE  95624    CA     0   \n",
       "253                   221 PICASSO CIR       SACRAMENTO  95835    CA     0   \n",
       "265                  230 BANKSIDE WAY       SACRAMENTO  95835    CA     0   \n",
       "268             4236 ADRIATIC SEA WAY       SACRAMENTO  95834    CA     0   \n",
       "279  11281 STANFORD COURT LN Unit 604       GOLD RIVER  95670    CA     0   \n",
       "285                   3224 PARKHAM DR        ROSEVILLE  95747    CA     0   \n",
       "286                     15 VANESSA PL       SACRAMENTO  95835    CA     0   \n",
       "308             5404 ALMOND FALLS WAY   RANCHO CORDOVA  95742    CA     0   \n",
       "310                 14 CASA VATONI PL       SACRAMENTO  95834    CA     0   \n",
       "324                  201 FIRESTONE DR        ROSEVILLE  95678    CA     0   \n",
       "326                    2733 DANA LOOP  EL DORADO HILLS  95762    CA     0   \n",
       "327                9741 SADDLEBRED CT           WILTON  95693    CA     0   \n",
       "469             8491 CRYSTAL WALK CIR        ELK GROVE  95758    CA     0   \n",
       "477                6286 LONETREE BLVD          ROCKLIN  95765    CA     0   \n",
       "494             3072 VILLAGE PLAZA DR        ROSEVILLE  95747    CA     0   \n",
       "503              12241 CANYONLANDS DR   RANCHO CORDOVA  95742    CA     0   \n",
       "505                907 RIO ROBLES AVE       SACRAMENTO  95838    CA     0   \n",
       "..                                ...              ...    ...   ...   ...   \n",
       "600                 7 CRYSTALWOOD CIR          LINCOLN  95648    CA     0   \n",
       "601                 7 CRYSTALWOOD CIR          LINCOLN  95648    CA     0   \n",
       "602                 3 CRYSTALWOOD CIR          LINCOLN  95648    CA     0   \n",
       "604                   113 RINETTI WAY        RIO LINDA  95673    CA     0   \n",
       "686                      5890 TT TRAK       FORESTHILL  95631    CA     0   \n",
       "718                9967 HATHERTON WAY        ELK GROVE  95757    CA     0   \n",
       "737                     3569 SODA WAY       SACRAMENTO  95834    CA     0   \n",
       "743                6288 LONETREE BLVD          ROCKLIN  95765    CA     0   \n",
       "754                  6001 SHOO FLY RD      PLACERVILLE  95667    CA     0   \n",
       "755                   3040 PARKHAM DR        ROSEVILLE  95747    CA     0   \n",
       "757                 6007 MARYBELLE LN  SHINGLE SPRINGS  95682    CA     0   \n",
       "774                   8253 KEEGAN WAY        ELK GROVE  95624    CA     0   \n",
       "789            5222 COPPER SUNSET WAY   RANCHO CORDOVA  95742    CA     0   \n",
       "798                   3232 PARKHAM DR        ROSEVILLE  95747    CA     0   \n",
       "819                2274 IVY BRIDGE DR        ROSEVILLE  95747    CA     0   \n",
       "823                   201 KIRKLAND CT          LINCOLN  95648    CA     0   \n",
       "824               12075 APPLESBURY CT   RANCHO CORDOVA  95742    CA     0   \n",
       "826             5420 ALMOND FALLS WAY   RANCHO CORDOVA  95742    CA     0   \n",
       "828           1515 EL CAMINO VERDE DR          LINCOLN  95648    CA     0   \n",
       "836              1536 STONEY CROSS LN          LINCOLN  95648    CA     0   \n",
       "848                  200 HILLSFORD CT        ROSEVILLE  95747    CA     0   \n",
       "859                 4478 GREENBRAE RD          ROCKLIN  95677    CA     0   \n",
       "861            200 CRADLE MOUNTAIN CT  EL DORADO HILLS  95762    CA     0   \n",
       "862            2065 IMPRESSIONIST WAY  EL DORADO HILLS  95762    CA     0   \n",
       "888            3035 ESTEPA DR Unit 5C     CAMERON PARK  95682    CA     0   \n",
       "901          1530 TOPANGA LN Unit 204          LINCOLN  95648    CA     0   \n",
       "917                    501 POPLAR AVE  WEST SACRAMENTO  95691    CA     0   \n",
       "934          1550 TOPANGA LN Unit 207          LINCOLN  95648    CA     0   \n",
       "947             1525 PENNSYLVANIA AVE  WEST SACRAMENTO  95691    CA     0   \n",
       "970                     3557 SODA WAY       SACRAMENTO  95834    CA     0   \n",
       "\n",
       "     baths  sq__ft         type                     sale_date   price  \\\n",
       "73       0       0  Residential  Wed May 21 00:00:00 EDT 2008  206000   \n",
       "89       0       0  Residential  Wed May 21 00:00:00 EDT 2008  244500   \n",
       "100      0       0  Residential  Wed May 21 00:00:00 EDT 2008  263500   \n",
       "121      0       0  Residential  Wed May 21 00:00:00 EDT 2008  320000   \n",
       "126      0       0  Residential  Wed May 21 00:00:00 EDT 2008  339500   \n",
       "133      0       0  Residential  Wed May 21 00:00:00 EDT 2008  370000   \n",
       "147      0       0  Residential  Wed May 21 00:00:00 EDT 2008  445000   \n",
       "153      0       0  Residential  Wed May 21 00:00:00 EDT 2008  585000   \n",
       "169      0       0  Residential  Tue May 20 00:00:00 EDT 2008   97750   \n",
       "192      0       0        Condo  Tue May 20 00:00:00 EDT 2008  145000   \n",
       "234      0       0  Residential  Tue May 20 00:00:00 EDT 2008  215500   \n",
       "236      0       0        Condo  Tue May 20 00:00:00 EDT 2008  225000   \n",
       "248      0       0        Condo  Tue May 20 00:00:00 EDT 2008  240000   \n",
       "249      0       0  Residential  Tue May 20 00:00:00 EDT 2008  242000   \n",
       "253      0       0  Residential  Tue May 20 00:00:00 EDT 2008  250000   \n",
       "265      0       0  Residential  Tue May 20 00:00:00 EDT 2008  270000   \n",
       "268      0       0  Residential  Tue May 20 00:00:00 EDT 2008  270000   \n",
       "279      0       0        Condo  Tue May 20 00:00:00 EDT 2008  300000   \n",
       "285      0       0  Residential  Tue May 20 00:00:00 EDT 2008  306500   \n",
       "286      0       0  Residential  Tue May 20 00:00:00 EDT 2008  312500   \n",
       "308      0       0  Residential  Tue May 20 00:00:00 EDT 2008  425000   \n",
       "310      0       0  Residential  Tue May 20 00:00:00 EDT 2008  433500   \n",
       "324      0       0  Residential  Tue May 20 00:00:00 EDT 2008  500500   \n",
       "326      0       0  Residential  Tue May 20 00:00:00 EDT 2008  541000   \n",
       "327      0       0  Residential  Tue May 20 00:00:00 EDT 2008  560000   \n",
       "469      0       0  Residential  Mon May 19 00:00:00 EDT 2008  261000   \n",
       "477      0       0  Residential  Mon May 19 00:00:00 EDT 2008  274500   \n",
       "494      0       0  Residential  Mon May 19 00:00:00 EDT 2008  307000   \n",
       "503      0       0  Residential  Mon May 19 00:00:00 EDT 2008  331500   \n",
       "505      0       0  Residential  Mon May 19 00:00:00 EDT 2008  344755   \n",
       "..     ...     ...          ...                           ...     ...   \n",
       "600      0       0  Residential  Mon May 19 00:00:00 EDT 2008    4897   \n",
       "601      0       0  Residential  Mon May 19 00:00:00 EDT 2008    4897   \n",
       "602      0       0  Residential  Mon May 19 00:00:00 EDT 2008    4897   \n",
       "604      0       0  Residential  Fri May 16 00:00:00 EDT 2008   30000   \n",
       "686      0       0  Residential  Fri May 16 00:00:00 EDT 2008  194818   \n",
       "718      0       0  Residential  Fri May 16 00:00:00 EDT 2008  222500   \n",
       "737      0       0  Residential  Fri May 16 00:00:00 EDT 2008  247000   \n",
       "743      0       0  Residential  Fri May 16 00:00:00 EDT 2008  250000   \n",
       "754      0       0  Residential  Fri May 16 00:00:00 EDT 2008  270000   \n",
       "755      0       0  Residential  Fri May 16 00:00:00 EDT 2008  271000   \n",
       "757      0       0       Unkown  Fri May 16 00:00:00 EDT 2008  275000   \n",
       "774      0       0  Residential  Fri May 16 00:00:00 EDT 2008  298000   \n",
       "789      0       0  Residential  Fri May 16 00:00:00 EDT 2008  313000   \n",
       "798      0       0  Residential  Fri May 16 00:00:00 EDT 2008  325500   \n",
       "819      0       0  Residential  Fri May 16 00:00:00 EDT 2008  375000   \n",
       "823      0       0  Residential  Fri May 16 00:00:00 EDT 2008  389000   \n",
       "824      0       0  Residential  Fri May 16 00:00:00 EDT 2008  390000   \n",
       "826      0       0  Residential  Fri May 16 00:00:00 EDT 2008  396000   \n",
       "828      0       0  Residential  Fri May 16 00:00:00 EDT 2008  400000   \n",
       "836      0       0  Residential  Fri May 16 00:00:00 EDT 2008  433500   \n",
       "848      0       0  Residential  Fri May 16 00:00:00 EDT 2008  511000   \n",
       "859      0       0  Residential  Fri May 16 00:00:00 EDT 2008  600000   \n",
       "861      0       0  Residential  Fri May 16 00:00:00 EDT 2008  622500   \n",
       "862      0       0  Residential  Fri May 16 00:00:00 EDT 2008  680000   \n",
       "888      0       0        Condo  Thu May 15 00:00:00 EDT 2008  119000   \n",
       "901      0       0        Condo  Thu May 15 00:00:00 EDT 2008  138000   \n",
       "917      0       0  Residential  Thu May 15 00:00:00 EDT 2008  165000   \n",
       "934      0       0        Condo  Thu May 15 00:00:00 EDT 2008  188000   \n",
       "947      0       0  Residential  Thu May 15 00:00:00 EDT 2008  200100   \n",
       "970      0       0  Residential  Thu May 15 00:00:00 EDT 2008  224000   \n",
       "\n",
       "      latitude   longitude  \n",
       "73   38.631481 -121.501880  \n",
       "89   38.626671 -121.525970  \n",
       "100  38.553867 -121.219141  \n",
       "121  38.528575 -121.228600  \n",
       "126  38.602416 -121.542965  \n",
       "133  38.477200 -121.521500  \n",
       "147  38.420338 -121.363757  \n",
       "153  38.670947 -121.097727  \n",
       "169  38.492287 -121.100032  \n",
       "192  38.423251 -121.444489  \n",
       "234  38.626582 -121.521510  \n",
       "236  38.588816 -121.408549  \n",
       "248  38.645700 -121.119700  \n",
       "249  38.437420 -121.372876  \n",
       "253  38.676658 -121.528128  \n",
       "265  38.676937 -121.529244  \n",
       "268  38.647961 -121.543162  \n",
       "279  38.625289 -121.260286  \n",
       "285  38.772771 -121.364877  \n",
       "286  38.668692 -121.545490  \n",
       "308  38.527502 -121.233492  \n",
       "310  38.650221 -121.551704  \n",
       "324  38.770153 -121.300039  \n",
       "326  38.628459 -121.055078  \n",
       "327  38.408841 -121.198039  \n",
       "469  38.416916 -121.407554  \n",
       "477  38.805036 -121.293608  \n",
       "494  38.773094 -121.365905  \n",
       "503  38.557293 -121.217611  \n",
       "505  38.664765 -121.445006  \n",
       "..         ...         ...  \n",
       "600  38.885962 -121.289436  \n",
       "601  38.885962 -121.289436  \n",
       "602  38.886093 -121.289584  \n",
       "604  38.687172 -121.463933  \n",
       "686  39.020808 -120.821518  \n",
       "718  38.305200 -121.403300  \n",
       "737  38.631139 -121.501879  \n",
       "743  38.804993 -121.293609  \n",
       "754  38.813546 -120.809254  \n",
       "755  38.770835 -121.366996  \n",
       "757  38.643470 -120.888183  \n",
       "774  38.446286 -121.400817  \n",
       "789  38.529181 -121.224755  \n",
       "798  38.772821 -121.364821  \n",
       "819  38.778561 -121.362008  \n",
       "823  38.867125 -121.319085  \n",
       "824  38.535700 -121.224900  \n",
       "826  38.527384 -121.233531  \n",
       "828  38.904869 -121.320750  \n",
       "836  38.860007 -121.310946  \n",
       "848  38.780051 -121.378718  \n",
       "859  38.781134 -121.222801  \n",
       "861  38.647800 -121.030900  \n",
       "862  38.682961 -121.033253  \n",
       "888  38.681393 -120.996713  \n",
       "901  38.884150 -121.270277  \n",
       "917  38.584526 -121.534609  \n",
       "934  38.884170 -121.270222  \n",
       "947  38.569943 -121.527539  \n",
       "970  38.631026 -121.501879  \n",
       "\n",
       "[108 rows x 12 columns]"
      ]
     },
     "execution_count": 19,
     "metadata": {},
     "output_type": "execute_result"
    }
   ],
   "source": [
    "#above data shows that the beds, bath and sq_ft , minimumvalue is zero , to get all the rows with 0 value from house_csv\n",
    "house_csv[house_csv['beds']==0]"
   ]
  },
  {
   "cell_type": "code",
   "execution_count": null,
   "metadata": {},
   "outputs": [],
   "source": [
    "# we get 108 rows × 12 columns with zero values"
   ]
  },
  {
   "cell_type": "code",
   "execution_count": 20,
   "metadata": {},
   "outputs": [
    {
     "data": {
      "text/plain": [
       "Residential     917\n",
       "Condo            54\n",
       "Multi-Family     13\n",
       "Unkown            1\n",
       "Name: type, dtype: int64"
      ]
     },
     "execution_count": 20,
     "metadata": {},
     "output_type": "execute_result"
    }
   ],
   "source": [
    "# Types of Data\n",
    "house_csv['type'].value_counts()"
   ]
  },
  {
   "cell_type": "code",
   "execution_count": 21,
   "metadata": {},
   "outputs": [
    {
     "data": {
      "text/plain": [
       "<matplotlib.axes._subplots.AxesSubplot at 0x28d37b5df60>"
      ]
     },
     "execution_count": 21,
     "metadata": {},
     "output_type": "execute_result"
    },
    {
     "data": {
      "image/png": "[encoded data removed]",
      "text/plain": [
       "<Figure size 432x288 with 1 Axes>"
      ]
     },
     "metadata": {
      "needs_background": "light"
     },
     "output_type": "display_data"
    }
   ],
   "source": [
    "house_csv['type'].value_counts().plot(kind='bar')"
   ]
  },
  {
   "cell_type": "code",
   "execution_count": 38,
   "metadata": {},
   "outputs": [
    {
     "data": {
      "image/png": "[encoded data removed]",
      "text/plain": [
       "<Figure size 1080x720 with 1 Axes>"
      ]
     },
     "metadata": {
      "needs_background": "light"
     },
     "output_type": "display_data"
    }
   ],
   "source": [
    "# City\n",
    "house_csv['city'].value_counts().sort_values().plot(kind='barh', figsize=(15,10), color='red');"
   ]
  },
  {
   "cell_type": "code",
   "execution_count": 27,
   "metadata": {},
   "outputs": [],
   "source": [
    "# Create another type which have 0 beds, baths, sqft\n",
    "house_csv.loc[house_csv['beds'] == 0, 'type'] = 'Plot'"
   ]
  },
  {
   "cell_type": "code",
   "execution_count": 28,
   "metadata": {},
   "outputs": [
    {
     "data": {
      "image/png": "[encoded data removed]",
      "text/plain": [
       "<Figure size 432x288 with 1 Axes>"
      ]
     },
     "metadata": {
      "needs_background": "light"
     },
     "output_type": "display_data"
    }
   ],
   "source": [
    "house_csv['state'].value_counts().plot(kind='bar');"
   ]
  },
  {
   "cell_type": "code",
   "execution_count": 30,
   "metadata": {
    "scrolled": true
   },
   "outputs": [
    {
     "data": {
      "text/html": [
       "<div style=\"width:100%;\"><div style=\"position:relative;width:100%;height:0;padding-bottom:60%;\"><iframe src=\"data:text/html;charset=utf-8;base64,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\" style=\"position:absolute;width:100%;height:100%;left:0;top:0;border:none !important;\" allowfullscreen webkitallowfullscreen mozallowfullscreen></iframe></div></div>"
      ],
      "text/plain": [
       "<folium.folium.Map at 0x28d4377f4e0>"
      ]
     },
     "metadata": {},
     "output_type": "display_data"
    }
   ],
   "source": [
    "# import the library\n",
    "import folium\n",
    "import pandas as pd\n",
    "\n",
    "# Make an empty map\n",
    "# 37.76, -122.45 is the initital location of SF, USA\n",
    "m = folium.Map(location=[38.575764, -121.478851], tiles=\"Mapbox Bright\", zoom_start=10)\n",
    "\n",
    "# I can add circle/marker one by one on the map\n",
    "for i in range(0, len(house_csv.head(1000))):\n",
    "    folium.Marker(\n",
    "        location=[house_csv.iloc[i]['latitude'], house_csv.iloc[i]['longitude']]\n",
    "    ).add_to(m)\n",
    "    \n",
    "display(m)"
   ]
  },
  {
   "cell_type": "markdown",
   "metadata": {},
   "source": [
    "### 2. Predict Price"
   ]
  },
  {
   "cell_type": "markdown",
   "metadata": {},
   "source": [
    "We are going to predict `price` from available information."
   ]
  },
  {
   "cell_type": "markdown",
   "metadata": {},
   "source": [
    "#### 2.1 What is the Target Variable? Why?"
   ]
  },
  {
   "cell_type": "code",
   "execution_count": 3,
   "metadata": {},
   "outputs": [],
   "source": [
    "# ANSWER\n",
    "#Price is target varaible. Based on other predictor variables we'll predict price."
   ]
  },
  {
   "cell_type": "markdown",
   "metadata": {},
   "source": [
    "#### 2.2 List all possible variables which might be Predictor variable."
   ]
  },
  {
   "cell_type": "code",
   "execution_count": 31,
   "metadata": {},
   "outputs": [
    {
     "data": {
      "text/plain": [
       "Index(['street', 'city', 'zip', 'state', 'beds', 'baths', 'sq__ft', 'type',\n",
       "       'sale_date', 'price', 'latitude', 'longitude'],\n",
       "      dtype='object')"
      ]
     },
     "execution_count": 31,
     "metadata": {},
     "output_type": "execute_result"
    }
   ],
   "source": [
    "# ANSWEr\n",
    "house_csv.columns"
   ]
  },
  {
   "cell_type": "code",
   "execution_count": null,
   "metadata": {},
   "outputs": [],
   "source": [
    "#beds', 'baths', 'sq__ft', 'type' arew the main predictors"
   ]
  },
  {
   "cell_type": "markdown",
   "metadata": {},
   "source": [
    "#### 2.2 Find correlation between variables\n",
    "\n",
    "Find correlation between variables. Which is the best predictor? Why? State your reason."
   ]
  },
  {
   "cell_type": "code",
   "execution_count": 33,
   "metadata": {},
   "outputs": [],
   "source": [
    "# ANSWER\n",
    "# Target Variable\n",
    "Y = house_csv['price']"
   ]
  },
  {
   "cell_type": "code",
   "execution_count": 34,
   "metadata": {},
   "outputs": [],
   "source": [
    "# Predictor Variable\n",
    "X = house_csv['beds']"
   ]
  },
  {
   "cell_type": "code",
   "execution_count": 35,
   "metadata": {},
   "outputs": [],
   "source": [
    "def draw_scatter_plot(X, Y):\n",
    "    ### Plot the data\n",
    "    # create a figure\n",
    "    fig = plt.figure(figsize=(15,7))\n",
    "    # get the axis of that figure\n",
    "    ax = plt.gca()\n",
    "\n",
    "    # plot a scatter plot on it with our data\n",
    "    ax.scatter(X, Y, c='b')\n",
    "\n",
    "    plt.show();"
   ]
  },
  {
   "cell_type": "code",
   "execution_count": 39,
   "metadata": {
    "scrolled": true
   },
   "outputs": [
    {
     "data": {
      "image/png": "[encoded data removed]",
      "text/plain": [
       "<Figure size 1080x504 with 1 Axes>"
      ]
     },
     "metadata": {
      "needs_background": "light"
     },
     "output_type": "display_data"
    }
   ],
   "source": [
    "# beds\n",
    "draw_scatter_plot(house_csv['beds'], house_csv['price'])"
   ]
  },
  {
   "cell_type": "code",
   "execution_count": 40,
   "metadata": {
    "scrolled": true
   },
   "outputs": [
    {
     "data": {
      "image/png": "[encoded data removed]",
      "text/plain": [
       "<Figure size 1080x504 with 1 Axes>"
      ]
     },
     "metadata": {
      "needs_background": "light"
     },
     "output_type": "display_data"
    }
   ],
   "source": [
    "# beds\n",
    "draw_scatter_plot(house_csv['baths'], house_csv['price'])"
   ]
  },
  {
   "cell_type": "code",
   "execution_count": 41,
   "metadata": {
    "scrolled": false
   },
   "outputs": [
    {
     "data": {
      "image/png": "[encoded data removed]",
      "text/plain": [
       "<Figure size 1080x504 with 1 Axes>"
      ]
     },
     "metadata": {
      "needs_background": "light"
     },
     "output_type": "display_data"
    }
   ],
   "source": [
    "draw_scatter_plot(house_csv['sq__ft'], house_csv['price'])"
   ]
  },
  {
   "cell_type": "code",
   "execution_count": 42,
   "metadata": {
    "scrolled": true
   },
   "outputs": [
    {
     "data": {
      "text/html": [
       "<div>\n",
       "<style scoped>\n",
       "    .dataframe tbody tr th:only-of-type {\n",
       "        vertical-align: middle;\n",
       "    }\n",
       "\n",
       "    .dataframe tbody tr th {\n",
       "        vertical-align: top;\n",
       "    }\n",
       "\n",
       "    .dataframe thead th {\n",
       "        text-align: right;\n",
       "    }\n",
       "</style>\n",
       "<table border=\"1\" class=\"dataframe\">\n",
       "  <thead>\n",
       "    <tr style=\"text-align: right;\">\n",
       "      <th></th>\n",
       "      <th>beds</th>\n",
       "      <th>baths</th>\n",
       "      <th>sq__ft</th>\n",
       "      <th>price</th>\n",
       "      <th>latitude</th>\n",
       "      <th>longitude</th>\n",
       "    </tr>\n",
       "  </thead>\n",
       "  <tbody>\n",
       "    <tr>\n",
       "      <th>beds</th>\n",
       "      <td>1.000000</td>\n",
       "      <td>0.839650</td>\n",
       "      <td>0.684041</td>\n",
       "      <td>0.342024</td>\n",
       "      <td>-0.291307</td>\n",
       "      <td>-0.053993</td>\n",
       "    </tr>\n",
       "    <tr>\n",
       "      <th>baths</th>\n",
       "      <td>0.839650</td>\n",
       "      <td>1.000000</td>\n",
       "      <td>0.665690</td>\n",
       "      <td>0.416208</td>\n",
       "      <td>-0.235792</td>\n",
       "      <td>0.016582</td>\n",
       "    </tr>\n",
       "    <tr>\n",
       "      <th>sq__ft</th>\n",
       "      <td>0.684041</td>\n",
       "      <td>0.665690</td>\n",
       "      <td>1.000000</td>\n",
       "      <td>0.333897</td>\n",
       "      <td>-0.383274</td>\n",
       "      <td>-0.177742</td>\n",
       "    </tr>\n",
       "    <tr>\n",
       "      <th>price</th>\n",
       "      <td>0.342024</td>\n",
       "      <td>0.416208</td>\n",
       "      <td>0.333897</td>\n",
       "      <td>1.000000</td>\n",
       "      <td>-0.039573</td>\n",
       "      <td>0.284485</td>\n",
       "    </tr>\n",
       "    <tr>\n",
       "      <th>latitude</th>\n",
       "      <td>-0.291307</td>\n",
       "      <td>-0.235792</td>\n",
       "      <td>-0.383274</td>\n",
       "      <td>-0.039573</td>\n",
       "      <td>1.000000</td>\n",
       "      <td>0.387925</td>\n",
       "    </tr>\n",
       "    <tr>\n",
       "      <th>longitude</th>\n",
       "      <td>-0.053993</td>\n",
       "      <td>0.016582</td>\n",
       "      <td>-0.177742</td>\n",
       "      <td>0.284485</td>\n",
       "      <td>0.387925</td>\n",
       "      <td>1.000000</td>\n",
       "    </tr>\n",
       "  </tbody>\n",
       "</table>\n",
       "</div>"
      ],
      "text/plain": [
       "               beds     baths    sq__ft     price  latitude  longitude\n",
       "beds       1.000000  0.839650  0.684041  0.342024 -0.291307  -0.053993\n",
       "baths      0.839650  1.000000  0.665690  0.416208 -0.235792   0.016582\n",
       "sq__ft     0.684041  0.665690  1.000000  0.333897 -0.383274  -0.177742\n",
       "price      0.342024  0.416208  0.333897  1.000000 -0.039573   0.284485\n",
       "latitude  -0.291307 -0.235792 -0.383274 -0.039573  1.000000   0.387925\n",
       "longitude -0.053993  0.016582 -0.177742  0.284485  0.387925   1.000000"
      ]
     },
     "execution_count": 42,
     "metadata": {},
     "output_type": "execute_result"
    }
   ],
   "source": [
    "house_csv.corr()"
   ]
  },
  {
   "cell_type": "markdown",
   "metadata": {},
   "source": [
    "#### 2.3 What is the simplest way to predict price\n",
    "\n",
    "So we have information for 985 houses. What is the easiest way to predict price of a house?"
   ]
  },
  {
   "cell_type": "markdown",
   "metadata": {},
   "source": [
    "Y hat (written ŷ ) is the predicted value of y (the dependent variable) in a regression equation. It can also be considered to be the average(mean) value of the response variable."
   ]
  },
  {
   "cell_type": "code",
   "execution_count": 43,
   "metadata": {},
   "outputs": [],
   "source": [
    "# ANSWER\n",
    "## Mean of Price\n",
    "house_csv['y_hat'] = house_csv['price'].mean()"
   ]
  },
  {
   "cell_type": "code",
   "execution_count": 44,
   "metadata": {},
   "outputs": [],
   "source": [
    "X = house_csv['sq__ft']\n",
    "Y = house_csv['price']\n",
    "Yhat = house_csv['y_hat']"
   ]
  },
  {
   "cell_type": "code",
   "execution_count": 45,
   "metadata": {},
   "outputs": [],
   "source": [
    "def draw_plot(X, Y, Yhat):\n",
    "    ### Plot the data\n",
    "    # create a figure\n",
    "    fig = plt.figure(figsize=(15,7))\n",
    "    # get the axis of that figure\n",
    "    ax = plt.gca()\n",
    "\n",
    "    # plot a scatter plot on it with our data\n",
    "    ax.scatter(X, Y, c='b')\n",
    "    ax.plot(X, Yhat, color='r');\n",
    "\n",
    "    plt.show();"
   ]
  },
  {
   "cell_type": "code",
   "execution_count": 46,
   "metadata": {},
   "outputs": [
    {
     "data": {
      "image/png": "[encoded data removed]",
      "text/plain": [
       "<Figure size 1080x504 with 1 Axes>"
      ]
     },
     "metadata": {
      "needs_background": "light"
     },
     "output_type": "display_data"
    }
   ],
   "source": [
    "draw_plot(X, Y, Yhat)"
   ]
  },
  {
   "cell_type": "markdown",
   "metadata": {},
   "source": [
    "#### 2. 4 Find Resudals\n",
    "\n",
    "Find difference between actual value and predicted value. Use absolute value."
   ]
  },
  {
   "cell_type": "code",
   "execution_count": 47,
   "metadata": {},
   "outputs": [
    {
     "data": {
      "text/plain": [
       "103452.16956891476"
      ]
     },
     "execution_count": 47,
     "metadata": {},
     "output_type": "execute_result"
    }
   ],
   "source": [
    "# ANSWER difference between actual and predicted value\n",
    "res = abs(house_csv['price'] - house_csv['y_hat']).mean()\n",
    "res"
   ]
  },
  {
   "cell_type": "markdown",
   "metadata": {},
   "source": [
    "#### 2.5  Predict Using Linear Regression\n",
    "\n",
    "[Simple Linear Regression](https://en.wikipedia.org/wiki/Simple_linear_regression#Fitting_the_regression_line)\n",
    "\n",
    "### $$\\hat{y} = \\beta_0 + \\beta_1 x$$\n",
    "\n",
    "> ### $$ \\beta_1 = \\frac{\\sum_{i=1}^n (y_i - \\bar{y} ) (x_i - \\bar{x} )}{\\sum_{i=1}^n (x_i - \\bar{x})^2} $$\n",
    "\n",
    "and\n",
    "\n",
    "> ### $$ \\beta_0 = \\bar{y} - \\beta_1\\bar{x} $$\n",
    "\n",
    "Given variables:\n",
    "- $\\bar{y}$ : the sample mean of observed values $Y$\n",
    "- $\\bar{x}$ : the sample mean of observed values $X$"
   ]
  },
  {
   "cell_type": "markdown",
   "metadata": {},
   "source": [
    "##### 2.5 Define X, Y\n",
    "\n",
    "- X = Predictor Variable \n",
    "- Y = Target Variable"
   ]
  },
  {
   "cell_type": "code",
   "execution_count": 48,
   "metadata": {},
   "outputs": [],
   "source": [
    "# ANSWER\n",
    "X = house_csv['sq__ft']\n",
    "Y = house_csv['price']"
   ]
  },
  {
   "cell_type": "markdown",
   "metadata": {},
   "source": [
    "##### 2.5.A Calculate beta_1\n",
    "\n",
    " ### $$ \\beta_1 = \\frac{\\sum_{i=1}^n (y_i - \\bar{y} ) (x_i - \\bar{x} )}{\\sum_{i=1}^n (x_i - \\bar{x})^2} $$"
   ]
  },
  {
   "cell_type": "code",
   "execution_count": 49,
   "metadata": {},
   "outputs": [],
   "source": [
    "# ANSWER\n",
    "def calculate_beta_1(X, Y):\n",
    "    Xbar = X.mean()\n",
    "    Ybar = Y.mean()\n",
    "    \n",
    "    n = np.sum((Y - Ybar) * (X - Xbar)) \n",
    "    d = np.sum(np.square(X - Xbar)) \n",
    "    \n",
    "    beta_1 = n/d\n",
    "    \n",
    "    return beta_1"
   ]
  },
  {
   "cell_type": "code",
   "execution_count": 50,
   "metadata": {},
   "outputs": [
    {
     "data": {
      "text/plain": [
       "54.158639688530755"
      ]
     },
     "execution_count": 50,
     "metadata": {},
     "output_type": "execute_result"
    }
   ],
   "source": [
    "beta_1 = calculate_beta_1(X, Y)\n",
    "beta_1"
   ]
  },
  {
   "cell_type": "markdown",
   "metadata": {},
   "source": [
    "##### 2.5.B Calculate beta_0"
   ]
  },
  {
   "cell_type": "markdown",
   "metadata": {},
   "source": [
    "### $$ \\beta_0 = \\bar{y} - \\beta_1\\bar{x} $$"
   ]
  },
  {
   "cell_type": "code",
   "execution_count": 51,
   "metadata": {},
   "outputs": [],
   "source": [
    "# ANSWER\n",
    "def calculate_beta_0(X, Y):\n",
    "    \n",
    "    Xbar = X.mean()\n",
    "    Ybar = Y.mean()\n",
    "    \n",
    "    beta_0 = Ybar - calculate_beta_1(X, Y) * Xbar\n",
    "    \n",
    "    return beta_0"
   ]
  },
  {
   "cell_type": "code",
   "execution_count": 52,
   "metadata": {},
   "outputs": [
    {
     "data": {
      "text/plain": [
       "162930.16140699777"
      ]
     },
     "execution_count": 52,
     "metadata": {},
     "output_type": "execute_result"
    }
   ],
   "source": [
    "beta_0 = calculate_beta_0(X, Y)\n",
    "beta_0"
   ]
  },
  {
   "cell_type": "markdown",
   "metadata": {},
   "source": [
    "##### 2.4.C Find Yhat (Predicted Value Using Beta 0 and Beta 1)"
   ]
  },
  {
   "cell_type": "markdown",
   "metadata": {},
   "source": [
    "### $$\\hat{y} = \\beta_0 + \\beta_1 x$$"
   ]
  },
  {
   "cell_type": "code",
   "execution_count": 54,
   "metadata": {},
   "outputs": [],
   "source": [
    "# ANSWER\n",
    "def calculate_yhat(x, b0, b1):\n",
    "    return b0 + b1 * x"
   ]
  },
  {
   "cell_type": "code",
   "execution_count": 55,
   "metadata": {},
   "outputs": [
    {
     "data": {
      "text/plain": [
       "0      208206.784187\n",
       "1      226133.293924\n",
       "2      206040.438599\n",
       "3      209073.322422\n",
       "4      206094.597239\n",
       "5      223696.155138\n",
       "6      222721.299623\n",
       "7      226674.880320\n",
       "8      213893.441354\n",
       "9      224995.962490\n",
       "10     212160.364884\n",
       "11     232740.647966\n",
       "12     210102.336576\n",
       "13     218171.973889\n",
       "14     218280.291169\n",
       "15     224346.058814\n",
       "16     208640.053304\n",
       "17     205986.279959\n",
       "18     194775.441544\n",
       "19     236369.276825\n",
       "20     223479.520579\n",
       "21     234906.993553\n",
       "22     230086.874621\n",
       "23     249638.143548\n",
       "24     211727.095766\n",
       "25     221854.761388\n",
       "26     215084.931427\n",
       "27     223533.679218\n",
       "28     237669.084177\n",
       "29     230520.143738\n",
       "           ...      \n",
       "955    237181.656420\n",
       "956    233877.979399\n",
       "957    231278.364694\n",
       "958    257166.194465\n",
       "959    245088.817814\n",
       "960    241460.188955\n",
       "961    239618.795206\n",
       "962    211023.033450\n",
       "963    264856.721301\n",
       "964    233444.710281\n",
       "965    239727.112485\n",
       "966    162930.161407\n",
       "967    234365.407156\n",
       "968    258790.953656\n",
       "969    251046.268180\n",
       "970    162930.161407\n",
       "971    219255.146683\n",
       "972    214922.455508\n",
       "973    162930.161407\n",
       "974    241785.140793\n",
       "975    241460.188955\n",
       "976    236477.594104\n",
       "977    234906.993553\n",
       "978    255812.228473\n",
       "979    231278.364694\n",
       "980    286411.859897\n",
       "981    242922.472227\n",
       "982    228787.067268\n",
       "983    254187.469282\n",
       "984    236694.228663\n",
       "Name: sq__ft, Length: 985, dtype: float64"
      ]
     },
     "execution_count": 55,
     "metadata": {},
     "output_type": "execute_result"
    }
   ],
   "source": [
    "Yhat = calculate_yhat(X, beta_0, beta_1)\n",
    "Yhat"
   ]
  },
  {
   "cell_type": "code",
   "execution_count": 56,
   "metadata": {},
   "outputs": [],
   "source": [
    "def calculate_residual(Y, Yhat):\n",
    "    res = Y - Yhat\n",
    "    return res"
   ]
  },
  {
   "cell_type": "markdown",
   "metadata": {},
   "source": [
    "##### 2.5.D Find Resudals"
   ]
  },
  {
   "cell_type": "markdown",
   "metadata": {},
   "source": [
    "### $$ \\text{residual}_i = y_i - \\hat{y}_i$$"
   ]
  },
  {
   "cell_type": "code",
   "execution_count": 58,
   "metadata": {},
   "outputs": [
    {
     "data": {
      "text/plain": [
       "0      148984.784187\n",
       "1      157921.293924\n",
       "2      137160.438599\n",
       "3      139766.322422\n",
       "4      124194.597239\n",
       "5      133775.155138\n",
       "6      131826.299623\n",
       "7      135672.880320\n",
       "8      118988.441354\n",
       "9      126058.962490\n",
       "10     111851.364884\n",
       "11     126490.647966\n",
       "12     103250.336576\n",
       "13     110669.973889\n",
       "14     109530.291169\n",
       "15     113646.058814\n",
       "16      95377.053304\n",
       "17      89736.279959\n",
       "18      74775.441544\n",
       "19     114739.276825\n",
       "20     101479.520579\n",
       "21     112224.993553\n",
       "22     107086.874621\n",
       "23     125538.143548\n",
       "24      86727.095766\n",
       "25      95214.761388\n",
       "26      87803.931427\n",
       "27      94533.679218\n",
       "28     106469.084177\n",
       "29      98520.143738\n",
       "           ...      \n",
       "955     28931.656420\n",
       "956     25559.979399\n",
       "957     21931.364694\n",
       "958     45666.194465\n",
       "959     33088.817814\n",
       "960     28460.188955\n",
       "961     23618.795206\n",
       "962      4997.966550\n",
       "963     45856.721301\n",
       "964     13650.710281\n",
       "965     19727.112485\n",
       "966     57069.838593\n",
       "967     14365.407156\n",
       "968     38790.953656\n",
       "969     28046.268180\n",
       "970     61069.838593\n",
       "971      4744.853317\n",
       "972      9329.544492\n",
       "973     61569.838593\n",
       "974     16785.140793\n",
       "975     13460.188955\n",
       "976      7450.594104\n",
       "977      5406.993553\n",
       "978     25812.228473\n",
       "979      1278.364694\n",
       "980     53986.859897\n",
       "981      8922.472227\n",
       "982      6212.932732\n",
       "983     18886.469282\n",
       "984       956.228663\n",
       "Length: 985, dtype: float64"
      ]
     },
     "execution_count": 58,
     "metadata": {},
     "output_type": "execute_result"
    }
   ],
   "source": [
    "# ANSWER\n",
    "resi = calculate_residual(Y, Yhat)\n",
    "abs(resi)"
   ]
  },
  {
   "cell_type": "markdown",
   "metadata": {},
   "source": [
    "##### 2.5.D Find R-Square\n",
    "\n",
    "The coefficient $R^2$ is defined as $$ R^2 = 1 - \\frac{SS_{res}}{SS_{tot}} $$, where $$ SS_{res} $$ is the residual sum of squares $$ SS_{res} = \\sum_{i=1}^n \\left(y_i - \\hat{y}_i\\right)^2 $$ and $$ SS_{res} $$ is the total sum of squares $$ SS_{tot} = \\sum_{i=1}^n \\left(y_i - \\bar{y}\\right)^2 $$\n",
    "\n",
    "The best possible score is 1.0 and it can be negative (because the model can be arbitrarily worse).\n",
    "\n",
    "**Write a function to calculate R- Square value.**"
   ]
  },
  {
   "cell_type": "markdown",
   "metadata": {},
   "source": [
    "The total sum of squares:\n",
    "\n",
    "### $$ SS_{tot} = \\sum_{i=1}^n \\left(y_i - \\bar{y}\\right)^2 $$\n",
    "\n",
    "The residual sum of squares:\n",
    "\n",
    "### $$ SS_{res} = \\sum_{i=1}^n \\left(y_i - \\hat{y}_i\\right)^2 $$\n",
    "\n",
    "$R^2$:\n",
    "\n",
    "### $$ R^2 = 1 - \\frac{SS_{res}}{SS_{tot}} $$"
   ]
  },
  {
   "cell_type": "code",
   "execution_count": 59,
   "metadata": {},
   "outputs": [],
   "source": [
    "# ANSWER\n",
    "def calculate_total_sum_of_square(Y):\n",
    "    Ybar = np.mean(Y)\n",
    "    SStot = np.square(Y - Ybar)\n",
    "    SStot = np.sum(SStot)\n",
    "    return SStot"
   ]
  },
  {
   "cell_type": "code",
   "execution_count": 60,
   "metadata": {},
   "outputs": [],
   "source": [
    "def calculate_residula_sum_of_square(Y, Yhat):\n",
    "    SSres = np.square(Y - Yhat)\n",
    "    SSres = np.sum(SSres)\n",
    "    return SSres"
   ]
  },
  {
   "cell_type": "code",
   "execution_count": 61,
   "metadata": {},
   "outputs": [],
   "source": [
    "def calculate_r_square(Y, Yhat):\n",
    "    SStot = calculate_total_sum_of_square(Y)\n",
    "    SSres = calculate_residula_sum_of_square(Y, Yhat)\n",
    "    Rsquare = 1 - (SSres/SStot)\n",
    "    return Rsquare"
   ]
  },
  {
   "cell_type": "code",
   "execution_count": 62,
   "metadata": {},
   "outputs": [
    {
     "data": {
      "text/plain": [
       "0.0"
      ]
     },
     "execution_count": 62,
     "metadata": {},
     "output_type": "execute_result"
    }
   ],
   "source": [
    "calculate_r_square(Y, np.mean(Y))"
   ]
  },
  {
   "cell_type": "code",
   "execution_count": 63,
   "metadata": {},
   "outputs": [
    {
     "data": {
      "text/plain": [
       "0.11148717682951459"
      ]
     },
     "execution_count": 63,
     "metadata": {},
     "output_type": "execute_result"
    }
   ],
   "source": [
    "calculate_r_square(Y, calculate_yhat(X, beta_0, beta_1))"
   ]
  },
  {
   "cell_type": "markdown",
   "metadata": {},
   "source": [
    "##### 2.5.G [BONUS] Draw Plot of Predicted Line"
   ]
  },
  {
   "cell_type": "code",
   "execution_count": 64,
   "metadata": {},
   "outputs": [
    {
     "data": {
      "image/png": "[encoded data removed]",
      "text/plain": [
       "<Figure size 1080x504 with 1 Axes>"
      ]
     },
     "metadata": {
      "needs_background": "light"
     },
     "output_type": "display_data"
    }
   ],
   "source": [
    "# ANSWER\n",
    "draw_plot(X, Y, Yhat)"
   ]
  },
  {
   "cell_type": "markdown",
   "metadata": {},
   "source": [
    "##### 2.5.G [BONUS] Draw Plot of Predicted Line With Resudals"
   ]
  },
  {
   "cell_type": "code",
   "execution_count": 65,
   "metadata": {},
   "outputs": [],
   "source": [
    "# ANSWER\n",
    "house_csv['Yhat'] = Yhat"
   ]
  },
  {
   "cell_type": "code",
   "execution_count": 67,
   "metadata": {},
   "outputs": [
    {
     "data": {
      "image/png": "[encoded data removed]",
      "text/plain": [
       "<Figure size 1080x576 with 1 Axes>"
      ]
     },
     "metadata": {
      "needs_background": "light"
     },
     "output_type": "display_data"
    }
   ],
   "source": [
    "# create a figure\n",
    "fig = plt.figure(figsize=(15,7))\n",
    "fig.set_figheight(8)\n",
    "fig.set_figwidth(15)\n",
    "\n",
    "# get the axis\n",
    "ax = fig.gca()\n",
    "\n",
    "# plot it\n",
    "ax.scatter(x=X, y=Y, c='b')\n",
    "ax.plot(X, Yhat, color='r');\n",
    "\n",
    "# iterate over predictions\n",
    "for _, row in house_csv.iterrows():\n",
    "    plt.plot((row['sq__ft'], row['sq__ft']), (row['price'], row['Yhat']), 'g-')"
   ]
  },
  {
   "cell_type": "markdown",
   "metadata": {},
   "source": [
    "### 3. Predict House Price\n",
    "\n",
    "Let's assume we have information of following house:\n",
    "\n",
    "- street:\t1140 EDMONTON DR\n",
    "- city:\tSACRAMENTO\n",
    "- zip:\t95833\n",
    "- state:\tCA\n",
    "- beds:\t3\n",
    "- baths:\t2\n",
    "- sq__ft:\t1204\n",
    "- type:\tResidential\n",
    "\n",
    "**Predict the price of this house.**"
   ]
  },
  {
   "cell_type": "code",
   "execution_count": 68,
   "metadata": {},
   "outputs": [
    {
     "data": {
      "text/plain": [
       "1204"
      ]
     },
     "execution_count": 68,
     "metadata": {},
     "output_type": "execute_result"
    }
   ],
   "source": [
    "# ANSWER\n",
    "xpred = 1204\n",
    "xpred"
   ]
  },
  {
   "cell_type": "code",
   "execution_count": 69,
   "metadata": {},
   "outputs": [
    {
     "data": {
      "text/plain": [
       "162930.16140699777"
      ]
     },
     "execution_count": 69,
     "metadata": {},
     "output_type": "execute_result"
    }
   ],
   "source": [
    "beta_0"
   ]
  },
  {
   "cell_type": "code",
   "execution_count": 70,
   "metadata": {},
   "outputs": [
    {
     "data": {
      "text/plain": [
       "54.158639688530755"
      ]
     },
     "execution_count": 70,
     "metadata": {},
     "output_type": "execute_result"
    }
   ],
   "source": [
    "beta_1"
   ]
  },
  {
   "cell_type": "code",
   "execution_count": 71,
   "metadata": {},
   "outputs": [
    {
     "data": {
      "text/plain": [
       "228137.1635919888"
      ]
     },
     "execution_count": 71,
     "metadata": {},
     "output_type": "execute_result"
    }
   ],
   "source": [
    "Ypred = beta_1 * xpred + beta_0\n",
    "Ypred"
   ]
  },
  {
   "cell_type": "code",
   "execution_count": null,
   "metadata": {},
   "outputs": [],
   "source": []
  }
 ],
 "metadata": {
  "kernelspec": {
   "display_name": "Python 3",
   "language": "python",
   "name": "python3"
  },
  "language_info": {
   "codemirror_mode": {
    "name": "ipython",
    "version": 3
   },
   "file_extension": ".py",
   "mimetype": "text/x-python",
   "name": "python",
   "nbconvert_exporter": "python",
   "pygments_lexer": "ipython3",
   "version": "3.7.3"
  }
 },
 "nbformat": 4,
 "nbformat_minor": 2
}
