{
 "cells": [
  {
   "cell_type": "markdown",
   "metadata": {},
   "source": [
    "https://docs.microsoft.com/en-us/azure/search/search-query-simple-examples"
   ]
  },
  {
   "cell_type": "code",
   "execution_count": null,
   "metadata": {},
   "outputs": [],
   "source": [
    "#Why cloud computing\n",
    "# to present the work we need servers, storage, developers, dedicated network and application security\n",
    "#This requires a lot of investment before getting the recognition and once you get the recognition and \n",
    "#people start using it then you need more space.\n",
    "#This requirement is fulfilled by the cloud computing."
   ]
  },
  {
   "cell_type": "code",
   "execution_count": null,
   "metadata": {},
   "outputs": [],
   "source": [
    "#Cloud computing is a platform that provides access to computing services over the internet"
   ]
  },
  {
   "cell_type": "code",
   "execution_count": null,
   "metadata": {},
   "outputs": [],
   "source": [
    "#Cloud providers have a massive datacentres which have hundreds of servers, storage systems and components. \n",
    "#These are safe and secured locations where a large amount of data is stored\n",
    "#Users can access service as per their requirement"
   ]
  },
  {
   "cell_type": "code",
   "execution_count": null,
   "metadata": {},
   "outputs": [],
   "source": [
    "#Cloud computing is used for many services like MACHINE LEARNING AND DATA ANALYSIS, DATA STORAGE AND BACKUP, STERAMING MEDIA\n",
    "#CONTENT LIKE NETFLIX, CREATING AND TESTING APPLICATIONS, AUTOMATING SOFTWARE DELIVERY and HOSTING BLOGS AND APPLICATIONS"
   ]
  },
  {
   "cell_type": "code",
   "execution_count": null,
   "metadata": {},
   "outputs": [],
   "source": [
    "#azure is a cloud computing platform and an online portal to access and mange the resources and services(store and\n",
    "#transform the data) provided by microsoft\n",
    "#all you need is internet and connection to Azure portal\n"
   ]
  },
  {
   "cell_type": "code",
   "execution_count": null,
   "metadata": {},
   "outputs": [],
   "source": [
    "#Features: free to start, pay for only the services you use, 80% of the fortune 500 countries use Azure\n",
    "#services, supports multiple programming languages, Datacenters in 42 regions"
   ]
  },
  {
   "cell_type": "code",
   "execution_count": null,
   "metadata": {},
   "outputs": [],
   "source": [
    "Create a workspace\n",
    "Create a notebook VM in your workspace.\n",
    "Launch the Jupyter web interface.\n",
    "Open a notebook that contains code to estimate pi and logs errors at each iteration.\n",
    "Run the notebook.\n",
    "View the logged error values in your workspace. This example shows how the workspace can help you keep \n",
    "track of information generated in a script."
   ]
  }
 ],
 "metadata": {
  "kernelspec": {
   "display_name": "Python 3",
   "language": "python",
   "name": "python3"
  },
  "language_info": {
   "codemirror_mode": {
    "name": "ipython",
    "version": 3
   },
   "file_extension": ".py",
   "mimetype": "text/x-python",
   "name": "python",
   "nbconvert_exporter": "python",
   "pygments_lexer": "ipython3",
   "version": "3.7.3"
  }
 },
 "nbformat": 4,
 "nbformat_minor": 2
}
