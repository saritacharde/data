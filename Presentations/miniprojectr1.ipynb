{
 "cells": [
  {
   "cell_type": "markdown",
   "metadata": {},
   "source": [
    "In this project you will use a web service to find out the current location of the International Space Station (ISS) \n",
    "You’re going to use a web service that provides live information about space. First let’s find out who is currently in space."
   ]
  },
  {
   "cell_type": "markdown",
   "metadata": {},
   "source": [
    "This is an open notify API project"
   ]
  },
  {
   "cell_type": "markdown",
   "metadata": {},
   "source": [
    "A web service has an address (url) just like a web page does. Instead of returning HTML for a web page it returns data.\n",
    "\n",
    "Open http://api.open-notify.org/astros.json in a web browser."
   ]
  },
  {
   "cell_type": "markdown",
   "metadata": {},
   "source": [
    "The urllib.request and json modules have already been imported for you."
   ]
  },
  {
   "cell_type": "code",
   "execution_count": 3,
   "metadata": {},
   "outputs": [],
   "source": [
    "import json\n",
    "import urllib.request\n",
    "import time\n",
    "from datetime import datetime, date, time"
   ]
  },
  {
   "cell_type": "markdown",
   "metadata": {},
   "source": [
    "Now let’s call the web service\n",
    "Next you need to load the JSON reponse into a Python data structure:"
   ]
  },
  {
   "cell_type": "code",
   "execution_count": 4,
   "metadata": {},
   "outputs": [],
   "source": [
    "# http://open-notify.org/Open-Notify-API/\n",
    "url = 'http://api.open-notify.org/astros.json'\n",
    "response = urllib.request.urlopen(url)\n",
    "result = json.loads(response.read())"
   ]
  },
  {
   "cell_type": "code",
   "execution_count": 5,
   "metadata": {},
   "outputs": [
    {
     "name": "stdout",
     "output_type": "stream",
     "text": [
      "{'people': [{'craft': 'ISS', 'name': 'Alexey Ovchinin'}, {'craft': 'ISS', 'name': 'Nick Hague'}, {'craft': 'ISS', 'name': 'Christina Koch'}], 'number': 3, 'message': 'success'}\n"
     ]
    }
   ],
   "source": [
    "print(result)"
   ]
  },
  {
   "cell_type": "markdown",
   "metadata": {},
   "source": [
    "This is a Python dictionary with 3 keys: message, number and people.\n",
    "\n",
    "The ‘success’ value of message tells you that the request was successful."
   ]
  },
  {
   "cell_type": "markdown",
   "metadata": {},
   "source": [
    "result['number'] will print the value associated with the key ‘number’ in the result dictionary. In the example this is 3."
   ]
  },
  {
   "cell_type": "code",
   "execution_count": 6,
   "metadata": {},
   "outputs": [
    {
     "name": "stdout",
     "output_type": "stream",
     "text": [
      "People in Space:  3\n"
     ]
    }
   ],
   "source": [
    "print('People in Space: ', result['number'])"
   ]
  },
  {
   "cell_type": "markdown",
   "metadata": {},
   "source": [
    "The value associated with the ‘people’ key is a list of dictionaries! Let’s put that value into a variable so you can use it:"
   ]
  },
  {
   "cell_type": "code",
   "execution_count": 7,
   "metadata": {},
   "outputs": [],
   "source": [
    "people = result['people']"
   ]
  },
  {
   "cell_type": "code",
   "execution_count": 8,
   "metadata": {},
   "outputs": [
    {
     "name": "stdout",
     "output_type": "stream",
     "text": [
      "[{'craft': 'ISS', 'name': 'Alexey Ovchinin'}, {'craft': 'ISS', 'name': 'Nick Hague'}, {'craft': 'ISS', 'name': 'Christina Koch'}]\n"
     ]
    }
   ],
   "source": [
    "print(people)"
   ]
  },
  {
   "cell_type": "markdown",
   "metadata": {},
   "source": [
    "Note that you will see different results depending on who is currently in space!"
   ]
  },
  {
   "cell_type": "markdown",
   "metadata": {},
   "source": [
    "Now you need to print out a line for each astronaut.\n",
    "\n",
    "You can use a for loop to do this in Python. Each time through the loop p will be set to a dictionary for a different astronaut."
   ]
  },
  {
   "cell_type": "code",
   "execution_count": 9,
   "metadata": {},
   "outputs": [
    {
     "name": "stdout",
     "output_type": "stream",
     "text": [
      "{'craft': 'ISS', 'name': 'Alexey Ovchinin'}\n",
      "{'craft': 'ISS', 'name': 'Nick Hague'}\n",
      "{'craft': 'ISS', 'name': 'Christina Koch'}\n"
     ]
    }
   ],
   "source": [
    "for p in people:\n",
    "    print(p)"
   ]
  },
  {
   "cell_type": "code",
   "execution_count": 10,
   "metadata": {},
   "outputs": [
    {
     "name": "stdout",
     "output_type": "stream",
     "text": [
      "Alexey Ovchinin\n",
      "Nick Hague\n",
      "Christina Koch\n"
     ]
    }
   ],
   "source": [
    "for p in people:\n",
    "    print(p['name'])"
   ]
  },
  {
   "cell_type": "markdown",
   "metadata": {},
   "source": [
    "You can then look up the values for ‘name’ and ‘craft’\n",
    "I can show the name of the craft"
   ]
  },
  {
   "cell_type": "code",
   "execution_count": 11,
   "metadata": {},
   "outputs": [
    {
     "name": "stdout",
     "output_type": "stream",
     "text": [
      "Alexey Ovchinin  in  ISS\n",
      "Nick Hague  in  ISS\n",
      "Christina Koch  in  ISS\n"
     ]
    }
   ],
   "source": [
    "for p in people:\n",
    "  print(p['name'], ' in ', p['craft'])\n"
   ]
  },
  {
   "cell_type": "code",
   "execution_count": 12,
   "metadata": {},
   "outputs": [
    {
     "name": "stdout",
     "output_type": "stream",
     "text": [
      "{'iss_position': {'longitude': '27.9900', 'latitude': '-51.1011'}, 'timestamp': 1563192183, 'message': 'success'}\n"
     ]
    }
   ],
   "source": [
    "url = 'http://api.open-notify.org/iss-now.json'\n",
    "response = urllib.request.urlopen(url)\n",
    "result = json.loads(response.read())\n",
    "print(result)"
   ]
  },
  {
   "cell_type": "markdown",
   "metadata": {},
   "source": [
    "Let’s create variables to store the latitude and longitude, and then print them:"
   ]
  },
  {
   "cell_type": "code",
   "execution_count": 13,
   "metadata": {},
   "outputs": [
    {
     "name": "stdout",
     "output_type": "stream",
     "text": [
      "Latitude:  -51.1011\n",
      "Longitude:  27.9900\n"
     ]
    }
   ],
   "source": [
    "location = result['iss_position']\n",
    "lat = location['latitude']\n",
    "lon = location['longitude']\n",
    "print('Latitude: ', lat)\n",
    "print('Longitude: ', lon)"
   ]
  },
  {
   "cell_type": "code",
   "execution_count": 14,
   "metadata": {},
   "outputs": [],
   "source": [
    "#The result contains the coordinates of the spot on Earth that the ISS is currently over. so against the cooerdinates we \n",
    "#can check its position, like above wchich country"
   ]
  },
  {
   "cell_type": "code",
   "execution_count": 15,
   "metadata": {},
   "outputs": [],
   "source": [
    "url = 'http://api.open-notify.org/iss-pass.json?lat=' + str(lat) + '&lon=' + str(lon)\n",
    "response = urllib.request.urlopen(url)\n",
    "result = json.loads(response.read())\n"
   ]
  },
  {
   "cell_type": "code",
   "execution_count": 16,
   "metadata": {},
   "outputs": [],
   "source": [
    "import time\n",
    "#The time.ctime() function will convert the time to a readable form "
   ]
  },
  {
   "cell_type": "code",
   "execution_count": 17,
   "metadata": {},
   "outputs": [
    {
     "name": "stdout",
     "output_type": "stream",
     "text": [
      "1563258138\n"
     ]
    }
   ],
   "source": [
    "#print result\n",
    "over = print(result['response'][1]['risetime'])\n"
   ]
  },
  {
   "cell_type": "markdown",
   "metadata": {},
   "source": [
    "The time is given as a timestamp so we’ll need the Python time module so we can print it in a readable form and convert it \n",
    "to local time. "
   ]
  },
  {
   "cell_type": "code",
   "execution_count": 18,
   "metadata": {},
   "outputs": [
    {
     "name": "stdout",
     "output_type": "stream",
     "text": [
      "Local time: Mon Jul 15 22:03:20 2019\n"
     ]
    }
   ],
   "source": [
    "local_time = time.ctime(over)\n",
    "print(\"Local time:\", local_time)"
   ]
  },
  {
   "cell_type": "code",
   "execution_count": null,
   "metadata": {},
   "outputs": [],
   "source": []
  }
 ],
 "metadata": {
  "kernelspec": {
   "display_name": "Python 3",
   "language": "python",
   "name": "python3"
  },
  "language_info": {
   "codemirror_mode": {
    "name": "ipython",
    "version": 3
   },
   "file_extension": ".py",
   "mimetype": "text/x-python",
   "name": "python",
   "nbconvert_exporter": "python",
   "pygments_lexer": "ipython3",
   "version": "3.7.3"
  }
 },
 "nbformat": 4,
 "nbformat_minor": 2
}
